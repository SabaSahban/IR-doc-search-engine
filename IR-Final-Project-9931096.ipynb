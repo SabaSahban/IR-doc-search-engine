{
 "cells": [
  {
   "cell_type": "code",
   "execution_count": 26,
   "id": "initial_id",
   "metadata": {
    "collapsed": true,
    "ExecuteTime": {
     "end_time": "2025-01-10T23:00:12.651911Z",
     "start_time": "2025-01-10T23:00:12.538841Z"
    }
   },
   "outputs": [],
   "source": [
    "import re\n",
    "import collections\n",
    "import math\n",
    "import json\n",
    "import numpy as np\n",
    "from collections import Counter\n",
    "from hazm import Normalizer, word_tokenize, Stemmer"
   ]
  },
  {
   "cell_type": "code",
   "execution_count": 27,
   "outputs": [
    {
     "data": {
      "text/plain": "{'title': 'سجادی :حضور تماشاگران در  لیگ برتر فوتبال تابع نظر فدراسیون  و سازمان لیگ است',\n 'content': '\\nبه گزارش خبرگزاری فارس، سید حمید سجادی در حاشیه مراسم گرامیداشت روز جوان در جمع خبرنگاران در رابطه با عرضه سهام سرخابی\\u200cها در بورس اظهار داشت: منتظر طی روند هستیم و بعدا اطلاع رسانی خواهیم کرد. وی در مورد حضور تماشاگران در مسابقات فوتبال اظهار داشت:\\xa0حضور تماشاگران در\\xa0 لیگ برتر فوتبال تابع نظر فدراسیون ،سازمان لیگ و ستاد ملی مبارزه با کرونا است. انتهای پیام/\\n\\n\\n',\n 'url': 'https://www.farsnews.ir/news/14001224000982/سجادی-حضور-تماشاگران-در-لیگ-برتر-فوتبال-تابع-نظر-فدراسیون-و-سازمان'}"
     },
     "execution_count": 27,
     "metadata": {},
     "output_type": "execute_result"
    }
   ],
   "source": [
    "def load_docs():\n",
    "    docs = {}\n",
    "    contents = []\n",
    "    urls = []\n",
    "    with open(\"IR_data_news_12k.json\", 'r') as file:\n",
    "        docs = json.load(file)\n",
    "        for key in docs.keys():\n",
    "            idx = str(key)\n",
    "            docs[idx] = {'title': docs[idx]['title'],\n",
    "                         'content': docs[idx]['content'],\n",
    "                         'url': docs[idx]['url'],\n",
    "                         }\n",
    "            contents.append(docs[idx]['content'])\n",
    "    return docs, contents, urls\n",
    "\n",
    "docs, contents, urls = load_docs()\n",
    "docs['1']"
   ],
   "metadata": {
    "collapsed": false,
    "ExecuteTime": {
     "end_time": "2025-01-10T23:00:13.282125Z",
     "start_time": "2025-01-10T23:00:12.548559Z"
    }
   },
   "id": "660083e3ccffa505"
  },
  {
   "cell_type": "code",
   "execution_count": 28,
   "outputs": [],
   "source": [
    "ABBREVIATIONS_FILE = \"abbreviations.txt\"\n",
    "\n",
    "SPACING_PATTERNS = [\n",
    "    (r\"(\\S)(ها|هاي|هایی|تر|تري|ترین|گر|گري|ام|ات|اش)(\\s|$)\", r\"\\1‌\\2 \"),\n",
    "    (r\"\\b(می|نمی)\\s+(\\S)\", r\"\\1‌\\2\"),\n",
    "]\n",
    "\n",
    "EXTRA_PUNCT_PATTERN = r\"[!<>.,؛،:\\-–_=+(){}\\[\\]…\\\"\\'?؟«»٪%]+\"\n",
    "normalizer = Normalizer()\n",
    "\n",
    "\n",
    "def load_abbreviations(file_path):\n",
    "    \"\"\"Loads abbreviations from the file into a dictionary.\"\"\"\n",
    "    abbreviations = {}\n",
    "    with open(file_path, 'r', encoding='utf-8') as f:\n",
    "        for line in f:\n",
    "            try:\n",
    "                entry = eval(line.strip()) \n",
    "                abbreviations.update(entry)\n",
    "            except Exception as e:\n",
    "                print(f\"Error parsing line: {line.strip()} - {e}\")\n",
    "    return abbreviations\n",
    "\n",
    "\n",
    "def expand_abbreviations(text, abbreviations):\n",
    "    \"\"\"Expands abbreviations using the loaded abbreviations dictionary.\"\"\"\n",
    "    for short_form, expansion in abbreviations.items():\n",
    "        pattern = fr\"\\b{re.escape(short_form)}\\b\"\n",
    "        text = re.sub(pattern, expansion, text)\n",
    "    return text\n",
    "\n",
    "\n",
    "def spacing_correction(text):\n",
    "    \"\"\"Applies spacing corrections.\"\"\"\n",
    "    for pattern, repl in SPACING_PATTERNS:\n",
    "        text = re.sub(pattern, repl, text)\n",
    "    return text\n",
    "\n",
    "\n",
    "def remove_punct(text):\n",
    "    \"\"\"Removes diacritics and extra punctuation.\"\"\"\n",
    "    text = re.sub(EXTRA_PUNCT_PATTERN, \"\", text) \n",
    "    return text\n",
    "\n",
    "\n",
    "abbreviations = load_abbreviations(ABBREVIATIONS_FILE)\n",
    "\n",
    "def preprocess_single_text(text, expand_abbr=True, do_spacing_corr=True,\n",
    "                           remove_diacritics=True):\n",
    "   \n",
    "    if expand_abbr:\n",
    "        text = expand_abbreviations(text, abbreviations)\n",
    "\n",
    "    text = normalizer.normalize(text)  \n",
    "\n",
    "    if do_spacing_corr:\n",
    "        text = spacing_correction(text)\n",
    "\n",
    "    if remove_diacritics:\n",
    "        text = remove_punct(text)\n",
    "\n",
    "    tokens = word_tokenize(text)  \n",
    "    return tokens"
   ],
   "metadata": {
    "collapsed": false,
    "ExecuteTime": {
     "end_time": "2025-01-10T23:00:16.292701Z",
     "start_time": "2025-01-10T23:00:13.281048Z"
    }
   },
   "id": "b08413092e1dba1d"
  },
  {
   "cell_type": "code",
   "execution_count": 43,
   "outputs": [
    {
     "name": "stdout",
     "output_type": "stream",
     "text": [
      "Test 1:\n",
      "Original: من   می خواهم که نمی روم  به این مکان. همچنین کتاب‌هایم  ترمیم شدند.\n",
      "Processed Tokens: ['من', 'می\\u200cخواهم', 'که', 'نمی\\u200cروم', 'به', 'این', 'مکان', 'همچنین', 'کتاب\\u200cهایم', 'ترمیم', 'شدند']\n",
      "--------------------------------------------------\n",
      "Test 2:\n",
      "Original: كاف و يای عربی به شکل فارسی تبدیل می‌شود. بسم‌الله الرّحمن الرّحيم.\n",
      "Processed Tokens: ['کاف', 'و', 'یای', 'عربی', 'به', 'شکل', 'فارسی', 'تبدیل', 'می\\u200cشود', 'بسم\\u200cالله', 'الرحمن', 'الرحیم']\n",
      "--------------------------------------------------\n",
      "Test 3:\n",
      "Original: إِنَّ اللهَ غَفورٌ رَحيمٌ.\n",
      "Processed Tokens: ['إن', 'الله', 'غفور', 'رحیم']\n",
      "--------------------------------------------------\n",
      "Test 4:\n",
      "Original: سلام! این یک جمله است... یا شاید جمله‌ای دیگر؟!\n",
      "Processed Tokens: ['سلام', 'این', 'یک', 'جمله', 'است', 'یا', 'شاید', 'جمله\\u200cای', 'دیگر']\n",
      "--------------------------------------------------\n",
      "Test 5:\n",
      "Original: شماره تماس 1234567890 به شماره ۱۲۳۴۵۶۷۸۹۰ تبدیل شود.\n",
      "Processed Tokens: ['شماره', 'تماس', '۱۲۳۴۵۶۷۸۹۰', 'به', 'شماره', '۱۲۳۴۵۶۷۸۹۰', 'تبدیل', 'شود']\n",
      "--------------------------------------------------\n",
      "Test 6:\n",
      "Original: در سال‌های گذشته کتاب‌های زیادی خواندم. سال‌ها می‌گذرد و کتاب‌ها تکرار می‌شوند.\n",
      "Processed Tokens: ['در', 'سال\\u200cهای', 'گذشته', 'کتاب\\u200cهای', 'زیادی', 'خواندم', 'سال\\u200c\\u200cها', 'می\\u200cگذرد', 'و', 'کتاب\\u200c\\u200cها', 'تکرار', 'می\\u200cشوند']\n",
      "--------------------------------------------------\n",
      "Test 7:\n",
      "Original: بِسْمِ اللَّهِ الرَّحْمَٰنِ الرَّحِيمِ و ﷽.\n",
      "Processed Tokens: ['بسم\\u200cالله', 'الرحمن', 'الرحیم', 'و', 'بسم', 'الله', 'الرحمن', 'الرحیم']\n",
      "--------------------------------------------------\n",
      "Test 8:\n",
      "Original: آیا !؟ و ... را باید حذف کنیم؟\n",
      "Processed Tokens: ['آیا', 'و', 'را', 'باید', 'حذف', 'کنیم']\n",
      "--------------------------------------------------\n",
      "Test 9:\n",
      "Original: نمی‌شود \"می‌خواهم\" را به دو توکن تبدیل کرد.\n",
      "Processed Tokens: ['نمی\\u200cشود', 'می\\u200cخواهم', 'را', 'به', 'دو', 'توکن', 'تبدیل', 'کرد']\n",
      "--------------------------------------------------\n",
      "Test 10:\n",
      "Original: ه.ش.\n",
      "Processed Tokens: ['هجری', 'شمسی']\n",
      "--------------------------------------------------\n"
     ]
    }
   ],
   "source": [
    "def test_normalization():\n",
    "    \"\"\"Tests the normalization pipeline with various sentences.\"\"\"\n",
    "    test_sentences = [\n",
    "        \"من   می خواهم که نمی روم  به این مکان. همچنین کتاب‌هایم  ترمیم شدند.\",\n",
    "        \"كاف و يای عربی به شکل فارسی تبدیل می‌شود. بسم‌الله الرّحمن الرّحيم.\",\n",
    "        \"إِنَّ اللهَ غَفورٌ رَحيمٌ.\",\n",
    "        \"سلام! این یک جمله است... یا شاید جمله‌ای دیگر؟!\",\n",
    "        \"شماره تماس 1234567890 به شماره ۱۲۳۴۵۶۷۸۹۰ تبدیل شود.\",\n",
    "        \"در سال‌های گذشته کتاب‌های زیادی خواندم. سال‌ها می‌گذرد و کتاب‌ها تکرار می‌شوند.\",\n",
    "        \"بِسْمِ اللَّهِ الرَّحْمَٰنِ الرَّحِيمِ و ﷽.\",\n",
    "        \"آیا !؟ و ... را باید حذف کنیم؟\",\n",
    "        \"نمی‌شود \\\"می‌خواهم\\\" را به دو توکن تبدیل کرد.\",\n",
    "        \"ه.ش.\"\n",
    "    ]\n",
    "    \n",
    "    for i, sentence in enumerate(test_sentences, 1):\n",
    "        print(f\"Test {i}:\")\n",
    "        print(\"Original:\", sentence)\n",
    "        tokens = preprocess_single_text(sentence)\n",
    "        print(\"Processed Tokens:\", tokens)\n",
    "        print(\"-\" * 50)\n",
    "\n",
    "# Run the test function\n",
    "test_normalization()"
   ],
   "metadata": {
    "collapsed": false,
    "ExecuteTime": {
     "end_time": "2025-01-10T23:40:01.008601Z",
     "start_time": "2025-01-10T23:40:00.992622Z"
    }
   },
   "id": "edaca9ab3e418760"
  },
  {
   "cell_type": "code",
   "execution_count": 30,
   "outputs": [],
   "source": [
    "stemmer = Stemmer()\n",
    "\n",
    "def stem_tokens(tokens):\n",
    "    \"\"\"Applies stemming to a list of tokens.\"\"\"\n",
    "    return [stemmer.stem(t) for t in tokens]\n",
    "\n",
    "def compute_top_k_frequent(tokens, k):\n",
    "    \"\"\"Computes the top-K most frequent tokens along with their frequencies.\"\"\"\n",
    "    token_counts = Counter(tokens)\n",
    "    sorted_tokens = sorted(token_counts.items(), key=lambda x: x[1], reverse=True)\n",
    "    return dict(sorted_tokens[:k])\n",
    "\n",
    "def simple_preprocess(content, top_k_tokens=None):\n",
    "    \"\"\"\n",
    "    Simplified preprocessing pipeline for a single document:\n",
    "      - Normalize and tokenize the content.\n",
    "      - Stem tokens.\n",
    "      - Optionally remove tokens present in `top_k_tokens`.\n",
    "    \"\"\"\n",
    "    # Step 1: Normalize and tokenize the content\n",
    "    tokens = preprocess_single_text(content)  \n",
    "\n",
    "    # Step 2: Stem tokens\n",
    "    tokens = stem_tokens(tokens) \n",
    "\n",
    "    # Step 3: Remove top-K frequent tokens if provided\n",
    "    if top_k_tokens:\n",
    "        tokens = [token for token in tokens if token not in top_k_tokens]\n",
    "\n",
    "    return tokens\n",
    "\n",
    "def preprocess_all_docs(docs, top_k=50):\n",
    "    \"\"\"\n",
    "    Preprocesses all documents while returning the same structure as required:\n",
    "      - Normalizes, tokenizes, and stems content for each document.\n",
    "      - Computes top-K frequent tokens across all documents.\n",
    "      - Removes top-K frequent tokens from each document's content.\n",
    "    \"\"\"\n",
    "    combined_tokens = []\n",
    "    all_tokens = {}\n",
    "\n",
    "    for doc_id, doc_data in docs.items():\n",
    "        content = doc_data['content']\n",
    "        tokens = simple_preprocess(content) \n",
    "        all_tokens[doc_id] = tokens\n",
    "        combined_tokens.extend(tokens)\n",
    "\n",
    "    top_k_tokens_with_counts = compute_top_k_frequent(combined_tokens, top_k)\n",
    "    top_k_tokens = set(top_k_tokens_with_counts.keys())  # Extract tokens only\n",
    "\n",
    "    for doc_id in all_tokens:\n",
    "        filtered_tokens = [token for token in all_tokens[doc_id] if token not in top_k_tokens]\n",
    "        docs[doc_id]['content'] = filtered_tokens\n",
    "\n",
    "    return docs, top_k_tokens_with_counts"
   ],
   "metadata": {
    "collapsed": false,
    "ExecuteTime": {
     "end_time": "2025-01-10T23:00:16.313891Z",
     "start_time": "2025-01-10T23:00:16.311634Z"
    }
   },
   "id": "4f5b3ea8c4ce8578"
  },
  {
   "cell_type": "code",
   "execution_count": 31,
   "outputs": [
    {
     "name": "stdout",
     "output_type": "stream",
     "text": [
      "\n",
      "Top-K Frequent Tokens:\n",
      "Token: و, Count: 234908\n",
      "Token: در, Count: 165135\n",
      "Token: به, Count: 136045\n",
      "Token: از, Count: 92977\n",
      "Token: این, Count: 83094\n",
      "Token: که, Count: 75480\n",
      "Token: با, Count: 69233\n",
      "Token: را, Count: 68677\n",
      "Token: اس, Count: 48513\n",
      "Token: برا, Count: 31029\n",
      "Token: کرد, Count: 26941\n",
      "Token: آن, Count: 24578\n",
      "Token: ه, Count: 24415\n",
      "Token: یک, Count: 22864\n",
      "Token: کشور, Count: 22345\n",
      "Token: ت, Count: 22173\n",
      "Token: ما, Count: 19785\n",
      "Token: خود, Count: 18861\n",
      "Token: بر, Count: 18807\n",
      "Token: شد, Count: 17270\n",
      "\n",
      "Processed Document Tokens:\n",
      "Doc 0 final tokens: ['گزار', 'خبرگزار', 'فارس', 'کنفدراسیون', 'فوتبال', 'آسیا', 'AFC', 'نامه', 'رسم', 'فدراسیون', 'فوتبال', 'ایر', 'باشگاه', 'گیت', 'پسند', 'ز', 'قرعه\\u200cکش', 'ج', 'باشگاه', 'فوتسال', 'آسیا', 'رسما', 'اعل', 'اساس', '۲۵', 'فروردین\\u200cماه', '۱۴۰۱', 'مراس', 'قرعه\\u200cکش', 'ج', 'باشگاه', 'فوتسال', 'آسیا', 'مالز', 'برگزار', 'می\\u200cشود', 'باشگاه', 'گیت', 'پسند', 'بعنو', 'قهر', 'فوتسال', 'ایر', 'سال', '۱۴۰۰', 'مسابق', 'راه', 'پیدا', 'کرده_اس', 'پ', 'گیت', 'پسند', 'تجربه', '۳', 'دوره', 'حضور', 'ج', 'باشگاه', 'فوتسال', 'آسیا', 'داشته', 'هر', 'سه', 'دوره', 'فینال', 'مسابق', 'راه', 'پیدا', 'کرده', 'عنو', 'قهرمان', 'دو', 'مق', 'دوم', 'بدس', 'آورده_اس', 'انت', 'پی', '/']\n",
      "Doc 1 final tokens: ['گزار', 'خبرگزار', 'فارس', 'سید', 'حمید', 'سجاد', 'حاشیه', 'مراس', 'گرامیدا', 'روز', 'جو', 'جمع', 'خبرنگار', 'رابطه', 'عرضه', 'سه', 'سرخابی\\u200c', 'بورس', 'اظهار', 'دا', 'منتظر', 'ط', 'روند', 'هست', 'بعدا', 'اطلاع\\u200cرسان', 'خواهیم_کرد', 'مورد', 'حضور', 'تماشاگر', 'مسابق', 'فوتبال', 'اظهار', 'دا', 'حضور', 'تماشاگر', 'لیگ', 'فوتبال', 'تابع', 'نظر', 'فدراسیون', 'ساز', 'لیگ', 'ستاد', 'مل', 'مبارزه', 'کرونا', 'انت', 'پی', '/']\n",
      "Doc 2 final tokens: ['گزار', 'خبرگزار', 'فارس', 'نشس', 'خبر', 'پ', 'مسابقه', 'سرمرب', 'دو', 'پرسپولیس', 'استقلال', 'هفته', 'بیس', 'سو', 'لیگ', 'مدیر', 'ساز', 'لیگ', 'هماهنگ', 'باشگاه', 'میزب', 'پرسپولیس', 'شرح', 'زیر', 'برگزار', 'می\\u200cشود', 'چهارشنبه', '۲۵', 'اسفند', 'ساع', '۱۵', 'فرهاد', 'مجید', 'سرمرب', 'استقلال', 'ساز', 'لیگ', 'فوتبال', 'ایر', 'ساع', '۱۳۳۰', 'یح', 'گل', 'محمد', 'سرمرب', 'پرسپولیس', 'ورزشگاه', 'شهید', 'کاظم', 'مسابقه', 'دو', 'روز', 'پنجشنبه', 'ورزشگاه', 'آزاد', 'برگزار', 'می\\u200cشود', 'انت', 'پی', '/']\n",
      "Doc 3 final tokens: ['گزار', 'خبرگزار', 'فارس', 'سید', 'رضا', 'صالح', 'امیر', 'رئیس', 'کمیته', 'مل', 'المپیک', 'دیدار', 'سید', 'میرشاد', 'ماجد', 'سرپرس', 'فدراسیون', 'فوتبال', 'آمادگ', 'کمیته', 'منظور', 'حما', 'همه\\u200cجانبه', 'المپیک', 'ایر', 'ضرور', 'پیش\\u200cبین', 'برنامه', 'آماده', 'ساز', 'مناسب', 'تاکید', 'گف', 'ضمن', 'آرزو', 'موفق', 'آقا', 'ماجد', 'عنو', 'چهره', 'اخلاق', 'فوتبال', 'ورز', 'تم', 'تلا', 'خواهد_بود', 'تا', 'امید', 'المپیک', 'محیط', 'آر', 'بدون', 'دغدغه', 'آماده', 'حضور', 'بازی', 'آسیا', 'شود', 'ضمن', 'اینکه', 'پ', 'اعل', 'دخالت', 'امور', 'فن', 'تیم\\u200c', 'نداشته', 'نخواهیم_دا', 'سرپرس', 'فدراسیون', 'فوتبال', 'نیز', 'تاکید', 'ضرور', 'تعامل', 'همکار', 'همه\\u200cجانبه', 'خصوص', 'برنامه\\u200cریز', 'آماده', 'ساز', 'مناسب', 'المپیک', 'گف', 'فوتبال', 'زیر', '۲۳', 'سال', 'ایر', 'حضور', 'مهد', 'مهدو', 'کیا', 'اعضا', 'کادر', 'فن', 'همچنین', 'ظرف', 'بسیار', 'خوب', 'موفق', 'دوره', 'برخوردار', 'هماهنگ', 'همکار', 'نزدیک', 'کمیته', 'مل', 'المپیک', 'فدراسیون', 'فوتبال', 'راستا', 'حما', 'تامین', 'خواسته', 'مورد', 'نظر', 'اعضا', 'کادر', 'فن', 'می\\u200cتواند', 'نتایج', 'ارزشمند', 'همراه', 'داشته_باشد', 'امیدوار', 'دوره', 'شاهد', 'موفق', 'المپیک', 'کسب', 'نتایج', '', 'جایگاه', 'فوتبال', 'مل', 'ایر', 'باش', 'نشس', 'حضور', 'نصرالله', 'سجاد', 'مشاور', 'رئیس', 'کمیته', 'پ', 'فخر', 'سرپرس', 'کارو', 'ورزش', 'اعزام', 'ایر', 'بازی', 'آسیا', '۲۰۲۲', 'هانگژو', 'برگزار', 'هماهنگ', 'لاز', 'خصوص', 'همکار', 'دو', 'جانبه', 'فدراسیون', 'فوتبال', 'کمیته', 'مل', 'المپیک', 'خصوص', 'برنامه\\u200c', 'اردو', 'آماده', 'ساز', 'آت', 'المپیک', 'صور', 'پذیرف', 'انت', 'پی', '/']\n",
      "Doc 4 final tokens: ['گزار', 'خبرنگار', 'ورزش', 'خبرگزار', 'فارس', 'نخستین', 'باز', 'روز', 'دو', 'مرحله', 'پلی\\u200cآف', 'لیگ', 'بسکتبال', 'تیم', 'شهردار', 'گرگ', 'اکسون', 'مقابل', 'مید', 'رفتند', 'گرگانی\\u200c', 'موفق', 'شدند', '۸۰', '۷۱', 'برتر', 'برسند', 'مسابقه', 'پر', 'پت', 'کسب', '۲۶', 'امتیاز', '۶', 'ریباند', 'پرامتیاز', 'بازیکن', 'گرگ', 'مید', 'بود', 'دی\\u200cگر', 'باز', 'برگزار', 'شده', 'ذوب\\u200cآهن', 'صدرنشین', 'پلی\\u200cآف', 'رسیده_بود', 'دیدار', 'صنایع', 'هرمزگ', '۷۳', '۷۰', 'برتر', 'رسید', 'انت', 'پی', '/']\n"
     ]
    }
   ],
   "source": [
    "docs, contents, _ = load_docs()\n",
    "\n",
    "pre_processed_docs, top_k_tokens_with_counts = preprocess_all_docs(docs, top_k=20)\n",
    "\n",
    "print(\"\\nTop-K Frequent Tokens:\")\n",
    "for token, count in top_k_tokens_with_counts.items():\n",
    "    print(f\"Token: {token}, Count: {count}\")\n",
    "\n",
    "print(\"\\nProcessed Document Tokens:\")\n",
    "for doc_id, doc_data in list(pre_processed_docs.items())[:5]: \n",
    "    print(f\"Doc {doc_id} final tokens:\", doc_data['content'])"
   ],
   "metadata": {
    "collapsed": false,
    "ExecuteTime": {
     "end_time": "2025-01-10T23:01:50.941778Z",
     "start_time": "2025-01-10T23:00:16.316611Z"
    }
   },
   "id": "880af580a11a5962"
  },
  {
   "cell_type": "code",
   "execution_count": 32,
   "outputs": [
    {
     "data": {
      "text/plain": "{'title': 'سجادی :حضور تماشاگران در  لیگ برتر فوتبال تابع نظر فدراسیون  و سازمان لیگ است',\n 'content': ['گزار',\n  'خبرگزار',\n  'فارس',\n  'سید',\n  'حمید',\n  'سجاد',\n  'حاشیه',\n  'مراس',\n  'گرامیدا',\n  'روز',\n  'جو',\n  'جمع',\n  'خبرنگار',\n  'رابطه',\n  'عرضه',\n  'سه',\n  'سرخابی\\u200c',\n  'بورس',\n  'اظهار',\n  'دا',\n  'منتظر',\n  'ط',\n  'روند',\n  'هست',\n  'بعدا',\n  'اطلاع\\u200cرسان',\n  'خواهیم_کرد',\n  'مورد',\n  'حضور',\n  'تماشاگر',\n  'مسابق',\n  'فوتبال',\n  'اظهار',\n  'دا',\n  'حضور',\n  'تماشاگر',\n  'لیگ',\n  'فوتبال',\n  'تابع',\n  'نظر',\n  'فدراسیون',\n  'ساز',\n  'لیگ',\n  'ستاد',\n  'مل',\n  'مبارزه',\n  'کرونا',\n  'انت',\n  'پی',\n  '/'],\n 'url': 'https://www.farsnews.ir/news/14001224000982/سجادی-حضور-تماشاگران-در-لیگ-برتر-فوتبال-تابع-نظر-فدراسیون-و-سازمان'}"
     },
     "execution_count": 32,
     "metadata": {},
     "output_type": "execute_result"
    }
   ],
   "source": [
    "pre_processed_docs['1']"
   ],
   "metadata": {
    "collapsed": false,
    "ExecuteTime": {
     "end_time": "2025-01-10T23:01:50.949025Z",
     "start_time": "2025-01-10T23:01:50.944893Z"
    }
   },
   "id": "8279efe17e0cfae7"
  },
  {
   "cell_type": "code",
   "execution_count": 33,
   "outputs": [],
   "source": [
    "def _add_new_token_posting(token_dict, token, doc_id, position):\n",
    "    \"\"\"\n",
    "    Initialize a new posting entry for a token that has not yet been seen.\n",
    "    \"\"\"\n",
    "    token_dict[token] = {\n",
    "        'frequency': 1,\n",
    "        'docs': {\n",
    "            doc_id: {\n",
    "                'positions': [position],\n",
    "                'number_of_token': 1\n",
    "            }\n",
    "        }\n",
    "    }\n",
    "\n",
    "def _update_existing_token_posting(token_dict, token, doc_id, position):\n",
    "    \"\"\"\n",
    "    Update an existing token entry with a new position in an existing or new document.\n",
    "    \"\"\"\n",
    "    token_dict[token]['frequency'] += 1\n",
    "    \n",
    "    if doc_id in token_dict[token]['docs']:\n",
    "        token_dict[token]['docs'][doc_id]['positions'].append(position)\n",
    "        token_dict[token]['docs'][doc_id]['number_of_token'] += 1\n",
    "    else:\n",
    "        token_dict[token]['docs'][doc_id] = {\n",
    "            'positions': [position],\n",
    "            'number_of_token': 1\n",
    "        }\n",
    "\n",
    "def _build_postings_dict(Docs):\n",
    "    \"\"\"\n",
    "    Build a postings dictionary from the input Docs, collecting token frequency\n",
    "    and positions per document.\n",
    "    \"\"\"\n",
    "    token_dict = {}\n",
    "    for doc_id, doc_content in Docs.items():\n",
    "        for position, token in enumerate(doc_content['content']):\n",
    "            if token in token_dict:\n",
    "                _update_existing_token_posting(token_dict, token, doc_id, position)\n",
    "            else:\n",
    "                _add_new_token_posting(token_dict, token, doc_id, position)\n",
    "    return token_dict\n",
    "\n",
    "def _calculate_tf_idf(token_dict, total_docs):\n",
    "    \"\"\"\n",
    "    Calculate TF-IDF for each token in each document.\n",
    "    \"\"\"\n",
    "    for term, term_data in token_dict.items():\n",
    "        term_docs = term_data['docs']\n",
    "        n_t = len(term_docs)  # Number of documents containing this term\n",
    "\n",
    "        for doc_id, doc_info in term_docs.items():\n",
    "            tf = doc_info['number_of_token']\n",
    "            # TF-IDF = log10(N / n_t) * (1 + log10(tf))\n",
    "            tf_idf_value = (np.log10(total_docs / n_t)) * (1 + np.log10(tf))\n",
    "            doc_info['tf_idf'] = tf_idf_value\n",
    "\n",
    "def _build_champions_list_and_docs_vectors(token_dict, champ_len):\n",
    "    \"\"\"\n",
    "    Create the champions list for each term by sorting documents based on number_of_token,\n",
    "    and build the docs_vectors structure for future usage.\n",
    "    \"\"\"\n",
    "    docs_vectors = {}\n",
    "\n",
    "    for term, term_data in token_dict.items():\n",
    "        term_docs = term_data['docs']\n",
    "\n",
    "        # Sort documents by number_of_token (descending) for the champion list\n",
    "        sorted_term_docs = sorted(\n",
    "            term_docs,\n",
    "            key=lambda d: term_docs[d]['number_of_token'],\n",
    "            reverse=True\n",
    "        )\n",
    "\n",
    "        # Build champion list (take top `champ_len` if needed)\n",
    "        champions_list = {}\n",
    "        for doc_id in sorted_term_docs:\n",
    "            champions_list[doc_id] = {\n",
    "                'number_of_token': term_docs[doc_id]['number_of_token'],\n",
    "                'tf_idf': term_docs[doc_id]['tf_idf']\n",
    "            }\n",
    "\n",
    "        if champ_len < len(term_docs):\n",
    "            champions_list = dict(list(champions_list.items())[:champ_len])\n",
    "\n",
    "        token_dict[term]['champions_list'] = champions_list\n",
    "\n",
    "        # Populate docs_vectors\n",
    "        for doc_id, doc_info in term_docs.items():\n",
    "            if doc_id not in docs_vectors:\n",
    "                docs_vectors[doc_id] = {}\n",
    "            docs_vectors[doc_id][term] = {\n",
    "                'tf_idf': doc_info['tf_idf'],\n",
    "                'tf': doc_info['number_of_token']\n",
    "            }\n",
    "\n",
    "    return docs_vectors\n",
    "\n",
    "def Postings_List(Docs, champ_len):\n",
    "    \"\"\"\n",
    "    Orchestrates the creation of the postings list (token_dict) and docs_vectors.\n",
    "    Steps:\n",
    "      1) Build an initial postings dictionary with token frequencies/positions.\n",
    "      2) Compute TF-IDF for each token in each document.\n",
    "      3) Build the champions lists and docs_vectors.\n",
    "    \"\"\"\n",
    "    # Step 1: Build the core postings dictionary\n",
    "    token_dict = _build_postings_dict(Docs)\n",
    "\n",
    "    # Step 2: Calculate TF-IDF\n",
    "    total_docs = len(Docs)\n",
    "    _calculate_tf_idf(token_dict, total_docs)\n",
    "\n",
    "    # Step 3: Create champions lists and docs_vectors\n",
    "    docs_vectors = _build_champions_list_and_docs_vectors(token_dict, champ_len)\n",
    "\n",
    "    return token_dict, docs_vectors\n"
   ],
   "metadata": {
    "collapsed": false,
    "ExecuteTime": {
     "end_time": "2025-01-10T23:01:50.960126Z",
     "start_time": "2025-01-10T23:01:50.958574Z"
    }
   },
   "id": "9641ba7139e97bb2"
  },
  {
   "cell_type": "code",
   "execution_count": 34,
   "outputs": [],
   "source": [
    "dictionary, docs_vectors = Postings_List(pre_processed_docs, 20)"
   ],
   "metadata": {
    "collapsed": false,
    "ExecuteTime": {
     "end_time": "2025-01-10T23:02:03.551862Z",
     "start_time": "2025-01-10T23:01:50.992838Z"
    }
   },
   "id": "390b1d1f8d73c4b4"
  },
  {
   "cell_type": "code",
   "execution_count": 44,
   "outputs": [
    {
     "data": {
      "text/plain": "{'گزار': {'tf_idf': 0.06822999816007738, 'tf': 1},\n 'خبرگزار': {'tf_idf': 0.006888013253462664, 'tf': 1},\n 'فارس': {'tf_idf': 0.0059070807944042346, 'tf': 64},\n 'رسم': {'tf_idf': 2.0600728819295577, 'tf': 6},\n 'ایر': {'tf_idf': 0.6811459788496846, 'tf': 2},\n 'برگزار': {'tf_idf': 0.5562313224532865, 'tf': 1},\n 'می\\u200cشود': {'tf_idf': 0.9836350229925414, 'tf': 10},\n 'سال': {'tf_idf': 0.4443623933148646, 'tf': 1},\n 'راه': {'tf_idf': 0.9731372956869248, 'tf': 2},\n 'پیدا': {'tf_idf': 1.4109109719928032, 'tf': 4},\n 'دوره': {'tf_idf': 1.7791515173382424, 'tf': 4},\n 'حضور': {'tf_idf': 0.4500434348432121, 'tf': 1},\n 'هر': {'tf_idf': 0.8133483545358658, 'tf': 3},\n 'کرده': {'tf_idf': 0.6919793398301525, 'tf': 1},\n 'عنو': {'tf_idf': 0.6440520914846424, 'tf': 2},\n 'دو': {'tf_idf': 0.5451957621476555, 'tf': 3},\n 'مق': {'tf_idf': 1.1250099265899205, 'tf': 1},\n 'انت': {'tf_idf': 0.004435995384070603, 'tf': 1},\n 'پی': {'tf_idf': 0.003000072495857743, 'tf': 1},\n '/': {'tf_idf': 0.004364086371255635, 'tf': 1},\n 'روز': {'tf_idf': 0.4909347988307946, 'tf': 1},\n 'خبرنگار': {'tf_idf': 0.2874352862124873, 'tf': 1},\n 'رابطه': {'tf_idf': 1.570779233463548, 'tf': 2},\n 'عرضه': {'tf_idf': 1.747974527051764, 'tf': 1},\n 'اظهار': {'tf_idf': 0.6823894508104655, 'tf': 4},\n 'دا': {'tf_idf': 0.5321388881292228, 'tf': 4},\n 'مورد': {'tf_idf': 0.7861006116956055, 'tf': 3},\n 'نظر': {'tf_idf': 0.935609284045978, 'tf': 4},\n 'ساز': {'tf_idf': 0.7613260376849612, 'tf': 1},\n 'کرونا': {'tf_idf': 1.4095379140325324, 'tf': 2},\n 'نشس': {'tf_idf': 1.0520033409128284, 'tf': 2},\n 'مدیر': {'tf_idf': 0.7281153805741729, 'tf': 1},\n 'زیر': {'tf_idf': 0.8060803276103631, 'tf': 1},\n 'برنامه': {'tf_idf': 0.7438109781030208, 'tf': 1},\n 'تاکید': {'tf_idf': 1.3574144993578088, 'tf': 6},\n 'گف': {'tf_idf': 0.6508115378899922, 'tf': 10},\n 'موفق': {'tf_idf': 1.1776393339277615, 'tf': 2},\n 'آقا': {'tf_idf': 0.9123712129313433, 'tf': 1},\n 'تا': {'tf_idf': 0.4798366424951937, 'tf': 5},\n 'شود': {'tf_idf': 0.7636332958450163, 'tf': 7},\n 'اینکه': {'tf_idf': 0.631453988401224, 'tf': 2},\n 'امور': {'tf_idf': 1.006526552989648, 'tf': 1},\n 'نیز': {'tf_idf': 0.6466639458175366, 'tf': 2},\n 'خصوص': {'tf_idf': 0.8587870629876643, 'tf': 2},\n 'برنامه\\u200cریز': {'tf_idf': 1.636397960161489, 'tf': 2},\n 'همچنین': {'tf_idf': 1.1721148832883637, 'tf': 7},\n 'بسیار': {'tf_idf': 1.4926073660233032, 'tf': 11},\n 'خوب': {'tf_idf': 0.6144063229560873, 'tf': 1},\n 'می\\u200cتواند': {'tf_idf': 1.6125733597150764, 'tf': 7},\n 'داشته_باشد': {'tf_idf': 1.4469295996454161, 'tf': 3},\n 'شاهد': {'tf_idf': 1.6685446390970962, 'tf': 4},\n 'جایگاه': {'tf_idf': 1.781550599204252, 'tf': 5},\n 'باش': {'tf_idf': 1.6948655367235301, 'tf': 3},\n 'لاز': {'tf_idf': 0.8554714649077996, 'tf': 1},\n 'اردو': {'tf_idf': 1.3297949124105206, 'tf': 1},\n 'صور': {'tf_idf': 0.5885342777431484, 'tf': 1},\n 'باز': {'tf_idf': 0.4174862861986349, 'tf': 1},\n 'بود': {'tf_idf': 0.5384590965011465, 'tf': 2},\n 'دی\\u200cگر': {'tf_idf': 0.7233403822148653, 'tf': 2},\n 'شده': {'tf_idf': 0.947038938106214, 'tf': 3},\n 'رو': {'tf_idf': 0.7785944918204133, 'tf': 2},\n 'بعد': {'tf_idf': 0.9748437590914194, 'tf': 6},\n 'دنیا': {'tf_idf': 1.482507742387723, 'tf': 2},\n 'چین': {'tf_idf': 2.073413294958783, 'tf': 2},\n 'اول': {'tf_idf': 0.6888385866182519, 'tf': 1},\n 'دس': {'tf_idf': 0.8447781974507719, 'tf': 2},\n 'اما': {'tf_idf': 0.6429169643903186, 'tf': 3},\n 'نتیجه': {'tf_idf': 0.9440902446522971, 'tf': 2},\n 'هند': {'tf_idf': 1.7539925607407634, 'tf': 1},\n 'قرار': {'tf_idf': 0.37903118952312, 'tf': 1},\n 'توجه': {'tf_idf': 0.9372203655038777, 'tf': 3},\n 'کنند': {'tf_idf': 1.0828537111763088, 'tf': 7},\n 'رسانه': {'tf_idf': 1.7343957476587892, 'tf': 5},\n 'هستند': {'tf_idf': 1.013627782084561, 'tf': 5},\n 'باید': {'tf_idf': 0.9516197423893804, 'tf': 23},\n 'البته': {'tf_idf': 1.421187158222829, 'tf': 5},\n 'برخ': {'tf_idf': 0.7309795005298514, 'tf': 1},\n 'شده_اس': {'tf_idf': 1.2790934848046591, 'tf': 4},\n 'اتفاق': {'tf_idf': 0.7972881847240356, 'tf': 1},\n 'بین': {'tf_idf': 1.3412969532502226, 'tf': 4},\n 'حاضر': {'tf_idf': 1.649780404657255, 'tf': 7},\n 'حال': {'tf_idf': 1.1720627585474686, 'tf': 8},\n 'مد': {'tf_idf': 1.007974202603076, 'tf': 1},\n 'عامل': {'tf_idf': 2.699713742684569, 'tf': 7},\n 'کند': {'tf_idf': 0.8526635074389539, 'tf': 8},\n 'علاوه': {'tf_idf': 1.2701897206645856, 'tf': 1},\n 'جا': {'tf_idf': 1.2032473374660966, 'tf': 3},\n 'دارد': {'tf_idf': 0.6835025901001022, 'tf': 5},\n 'مانند': {'tf_idf': 1.6376952885046665, 'tf': 3},\n 'مرد': {'tf_idf': 0.6606523772579994, 'tf': 2},\n 'خیل': {'tf_idf': 1.6612324915839258, 'tf': 8},\n 'بالا': {'tf_idf': 0.8519137371436821, 'tf': 1},\n 'نیس': {'tf_idf': 1.0916603896322754, 'tf': 5},\n 'بزرگ': {'tf_idf': 0.8122731713926888, 'tf': 1},\n 'می\\u200cکرد': {'tf_idf': 1.4705055328023535, 'tf': 2},\n 'جه': {'tf_idf': 0.9565363458398066, 'tf': 2},\n 'بگیرند': {'tf_idf': 1.7840551572771515, 'tf': 2},\n 'بده': {'tf_idf': 1.1838842413423774, 'tf': 1},\n 'تو': {'tf_idf': 0.991959892014724, 'tf': 1},\n 'خواهد_شد': {'tf_idf': 0.8608633072168977, 'tf': 1},\n 'چند': {'tf_idf': 1.3479300753806238, 'tf': 6},\n 'کردند': {'tf_idf': 0.8955495106280749, 'tf': 3},\n 'مهم': {'tf_idf': 1.6138348914830922, 'tf': 3},\n 'وجود': {'tf_idf': 0.9084186605523779, 'tf': 3},\n 'مسئول': {'tf_idf': 0.8083636897677061, 'tf': 1},\n 'تهر': {'tf_idf': 0.8270760933483344, 'tf': 1},\n 'اطلاع': {'tf_idf': 1.1806351402885003, 'tf': 1},\n 'آخرین': {'tf_idf': 1.151427869202714, 'tf': 1},\n 'دار': {'tf_idf': 0.8896778499444074, 'tf': 2},\n 'زمان': {'tf_idf': 1.042283399777646, 'tf': 1},\n 'بودند': {'tf_idf': 0.9930093354941336, 'tf': 1},\n 'باشند': {'tf_idf': 1.5990426280441108, 'tf': 3},\n 'فعال': {'tf_idf': 1.454497586866588, 'tf': 3},\n 'دادن': {'tf_idf': 1.2721834249244486, 'tf': 1},\n 'آینده': {'tf_idf': 0.7919647944947757, 'tf': 1},\n 'دارند': {'tf_idf': 1.3385080655350974, 'tf': 8},\n 'رشد': {'tf_idf': 1.287090471202787, 'tf': 1},\n 'رشته': {'tf_idf': 1.9954714149456845, 'tf': 2},\n 'زیاد': {'tf_idf': 1.2568694173394848, 'tf': 4},\n 'وارد': {'tf_idf': 1.2320129327888105, 'tf': 3},\n 'تغییر': {'tf_idf': 1.6921183366806904, 'tf': 6},\n 'نق': {'tf_idf': 2.0916743176369614, 'tf': 7},\n 'باشد': {'tf_idf': 0.9607602627273721, 'tf': 3},\n 'ادامه': {'tf_idf': 0.8658816828111512, 'tf': 8},\n 'امروز': {'tf_idf': 0.5182878374391249, 'tf': 2},\n 'گروه': {'tf_idf': 0.7895465451178216, 'tf': 1},\n 'گذشته': {'tf_idf': 0.8823461026602976, 'tf': 4},\n 'فقط': {'tf_idf': 1.3161409126455839, 'tf': 2},\n 'اختصاص': {'tf_idf': 1.965392791895967, 'tf': 3},\n 'شرق': {'tf_idf': 2.0994390205524596, 'tf': 2},\n 'معاون': {'tf_idf': 1.0268676027551011, 'tf': 1},\n 'مختلف': {'tf_idf': 1.2855758218867517, 'tf': 4},\n 'وضع': {'tf_idf': 1.5859972885216342, 'tf': 7},\n 'بررس': {'tf_idf': 1.162059956886762, 'tf': 3},\n 'مطبوع': {'tf_idf': 2.3788608445584325, 'tf': 1},\n '*': {'tf_idf': 2.510268583186433, 'tf': 12},\n 'ابتدا': {'tf_idf': 1.2310831650604959, 'tf': 2},\n 'کار': {'tf_idf': 0.8135066031141649, 'tf': 8},\n 'هدفمند': {'tf_idf': 2.5203708002667393, 'tf': 2},\n 'طول': {'tf_idf': 1.2022022510237647, 'tf': 1},\n 'می\\u200cرود': {'tf_idf': 1.1926692585984253, 'tf': 1},\n 'دک': {'tf_idf': 1.5895013725831537, 'tf': 1},\n 'استاد': {'tf_idf': 3.729325473160619, 'tf': 16},\n 'وزار': {'tf_idf': 1.2773495025851473, 'tf': 3},\n 'مشترک': {'tf_idf': 1.6745433101681138, 'tf': 2},\n 'موارد': {'tf_idf': 1.4921666125971231, 'tf': 2},\n 'اشاره': {'tf_idf': 0.8248935765292215, 'tf': 2},\n 'افزود': {'tf_idf': 1.0274132840829242, 'tf': 12},\n 'بیاورند': {'tf_idf': 2.099659286390124, 'tf': 1},\n 'می\\u200cکند': {'tf_idf': 1.0083190251623961, 'tf': 3},\n 'ا\\u200cگر': {'tf_idf': 1.2265649486427654, 'tf': 9},\n 'نکته': {'tf_idf': 1.2119492029569023, 'tf': 1},\n 'داشت': {'tf_idf': 1.0757071552645956, 'tf': 1},\n 'شدن': {'tf_idf': 0.8166846475256017, 'tf': 1},\n 'مه': {'tf_idf': 1.1247344736118572, 'tf': 2},\n 'بین\\u200cالملل': {'tf_idf': 1.0851300876359506, 'tf': 1},\n 'جذب': {'tf_idf': 1.2513749189362524, 'tf': 1},\n 'مشکل': {'tf_idf': 1.027891016262126, 'tf': 4},\n 'بخ': {'tf_idf': 1.6370162625644389, 'tf': 7},\n 'تل': {'tf_idf': 0.7988532115776633, 'tf': 1},\n 'کمک': {'tf_idf': 0.8496419212470758, 'tf': 1},\n 'داشته_باش': {'tf_idf': 1.9036550534958665, 'tf': 4},\n 'ن': {'tf_idf': 0.47577085756648874, 'tf': 1},\n 'بیش': {'tf_idf': 0.8335779896764756, 'tf': 1},\n 'اسلام': {'tf_idf': 0.5812291130208933, 'tf': 2},\n 'همه': {'tf_idf': 0.9535612373611576, 'tf': 4},\n 'کن': {'tf_idf': 1.287876471968324, 'tf': 12},\n 'حوزه': {'tf_idf': 1.203425434195029, 'tf': 4},\n 'منف': {'tf_idf': 2.321862185095217, 'tf': 3},\n 'داد': {'tf_idf': 0.7588787056877823, 'tf': 7},\n 'ندار': {'tf_idf': 1.4442487328085944, 'tf': 2},\n 'گاه': {'tf_idf': 2.6489448844756094, 'tf': 4},\n 'می\\u200cتو': {'tf_idf': 1.2067618150243151, 'tf': 1},\n 'دانس': {'tf_idf': 1.37971323831961, 'tf': 1},\n 'علاقه': {'tf_idf': 2.2317389225153117, 'tf': 2},\n 'انتظار': {'tf_idf': 1.1212293196304566, 'tf': 1},\n 'انتقال': {'tf_idf': 1.7105583609559936, 'tf': 3},\n 'ول': {'tf_idf': 1.445989372336192, 'tf': 6},\n 'عل': {'tf_idf': 1.554668611462738, 'tf': 8},\n 'اروپا': {'tf_idf': 1.2309118649885686, 'tf': 1},\n 'انگیزه': {'tf_idf': 1.9572274472325684, 'tf': 2},\n 'استفاده': {'tf_idf': 1.016487842381604, 'tf': 2},\n 'انگلیس': {'tf_idf': 1.3104566895269996, 'tf': 1},\n 'چه': {'tf_idf': 0.9961489583391503, 'tf': 2},\n 'دلیل': {'tf_idf': 1.0068018649518315, 'tf': 3},\n 'خط': {'tf_idf': 2.122638102231693, 'tf': 7},\n 'داشتند': {'tf_idf': 1.2468486118867312, 'tf': 2},\n 'قابل': {'tf_idf': 1.0947620132764202, 'tf': 1},\n 'عناصر': {'tf_idf': 1.9191136859081925, 'tf': 1},\n 'دیگر': {'tf_idf': 1.3997372227892402, 'tf': 4},\n 'نمی\\u200cکند': {'tf_idf': 1.4429783441701813, 'tf': 1},\n 'رسانه\\u200c': {'tf_idf': 2.410801173945821, 'tf': 5},\n 'ندارد': {'tf_idf': 1.2568862773800469, 'tf': 3},\n 'او': {'tf_idf': 0.7294496196632375, 'tf': 1},\n 'قصد': {'tf_idf': 1.4621489248207005, 'tf': 1},\n 'مثل': {'tf_idf': 1.0702336671439296, 'tf': 1},\n 'صحبت\\u200c': {'tf_idf': 1.7832349632358797, 'tf': 1},\n 'رفتار': {'tf_idf': 1.3437058893516705, 'tf': 1},\n 'واقع': {'tf_idf': 1.3637505470626503, 'tf': 2},\n 'حت': {'tf_idf': 1.3395705853452138, 'tf': 3},\n 'عال': {'tf_idf': 1.1278671374344014, 'tf': 1},\n 'می\\u200cکن': {'tf_idf': 0.9897067395971062, 'tf': 2},\n 'انجام\\u200cشده': {'tf_idf': 1.3215080360064801, 'tf': 1},\n 'نصب': {'tf_idf': 2.0611251553915984, 'tf': 1},\n 'عمق': {'tf_idf': 1.9465519342551323, 'tf': 1},\n 'اصول': {'tf_idf': 1.4887358347308564, 'tf': 1},\n 'انقلاب': {'tf_idf': 1.0355563958156906, 'tf': 2},\n 'بدهد': {'tf_idf': 1.2795729911375513, 'tf': 1},\n 'عملکرد': {'tf_idf': 0.9369040069020209, 'tf': 1},\n 'دچار': {'tf_idf': 1.2090596747865947, 'tf': 1},\n 'نیاز': {'tf_idf': 1.3186999870268852, 'tf': 3},\n 'می\\u200cشد': {'tf_idf': 1.257771124121049, 'tf': 1},\n 'کیف': {'tf_idf': 1.6638820476908183, 'tf': 2},\n 'شب': {'tf_idf': 1.1096226833183025, 'tf': 1},\n 'زیبا': {'tf_idf': 1.585371758438617, 'tf': 1},\n 'باعث': {'tf_idf': 1.2074449936897502, 'tf': 2},\n 'زدن': {'tf_idf': 1.492038470280942, 'tf': 1},\n 'صحب': {'tf_idf': 1.0510012824718205, 'tf': 1},\n 'رده': {'tf_idf': 1.092994790158757, 'tf': 1},\n 'بحث': {'tf_idf': 1.3940018321230385, 'tf': 3},\n 'مربوط': {'tf_idf': 1.1621517345944872, 'tf': 1},\n 'ک': {'tf_idf': 1.0193601646109984, 'tf': 1},\n 'ده': {'tf_idf': 1.3519733255859157, 'tf': 2},\n 'شکل': {'tf_idf': 1.4359567369604507, 'tf': 2},\n 'مهم\\u200c': {'tf_idf': 1.4757708575664887, 'tf': 1},\n 'دهند': {'tf_idf': 1.1731471188959501, 'tf': 1},\n 'مثلا': {'tf_idf': 2.1659899866103776, 'tf': 2},\n 'آموز': {'tf_idf': 2.492551004795242, 'tf': 12},\n 'واقعا': {'tf_idf': 1.3297949124105206, 'tf': 1},\n 'ضعیف': {'tf_idf': 1.4975992950621615, 'tf': 1},\n 'می\\u200cکنند': {'tf_idf': 0.7906440804047594, 'tf': 1},\n 'هس': {'tf_idf': 1.563789595378278, 'tf': 3},\n 'حد': {'tf_idf': 1.433218506881025, 'tf': 1},\n 'می\\u200cدهد': {'tf_idf': 1.0004273150379868, 'tf': 1},\n 'ایجاد': {'tf_idf': 1.316873465459828, 'tf': 5},\n 'قبل': {'tf_idf': 0.9490358355075547, 'tf': 2},\n 'چون': {'tf_idf': 1.5526520206298788, 'tf': 4},\n 'اختلاف': {'tf_idf': 1.3989020594417345, 'tf': 1},\n 'پرور': {'tf_idf': 1.4987200556374574, 'tf': 1},\n 'بوده': {'tf_idf': 1.3101328531441894, 'tf': 3},\n 'نگاه': {'tf_idf': 1.385911432416686, 'tf': 2},\n 'می\\u200cکردند': {'tf_idf': 1.3460683311621249, 'tf': 1},\n 'آن\\u200c': {'tf_idf': 1.2394756956365447, 'tf': 1},\n 'صد': {'tf_idf': 1.9737368066001042, 'tf': 2},\n 'اجازه': {'tf_idf': 1.5046430902330918, 'tf': 2},\n 'حفظ': {'tf_idf': 1.8146074193920374, 'tf': 4},\n 'تصریح': {'tf_idf': 0.7418422780776548, 'tf': 1},\n 'آنجا': {'tf_idf': 1.3857273035113493, 'tf': 1},\n 'یاد': {'tf_idf': 1.2463249261996108, 'tf': 1},\n 'یعن': {'tf_idf': 1.4237425371041104, 'tf': 2},\n 'می\\u200cخواه': {'tf_idf': 1.2532839087435836, 'tf': 1},\n 'می\\u200cکنید': {'tf_idf': 1.6798908402224135, 'tf': 1},\n 'فضا': {'tf_idf': 1.6666650364756053, 'tf': 4},\n 'می\\u200cگویند': {'tf_idf': 1.467337690029626, 'tf': 1},\n 'درس': {'tf_idf': 1.3529877426409886, 'tf': 2},\n 'ارتباط': {'tf_idf': 1.784319032548281, 'tf': 4},\n 'تعداد': {'tf_idf': 1.5759396860367023, 'tf': 3},\n 'اصلا': {'tf_idf': 1.3500345183797262, 'tf': 1},\n 'آنچه': {'tf_idf': 1.6586259153889376, 'tf': 2},\n 'محمود': {'tf_idf': 2.782445141936622, 'tf': 5},\n 'می\\u200cرسد': {'tf_idf': 1.2102131800647264, 'tf': 1},\n 'برقرار': {'tf_idf': 2.3835930075257084, 'tf': 3},\n 'خارج': {'tf_idf': 1.4952800205769454, 'tf': 6},\n 'تأثیرگذار': {'tf_idf': 2.0952049449638737, 'tf': 1},\n 'عوامل': {'tf_idf': 2.2637592158338373, 'tf': 3},\n 'کم': {'tf_idf': 1.7312303489911152, 'tf': 5},\n 'بوده_اس': {'tf_idf': 1.417448465310596, 'tf': 2},\n 'ارسال': {'tf_idf': 1.318533404638278, 'tf': 1},\n 'حساس': {'tf_idf': 1.9156051548632003, 'tf': 3},\n 'می\\u200cتوانند': {'tf_idf': 1.5752755183140092, 'tf': 2},\n 'قدم': {'tf_idf': 1.9826272997004117, 'tf': 1},\n 'بد': {'tf_idf': 1.2795729911375513, 'tf': 1},\n 'طراح': {'tf_idf': 1.5626845538448042, 'tf': 1},\n 'تاریخ': {'tf_idf': 1.0011404424263037, 'tf': 1},\n 'هزار': {'tf_idf': 1.0219730314294502, 'tf': 1},\n 'کل': {'tf_idf': 0.8853071234489891, 'tf': 1},\n 'بیایند': {'tf_idf': 1.8169180764384525, 'tf': 1},\n 'علاقه\\u200cمند': {'tf_idf': 2.0145490133502433, 'tf': 1},\n 'ب': {'tf_idf': 1.1348734877978832, 'tf': 8},\n 'بنیاد': {'tf_idf': 3.3613987924899114, 'tf': 8},\n 'جنگ': {'tf_idf': 1.6491148543592093, 'tf': 2},\n 'زاده': {'tf_idf': 1.9269893202013977, 'tf': 2},\n 'معتقد': {'tf_idf': 1.4180451039663686, 'tf': 1},\n 'مسل': {'tf_idf': 2.6141309266234445, 'tf': 5},\n 'باره': {'tf_idf': 1.8235049838670236, 'tf': 2},\n 'افراد': {'tf_idf': 1.274879509807157, 'tf': 2},\n 'درباره': {'tf_idf': 1.1534318559785113, 'tf': 3},\n 'گو': {'tf_idf': 1.1943364179658882, 'tf': 1},\n 'باه': {'tf_idf': 2.4736471639366333, 'tf': 1},\n 'شوند': {'tf_idf': 1.5013359309967633, 'tf': 3},\n 'بگذارد': {'tf_idf': 1.8715871726086708, 'tf': 1},\n 'بسته': {'tf_idf': 1.5732134205884298, 'tf': 1},\n 'برسد': {'tf_idf': 1.2061892447608884, 'tf': 1},\n 'نسب': {'tf_idf': 1.0969567725097176, 'tf': 2},\n 'قو': {'tf_idf': 1.3588897636278123, 'tf': 1},\n 'شده\\u200cاند': {'tf_idf': 1.298262649515201, 'tf': 1},\n 'نداشته_اس': {'tf_idf': 2.749102478195069, 'tf': 3},\n 'برعهده': {'tf_idf': 1.546101545865495, 'tf': 1},\n 'نشده': {'tf_idf': 1.3944659178890084, 'tf': 1},\n 'وحد': {'tf_idf': 1.5812810423364627, 'tf': 1},\n 'الله': {'tf_idf': 2.103256806346839, 'tf': 2},\n 'عمل': {'tf_idf': 0.9424799042324052, 'tf': 1},\n 'درصد': {'tf_idf': 1.0086998410039767, 'tf': 1},\n 'ملت\\u200c': {'tf_idf': 1.962579379689283, 'tf': 1},\n 'غیر': {'tf_idf': 1.094319532869419, 'tf': 1},\n 'ادب': {'tf_idf': 3.0523052707192626, 'tf': 2},\n 'پیشرف': {'tf_idf': 2.0608926345263607, 'tf': 4},\n 'نقاط': {'tf_idf': 1.4694306795354697, 'tf': 1},\n 'آور': {'tf_idf': 2.4596380178331905, 'tf': 2},\n 'اجتماع': {'tf_idf': 1.0498021252942076, 'tf': 1},\n 'سبب': {'tf_idf': 2.920126584951763, 'tf': 7},\n 'نمی\\u200cآید': {'tf_idf': 2.177946001777719, 'tf': 1},\n 'شو': {'tf_idf': 1.177946001777719, 'tf': 1},\n 'می\\u200cبرند': {'tf_idf': 2.463248446398038, 'tf': 2},\n 'نمی\\u200cرسد': {'tf_idf': 2.1041597876168003, 'tf': 1},\n 'تلویزیون': {'tf_idf': 1.6902316735606324, 'tf': 1},\n 'بودجه': {'tf_idf': 1.2094103179247662, 'tf': 2},\n 'مصوب': {'tf_idf': 1.298262649515201, 'tf': 1},\n 'هزینه': {'tf_idf': 1.0903573661710935, 'tf': 1},\n 'مناطق': {'tf_idf': 1.3452794218045836, 'tf': 1},\n 'محقق': {'tf_idf': 1.6078645250625254, 'tf': 1},\n 'نشده_اس': {'tf_idf': 1.3927040717327217, 'tf': 1},\n '۳۰': {'tf_idf': 1.2061892447608884, 'tf': 1},\n 'منابع': {'tf_idf': 1.5153675905557704, 'tf': 2},\n 'سیاس': {'tf_idf': 1.1735326376920696, 'tf': 4},\n 'لحاظ': {'tf_idf': 1.9197843592858308, 'tf': 3},\n 'تراز': {'tf_idf': 1.9965259092169707, 'tf': 1},\n 'ارزیاب': {'tf_idf': 1.55880111978503, 'tf': 1},\n 'غرب': {'tf_idf': 1.2688656510965879, 'tf': 1},\n 'باتجربه': {'tf_idf': 2.151932569412801, 'tf': 1},\n 'به\\u200cعنو': {'tf_idf': 2.6701587383208945, 'tf': 3},\n 'پایان': {'tf_idf': 2.119895009909693, 'tf': 3},\n 'تقو': {'tf_idf': 1.9815217885535314, 'tf': 5},\n 'اتحادیه': {'tf_idf': 2.1013446889622704, 'tf': 2},\n 'ق': {'tf_idf': 1.653461729781963, 'tf': 1},\n 'عضو': {'tf_idf': 1.55248790865902, 'tf': 7},\n 'خلیل': {'tf_idf': 2.813024261884335, 'tf': 2},\n 'بشیر': {'tf_idf': 5.050167386784566, 'tf': 5},\n 'مرکز': {'tf_idf': 1.3658240545195612, 'tf': 2},\n 'نباید': {'tf_idf': 1.2983505900560635, 'tf': 2},\n 'نیازمند': {'tf_idf': 1.3468586762062769, 'tf': 1},\n 'کسان': {'tf_idf': 1.289856687445939, 'tf': 1},\n 'چندان': {'tf_idf': 2.132188511217044, 'tf': 1},\n 'مجاز': {'tf_idf': 1.528373098467321, 'tf': 2},\n 'می\\u200cآید': {'tf_idf': 1.4015856590119562, 'tf': 1},\n 'محافظ': {'tf_idf': 2.396234940627855, 'tf': 1},\n 'استاندارد': {'tf_idf': 1.7897658303948376, 'tf': 1},\n 'اهل': {'tf_idf': 1.742038746971258, 'tf': 1},\n 'آمریکا': {'tf_idf': 1.476790693803716, 'tf': 2},\n 'نمی\\u200cتوان': {'tf_idf': 1.4642169976900734, 'tf': 1},\n 'قائل': {'tf_idf': 1.8169180764384525, 'tf': 1},\n 'بلکه': {'tf_idf': 1.0778308488944512, 'tf': 1},\n 'نج': {'tf_idf': 2.340070658314543, 'tf': 2},\n 'بحران': {'tf_idf': 2.5006813465091624, 'tf': 2},\n 'بحر': {'tf_idf': 1.5692351227063943, 'tf': 1},\n 'برآورده': {'tf_idf': 2.338242993650168, 'tf': 1},\n 'فیل': {'tf_idf': 2.1967774540006455, 'tf': 2},\n 'جنبه': {'tf_idf': 2.6454526946626666, 'tf': 2},\n 'زمینه': {'tf_idf': 1.566583143770614, 'tf': 5},\n 'فرانسه': {'tf_idf': 1.758051417217631, 'tf': 1},\n 'نتواند': {'tf_idf': 2.7997288214523164, 'tf': 2},\n 'آنکه': {'tf_idf': 1.5718832679960826, 'tf': 1},\n 'مخف': {'tf_idf': 3.5963223697912103, 'tf': 2},\n 'نتوانند': {'tf_idf': 2.2475819299191135, 'tf': 1},\n 'آشنا': {'tf_idf': 1.688491011984331, 'tf': 1},\n 'دلار': {'tf_idf': 1.938318625021714, 'tf': 2},\n 'فرهنگ': {'tf_idf': 2.1333828702399225, 'tf': 14},\n 'می\\u200cبین': {'tf_idf': 1.5626845538448042, 'tf': 1},\n 'معظ': {'tf_idf': 1.3962294248574465, 'tf': 2},\n 'رهبر': {'tf_idf': 1.2343658476295767, 'tf': 2},\n 'افتاده': {'tf_idf': 1.7519772695054379, 'tf': 1},\n 'متول': {'tf_idf': 2.2872776277197104, 'tf': 2},\n 'نبوده': {'tf_idf': 1.6439512515919201, 'tf': 1},\n 'هم': {'tf_idf': 1.5135594184558885, 'tf': 1},\n 'بعض': {'tf_idf': 2.059062551564313, 'tf': 2},\n 'جور': {'tf_idf': 2.02197303142945, 'tf': 1},\n 'لزو': {'tf_idf': 1.4942542632605018, 'tf': 1},\n 'اعز': {'tf_idf': 2.9458253741778404, 'tf': 6},\n 'می\\u200cآیند': {'tf_idf': 1.8989102998199057, 'tf': 1},\n 'دول': {'tf_idf': 0.9707099583459555, 'tf': 3},\n 'رادیو': {'tf_idf': 2.157012094942076, 'tf': 1},\n 'توانا': {'tf_idf': 1.6990411943176393, 'tf': 1},\n 'مثال': {'tf_idf': 2.3025382659152784, 'tf': 3},\n 'اصطلاح': {'tf_idf': 2.287090471202787, 'tf': 1},\n 'داده_می\\u200cشود': {'tf_idf': 1.9403029849781306, 'tf': 1},\n 'نهاد': {'tf_idf': 1.711315299816708, 'tf': 3},\n 'می\\u200cدانند': {'tf_idf': 1.5613862136195236, 'tf': 1},\n 'خلاف': {'tf_idf': 1.5812810423364627, 'tf': 1},\n 'دانشگاه': {'tf_idf': 2.6498808024160976, 'tf': 25},\n 'تحصیل': {'tf_idf': 1.7342485025450063, 'tf': 1},\n 'آسیب': {'tf_idf': 1.3944659178890084, 'tf': 1},\n 'چالش': {'tf_idf': 1.7789349827431558, 'tf': 1},\n 'چال': {'tf_idf': 1.7986292907261427, 'tf': 1},\n 'می\\u200cاندازد': {'tf_idf': 2.542362976306093, 'tf': 1},\n 'متخصص': {'tf_idf': 1.728496173655915, 'tf': 1},\n 'مثب': {'tf_idf': 2.1043340226677727, 'tf': 3},\n 'باتوجه': {'tf_idf': 1.9724876683495318, 'tf': 1},\n 'نقد': {'tf_idf': 1.5705571769446895, 'tf': 1},\n 'کتاب': {'tf_idf': 2.9765568291682603, 'tf': 5},\n 'ناقص': {'tf_idf': 2.177946001777719, 'tf': 1},\n 'ساده': {'tf_idf': 1.931094983191307, 'tf': 1},\n 'بازار': {'tf_idf': 1.3746237916151776, 'tf': 1},\n 'اخیرا': {'tf_idf': 1.6664752721666107, 'tf': 1},\n 'جلد': {'tf_idf': 2.3704276770215698, 'tf': 1},\n 'انجمن': {'tf_idf': 1.8637145495087855, 'tf': 1},\n 'مرجع': {'tf_idf': 1.758051417217631, 'tf': 1},\n 'علم': {'tf_idf': 2.1535219638278673, 'tf': 5},\n 'آموزش': {'tf_idf': 1.5826403375991875, 'tf': 1},\n 'پژوهش': {'tf_idf': 1.6210481692079504, 'tf': 1},\n 'تحقق': {'tf_idf': 1.765844078585439, 'tf': 2},\n 'موجب': {'tf_idf': 1.199940295483887, 'tf': 1},\n 'خطر': {'tf_idf': 1.6122147565801135, 'tf': 1},\n 'داخل': {'tf_idf': 0.9378283658502753, 'tf': 1},\n 'قدم\\u200c': {'tf_idf': 4.0750712051674824, 'tf': 2},\n 'اندک': {'tf_idf': 1.9792210510085004, 'tf': 1},\n 'جامع': {'tf_idf': 1.9646719573985354, 'tf': 2},\n 'متمرکز': {'tf_idf': 1.9220781648719316, 'tf': 1},\n 'مطلوب': {'tf_idf': 2.0608365880229385, 'tf': 2},\n 'کم\\u200cکار': {'tf_idf': 2.8923304004626003, 'tf': 2},\n 'اقتصاد': {'tf_idf': 0.8115807006397039, 'tf': 1},\n 'موانع': {'tf_idf': 1.6377247007512887, 'tf': 1},\n 'تبع': {'tf_idf': 1.7062197789447626, 'tf': 1},\n 'تحقیق': {'tf_idf': 1.4380710096754372, 'tf': 1},\n 'چگونگ': {'tf_idf': 2.583924251878657, 'tf': 2},\n 'جغرافیا': {'tf_idf': 1.925063018421394, 'tf': 1},\n 'گسترده': {'tf_idf': 1.517057111041323, 'tf': 1},\n 'مبنا': {'tf_idf': 1.592276426637926, 'tf': 1},\n 'اوق': {'tf_idf': 2.0372129979861873, 'tf': 1},\n 'مدارس': {'tf_idf': 2.445422673160835, 'tf': 2},\n 'فراگیر': {'tf_idf': 2.0907958260588186, 'tf': 1},\n 'جزء': {'tf_idf': 1.9074540733631993, 'tf': 1},\n 'مکتوب': {'tf_idf': 2.122643193310813, 'tf': 1},\n 'گوناگون': {'tf_idf': 1.8433929719700743, 'tf': 1},\n 'تمایل': {'tf_idf': 2.049004522715745, 'tf': 1},\n 'معروف': {'tf_idf': 1.928068528561119, 'tf': 1},\n 'تجار': {'tf_idf': 1.3953495285334003, 'tf': 1},\n 'نیست': {'tf_idf': 1.7400780462057301, 'tf': 1},\n 'نشست': {'tf_idf': 1.7153631583846325, 'tf': 1},\n 'اقو': {'tf_idf': 2.3540372608334, 'tf': 1},\n 'حتما': {'tf_idf': 1.4199130401014879, 'tf': 1},\n 'سادگ': {'tf_idf': 2.5301285198890815, 'tf': 1},\n 'تفکیک': {'tf_idf': 2.099659286390124, 'tf': 1},\n 'می\\u200cیابد': {'tf_idf': 1.8933064223019072, 'tf': 1},\n 'مدرک': {'tf_idf': 2.122643193310813, 'tf': 1},\n 'مذهب': {'tf_idf': 2.8706614059231503, 'tf': 3},\n 'می\\u200cگذارند': {'tf_idf': 2.183341033664425, 'tf': 1},\n 'دین': {'tf_idf': 2.3873752921934788, 'tf': 5},\n 'عده': {'tf_idf': 1.5253296370073126, 'tf': 1},\n 'تأثیر': {'tf_idf': 2.880596699600825, 'tf': 5},\n 'انس': {'tf_idf': 1.6631851467195609, 'tf': 1},\n 'نسل': {'tf_idf': 1.6049883921540637, 'tf': 1},\n 'ادبی': {'tf_idf': 3.3566440159591275, 'tf': 4},\n 'تولید': {'tf_idf': 1.3832271986373454, 'tf': 2},\n 'منتقل': {'tf_idf': 1.6697905133180877, 'tf': 1},\n 'روش': {'tf_idf': 1.8409183528422188, 'tf': 1},\n 'گردن': {'tf_idf': 1.9895210076483123, 'tf': 1},\n 'نده': {'tf_idf': 2.151932569412801, 'tf': 1},\n 'دیده_نمی\\u200cشود': {'tf_idf': 2.4631817302584684, 'tf': 1},\n 'دنیاس': {'tf_idf': 2.3788608445584325, 'tf': 1},\n 'پیشرفت': {'tf_idf': 1.9860604755388058, 'tf': 1},\n 'متأسفانه': {'tf_idf': 1.4600906532813265, 'tf': 1},\n 'برخورده': {'tf_idf': 3.007249774608744, 'tf': 1},\n 'اهل\\u200cب': {'tf_idf': 2.913603459591522, 'tf': 3},\n 'بنده': {'tf_idf': 2.0314102987352087, 'tf': 2},\n 'پیشرو': {'tf_idf': 2.183341033664425, 'tf': 1},\n 'یافته': {'tf_idf': 2.041108041869711, 'tf': 1},\n 'مسلمان': {'tf_idf': 2.033352577172949, 'tf': 1},\n 'ارشاد': {'tf_idf': 2.137041014011456, 'tf': 1},\n 'تهدید': {'tf_idf': 1.9616823729219808, 'tf': 2},\n 'چه\\u200cبسا': {'tf_idf': 2.5066474240395586, 'tf': 1},\n 'سخن': {'tf_idf': 1.3935841013791388, 'tf': 1},\n 'کلم': {'tf_idf': 3.5449205724962223, 'tf': 2},\n 'پایبند': {'tf_idf': 2.477925379322441, 'tf': 2},\n 'قیاس': {'tf_idf': 3.003141219509179, 'tf': 2},\n 'لذا': {'tf_idf': 1.2242996413433316, 'tf': 1},\n 'قواعد': {'tf_idf': 3.590749895530578, 'tf': 4},\n 'ربط': {'tf_idf': 2.0952049449638737, 'tf': 1},\n 'مطابق': {'tf_idf': 1.6850304798748246, 'tf': 1},\n 'سیاست': {'tf_idf': 1.3822805038165695, 'tf': 1},\n 'فرهیخته': {'tf_idf': 2.4953664136298697, 'tf': 1},\n 'زب': {'tf_idf': 5.470607264232405, 'tf': 111},\n 'فراهم\\u200cشده': {'tf_idf': 2.4143331627206512, 'tf': 1},\n 'چانه': {'tf_idf': 3.38746101632035, 'tf': 1},\n 'معیار': {'tf_idf': 3.1080991456151863, 'tf': 3},\n 'رایزنی': {'tf_idf': 3.5800591819288536, 'tf': 3},\n 'برداشتند': {'tf_idf': 3.683422151214045, 'tf': 2},\n 'تدوین': {'tf_idf': 1.517057111041323, 'tf': 1},\n 'صرفا': {'tf_idf': 1.5362026676012746, 'tf': 1},\n 'امروزه': {'tf_idf': 3.276274098033507, 'tf': 4},\n 'وفادار': {'tf_idf': 2.2351726719372933, 'tf': 1},\n 'حوادث': {'tf_idf': 1.742038746971258, 'tf': 1},\n 'گستر': {'tf_idf': 3.5729667374562317, 'tf': 22},\n 'نمی\\u200cرس': {'tf_idf': 2.8823110380004437, 'tf': 1},\n 'مراکز': {'tf_idf': 2.7005151538697083, 'tf': 5},\n 'علی\\u200cالخصوص': {'tf_idf': 2.5066474240395586, 'tf': 1},\n 'خارجی\\u200c': {'tf_idf': 2.6550672564973814, 'tf': 1},\n 'دانشجو': {'tf_idf': 2.4300931904635186, 'tf': 7},\n 'یافته\\u200cاند': {'tf_idf': 2.972487668349532, 'tf': 1},\n 'دستاورد': {'tf_idf': 1.5386563152685462, 'tf': 1},\n 'شهلا': {'tf_idf': 5.919841862806381, 'tf': 5},\n 'میراث': {'tf_idf': 2.033352577172949, 'tf': 1},\n 'پیوند': {'tf_idf': 3.0506124430891437, 'tf': 3},\n 'یادگیر': {'tf_idf': 3.854266915412696, 'tf': 3},\n 'روزنامه': {'tf_idf': 2.082109646873726, 'tf': 1},\n 'شاخه': {'tf_idf': 2.4953664136298697, 'tf': 1},\n 'تعبیر': {'tf_idf': 1.8689470764424625, 'tf': 1},\n 'گوشزد': {'tf_idf': 2.3540372608334, 'tf': 1},\n 'همان\\u200cطور': {'tf_idf': 2.3460683311621247, 'tf': 1},\n 'عنصر': {'tf_idf': 2.199940295483887, 'tf': 1},\n 'سخنان': {'tf_idf': 2.8100013066496583, 'tf': 4},\n 'می\\u200cگرفت': {'tf_idf': 2.6392729893141493, 'tf': 1},\n 'ساده\\u200c': {'tf_idf': 2.7642117259224492, 'tf': 1},\n 'همین\\u200cطور': {'tf_idf': 3.2182891589706975, 'tf': 2},\n 'اساتید': {'tf_idf': 1.708033119708231, 'tf': 1},\n 'بیگانه': {'tf_idf': 2.099659286390124, 'tf': 1},\n 'توده': {'tf_idf': 2.6392729893141493, 'tf': 1},\n 'مقاله': {'tf_idf': 2.5679170807784812, 'tf': 1},\n 'نشست\\u200c': {'tf_idf': 2.38746101632035, 'tf': 1},\n 'عمده': {'tf_idf': 1.8053976534086411, 'tf': 1},\n 'آیندگ': {'tf_idf': 2.7854010249923875, 'tf': 1},\n 'پیشینه': {'tf_idf': 2.4953664136298697, 'tf': 1},\n 'زبان': {'tf_idf': 4.071131287468626, 'tf': 5},\n 'به\\u200cخاطر': {'tf_idf': 2.595069326822096, 'tf': 1},\n 'واژه': {'tf_idf': 3.0126377480573825, 'tf': 2},\n 'خواهیم_رسید': {'tf_idf': 2.9403029849781306, 'tf': 1},\n 'منظر': {'tf_idf': 2.793196608261104, 'tf': 2},\n 'نوشتن': {'tf_idf': 3.2762918508225836, 'tf': 2},\n 'دوره\\u200c': {'tf_idf': 2.8311585155530627, 'tf': 1},\n 'سعد': {'tf_idf': 4.770159717927865, 'tf': 5},\n 'حافظ': {'tf_idf': 2.452962565076782, 'tf': 1},\n 'رسال': {'tf_idf': 1.9860604755388058, 'tf': 1},\n 'نر': {'tf_idf': 2.421375207930897, 'tf': 2},\n 'سینما': {'tf_idf': 2.4236731889747944, 'tf': 1},\n 'همایش\\u200c': {'tf_idf': 3.132188511217044, 'tf': 1},\n 'آثار': {'tf_idf': 2.620428432542478, 'tf': 5},\n 'خدشه': {'tf_idf': 2.3460683311621247, 'tf': 1},\n 'سلاح': {'tf_idf': 2.007249774608744, 'tf': 1},\n 'علو': {'tf_idf': 2.1285446547930187, 'tf': 3},\n 'تلفظ': {'tf_idf': 4.924920279132276, 'tf': 2},\n 'گران': {'tf_idf': 2.512412497608122, 'tf': 2},\n 'روزنامه\\u200c': {'tf_idf': 2.8823110380004437, 'tf': 1},\n 'مؤثر': {'tf_idf': 2.3608352575842804, 'tf': 2},\n 'مستقل': {'tf_idf': 1.6697905133180877, 'tf': 1},\n 'مقاطع': {'tf_idf': 2.162151734594487, 'tf': 1},\n 'ملاحظه': {'tf_idf': 2.14691176803775, 'tf': 1},\n 'واژه\\u200c': {'tf_idf': 2.9103397616006874, 'tf': 1},\n 'موسیق': {'tf_idf': 3.570037158476369, 'tf': 2},\n 'اشکالات': {'tf_idf': 2.5549521036141134, 'tf': 1},\n 'ولیکن': {'tf_idf': 2.8311585155530627, 'tf': 1},\n 'عامیانه': {'tf_idf': 3.38746101632035, 'tf': 1},\n 'تدریس': {'tf_idf': 2.294039331158115, 'tf': 1},\n 'نوشتار': {'tf_idf': 2.8559820992780947, 'tf': 1},\n 'شرقی\\u200c': {'tf_idf': 3.4843710293284063, 'tf': 1},\n 'پافشار': {'tf_idf': 2.6550672564973814, 'tf': 1},\n 'دانشکده': {'tf_idf': 2.1419483485062, 'tf': 1},\n 'گسترده_بود': {'tf_idf': 3.38746101632035, 'tf': 1},\n 'فرمودند': {'tf_idf': 1.6972649362918362, 'tf': 1},\n 'اقصی\\u200cنقاط': {'tf_idf': 3.38746101632035, 'tf': 1},\n 'سیاست\\u200cگذار': {'tf_idf': 2.0611251553915984, 'tf': 1},\n 'میزگرد': {'tf_idf': 2.706219778944763, 'tf': 1},\n 'تهاج': {'tf_idf': 2.2290985242251002, 'tf': 1},\n 'عو': {'tf_idf': 4.49789084680049, 'tf': 3},\n 'دانشگاه\\u200c': {'tf_idf': 2.2058910410581443, 'tf': 2},\n 'مجهز': {'tf_idf': 2.4332185068810253, 'tf': 1},\n 'کتاب\\u200c': {'tf_idf': 4.770159717927865, 'tf': 5},\n 'تجل': {'tf_idf': 2.2539221079501326, 'tf': 1},\n 'دائما': {'tf_idf': 2.2056174283755774, 'tf': 1},\n 'تئا': {'tf_idf': 3.007249774608744, 'tf': 1},\n 'بالعکس': {'tf_idf': 2.8311585155530627, 'tf': 1},\n 'پلاکارد': {'tf_idf': 3.38746101632035, 'tf': 1},\n 'نویسندگ': {'tf_idf': 3.4756465643105914, 'tf': 2},\n 'شاعر': {'tf_idf': 4.462379541944202, 'tf': 4},\n 'یک\\u200cزب': {'tf_idf': 3.7854010249923875, 'tf': 1},\n 'بیاب': {'tf_idf': 3.241332980642112, 'tf': 1},\n 'درگذشته': {'tf_idf': 5.099903308786376, 'tf': 4},\n 'صدسال': {'tf_idf': 3.7854010249923875, 'tf': 1},\n 'مؤسسه': {'tf_idf': 2.4736471639366333, 'tf': 1},\n 'آموختن': {'tf_idf': 4.924920279132276, 'tf': 2},\n 'تشکل': {'tf_idf': 1.3704276770215695, 'tf': 1},\n 'تألیف': {'tf_idf': 4.307123887344923, 'tf': 4},\n 'دانشمند': {'tf_idf': 1.9792210510085004, 'tf': 1},\n 'گستره': {'tf_idf': 2.609309765936706, 'tf': 1},\n 'علامه': {'tf_idf': 3.415893907789959, 'tf': 4},\n 'مؤسس': {'tf_idf': 2.819791170882829, 'tf': 2},\n 'بودجه\\u200c': {'tf_idf': 2.8311585155530627, 'tf': 1},\n 'فرموده': {'tf_idf': 2.5182292965893738, 'tf': 1},\n 'نادعل': {'tf_idf': 4.695820269126598, 'tf': 2},\n 'اشاعه': {'tf_idf': 2.7247031846387757, 'tf': 1},\n 'هیئت\\u200cعلم': {'tf_idf': 4.182628917678396, 'tf': 7},\n 'به\\u200cشرط': {'tf_idf': 3.308279770272725, 'tf': 1},\n 'طباطبائ': {'tf_idf': 4.535685786875027, 'tf': 4},\n 'تمدن\\u200cساز': {'tf_idf': 2.80767741970354, 'tf': 1},\n 'نظریه\\u200cپرداز': {'tf_idf': 2.7247031846387757, 'tf': 1},\n 'رسم\\u200cالخط': {'tf_idf': 4.40718839137517, 'tf': 2},\n 'خلیل\\u200cالله': {'tf_idf': 6.036154116557285, 'tf': 3},\n 'نادعلی\\u200cزاده': {'tf_idf': 6.546707645515059, 'tf': 4},\n 'سلجوق': {'tf_idf': 3.7854010249923875, 'tf': 1},\n 'باتوجه\\u200cبه': {'tf_idf': 4.886730365228924, 'tf': 3},\n 'فرهنگس': {'tf_idf': 5.109227162606509, 'tf': 5},\n 'شرق\\u200cشناس': {'tf_idf': 3.7854010249923875, 'tf': 1},\n 'این\\u200cجه': {'tf_idf': 4.086431020656368, 'tf': 1},\n 'بالک': {'tf_idf': 3.7854010249923875, 'tf': 1},\n 'نویسندگان': {'tf_idf': 5.316569333085713, 'tf': 2},\n 'می\\u200cرفته': {'tf_idf': 3.4843710293284063, 'tf': 1},\n 'می\\u200cآموختند': {'tf_idf': 4.086431020656368, 'tf': 1},\n 'ازاین\\u200cحیث': {'tf_idf': 4.086431020656368, 'tf': 1},\n 'گریبان\\u200cگیر': {'tf_idf': 3.609309765936706, 'tf': 1},\n 'ازاین\\u200cجه': {'tf_idf': 3.7854010249923875, 'tf': 1},\n 'موردتوجه': {'tf_idf': 4.217071433750326, 'tf': 2},\n 'زبان\\u200cشناس': {'tf_idf': 3.609309765936706, 'tf': 1},\n 'بحث\\u200cوبررس': {'tf_idf': 4.086431020656368, 'tf': 1},\n 'محاور': {'tf_idf': 4.086431020656368, 'tf': 1},\n 'تحصیل\\u200cکرده\\u200cاند': {'tf_idf': 3.7854010249923875, 'tf': 1},\n 'عوامانه': {'tf_idf': 3.609309765936706, 'tf': 1},\n 'هنجارشکن': {'tf_idf': 3.308279770272725, 'tf': 1},\n 'ساده\\u200cساز': {'tf_idf': 3.38746101632035, 'tf': 1},\n 'قدما': {'tf_idf': 3.609309765936706, 'tf': 1},\n 'گذشتگ': {'tf_idf': 2.80767741970354, 'tf': 1},\n 'جامعةالمصطف': {'tf_idf': 4.924920279132276, 'tf': 2},\n 'زیراکه': {'tf_idf': 4.086431020656368, 'tf': 1},\n 'دوسویه': {'tf_idf': 3.132188511217044, 'tf': 1},\n 'بشیریه': {'tf_idf': 4.086431020656368, 'tf': 1},\n 'لغت\\u200cنامه': {'tf_idf': 4.086431020656368, 'tf': 1},\n 'دهخدا': {'tf_idf': 4.086431020656368, 'tf': 1},\n 'زبان\\u200cآموز': {'tf_idf': 5.316569333085713, 'tf': 2},\n 'علوم\\u200cانسان': {'tf_idf': 3.609309765936706, 'tf': 1},\n 'می\\u200cآموزند': {'tf_idf': 3.4843710293284063, 'tf': 1},\n 'هویت\\u200cبخ': {'tf_idf': 3.4843710293284063, 'tf': 1},\n 'مطرح\\u200cشدن': {'tf_idf': 4.695820269126598, 'tf': 2},\n 'به\\u200cحساب': {'tf_idf': 3.308279770272725, 'tf': 1},\n 'آموزش\\u200cوپرور': {'tf_idf': 3.38746101632035, 'tf': 1},\n 'به\\u200cدست\\u200cآوردن': {'tf_idf': 3.7854010249923875, 'tf': 1}}"
     },
     "execution_count": 44,
     "metadata": {},
     "output_type": "execute_result"
    }
   ],
   "source": [
    "docs_vectors['7435']"
   ],
   "metadata": {
    "collapsed": false,
    "ExecuteTime": {
     "end_time": "2025-01-11T00:08:05.120693Z",
     "start_time": "2025-01-11T00:08:05.034414Z"
    }
   },
   "id": "9cea4d7dc4bae15a"
  },
  {
   "cell_type": "code",
   "execution_count": 36,
   "outputs": [
    {
     "data": {
      "text/plain": "{'7435': {'number_of_token': 64, 'tf_idf': 0.0059070807944042346},\n '11697': {'number_of_token': 36, 'tf_idf': 0.0053810823065394255},\n '163': {'number_of_token': 35, 'tf_idf': 0.005355328462095761},\n '6404': {'number_of_token': 35, 'tf_idf': 0.005355328462095761},\n '1322': {'number_of_token': 33, 'tf_idf': 0.00530153641698586},\n '1633': {'number_of_token': 31, 'tf_idf': 0.00524438024289291},\n '6755': {'number_of_token': 27, 'tf_idf': 0.00511808306260702},\n '7584': {'number_of_token': 26, 'tf_idf': 0.005083580816288167},\n '821': {'number_of_token': 25, 'tf_idf': 0.005047725200337222},\n '2388': {'number_of_token': 24, 'tf_idf': 0.0050104056913280555},\n '7744': {'number_of_token': 24, 'tf_idf': 0.0050104056913280555},\n '525': {'number_of_token': 19, 'tf_idf': 0.00479683475620343},\n '8680': {'number_of_token': 16, 'tf_idf': 0.004639729076116687},\n '10183': {'number_of_token': 16, 'tf_idf': 0.004639729076116687},\n '10025': {'number_of_token': 15, 'tf_idf': 0.00458072789429455},\n '2831': {'number_of_token': 14, 'tf_idf': 0.00451765454084172},\n '8897': {'number_of_token': 14, 'tf_idf': 0.00451765454084172},\n '9687': {'number_of_token': 14, 'tf_idf': 0.00451765454084172},\n '1684': {'number_of_token': 13, 'tf_idf': 0.004449904957144393},\n '2098': {'number_of_token': 13, 'tf_idf': 0.004449904957144393}}"
     },
     "execution_count": 36,
     "metadata": {},
     "output_type": "execute_result"
    }
   ],
   "source": [
    "dictionary['فارس']['champions_list']"
   ],
   "metadata": {
    "collapsed": false,
    "ExecuteTime": {
     "end_time": "2025-01-10T23:02:03.571026Z",
     "start_time": "2025-01-10T23:02:03.566233Z"
    }
   },
   "id": "78ec1d58f6254401"
  },
  {
   "cell_type": "code",
   "execution_count": 37,
   "outputs": [
    {
     "data": {
      "text/plain": "{'frequency': 6298,\n 'docs': {'13': {'positions': [79, 91],\n   'number_of_token': 2,\n   'tf_idf': 1.084825715800724},\n  '89': {'positions': [301],\n   'number_of_token': 1,\n   'tf_idf': 0.8338206800889957},\n  '100': {'positions': [149],\n   'number_of_token': 1,\n   'tf_idf': 0.8338206800889957},\n  '106': {'positions': [34],\n   'number_of_token': 1,\n   'tf_idf': 0.8338206800889957},\n  '140': {'positions': [492],\n   'number_of_token': 1,\n   'tf_idf': 0.8338206800889957},\n  '461': {'positions': [457],\n   'number_of_token': 1,\n   'tf_idf': 0.8338206800889957},\n  '465': {'positions': [289],\n   'number_of_token': 1,\n   'tf_idf': 0.8338206800889957},\n  '472': {'positions': [295],\n   'number_of_token': 1,\n   'tf_idf': 0.8338206800889957},\n  '479': {'positions': [51],\n   'number_of_token': 1,\n   'tf_idf': 0.8338206800889957},\n  '545': {'positions': [33, 66],\n   'number_of_token': 2,\n   'tf_idf': 1.084825715800724},\n  '708': {'positions': [13],\n   'number_of_token': 1,\n   'tf_idf': 0.8338206800889957},\n  '913': {'positions': [348],\n   'number_of_token': 1,\n   'tf_idf': 0.8338206800889957},\n  '1013': {'positions': [244],\n   'number_of_token': 1,\n   'tf_idf': 0.8338206800889957},\n  '1200': {'positions': [55],\n   'number_of_token': 1,\n   'tf_idf': 0.8338206800889957},\n  '1202': {'positions': [513, 523],\n   'number_of_token': 2,\n   'tf_idf': 1.084825715800724},\n  '1204': {'positions': [294],\n   'number_of_token': 1,\n   'tf_idf': 0.8338206800889957},\n  '1252': {'positions': [488],\n   'number_of_token': 1,\n   'tf_idf': 0.8338206800889957},\n  '1323': {'positions': [67],\n   'number_of_token': 1,\n   'tf_idf': 0.8338206800889957},\n  '1355': {'positions': [44],\n   'number_of_token': 1,\n   'tf_idf': 0.8338206800889957},\n  '1419': {'positions': [444],\n   'number_of_token': 1,\n   'tf_idf': 0.8338206800889957},\n  '1445': {'positions': [75],\n   'number_of_token': 1,\n   'tf_idf': 0.8338206800889957},\n  '1480': {'positions': [178],\n   'number_of_token': 1,\n   'tf_idf': 0.8338206800889957},\n  '1527': {'positions': [74],\n   'number_of_token': 1,\n   'tf_idf': 0.8338206800889957},\n  '1546': {'positions': [178],\n   'number_of_token': 1,\n   'tf_idf': 0.8338206800889957},\n  '1624': {'positions': [210],\n   'number_of_token': 1,\n   'tf_idf': 0.8338206800889957},\n  '1668': {'positions': [52],\n   'number_of_token': 1,\n   'tf_idf': 0.8338206800889957},\n  '1773': {'positions': [23],\n   'number_of_token': 1,\n   'tf_idf': 0.8338206800889957},\n  '1816': {'positions': [183, 185],\n   'number_of_token': 2,\n   'tf_idf': 1.084825715800724},\n  '2250': {'positions': [13, 50, 60, 64, 76, 86, 102, 146, 159, 168, 176, 193],\n   'number_of_token': 12,\n   'tf_idf': 1.7336643206077162},\n  '3014': {'positions': [11, 184, 269, 326],\n   'number_of_token': 4,\n   'tf_idf': 1.3358307515124521},\n  '3221': {'positions': [177],\n   'number_of_token': 1,\n   'tf_idf': 0.8338206800889957},\n  '3283': {'positions': [137],\n   'number_of_token': 1,\n   'tf_idf': 0.8338206800889957},\n  '3369': {'positions': [389, 394, 398, 400, 415],\n   'number_of_token': 5,\n   'tf_idf': 1.4166363244662632},\n  '3387': {'positions': [414],\n   'number_of_token': 1,\n   'tf_idf': 0.8338206800889957},\n  '3419': {'positions': [5],\n   'number_of_token': 1,\n   'tf_idf': 0.8338206800889957},\n  '3629': {'positions': [8],\n   'number_of_token': 1,\n   'tf_idf': 0.8338206800889957},\n  '3696': {'positions': [38],\n   'number_of_token': 1,\n   'tf_idf': 0.8338206800889957},\n  '3720': {'positions': [110],\n   'number_of_token': 1,\n   'tf_idf': 0.8338206800889957},\n  '3734': {'positions': [8, 32, 40, 56, 60, 66, 74, 79, 91, 106],\n   'number_of_token': 10,\n   'tf_idf': 1.6676413601779914},\n  '4013': {'positions': [77],\n   'number_of_token': 1,\n   'tf_idf': 0.8338206800889957},\n  '4216': {'positions': [556, 594],\n   'number_of_token': 2,\n   'tf_idf': 1.084825715800724},\n  '4347': {'positions': [215],\n   'number_of_token': 1,\n   'tf_idf': 0.8338206800889957},\n  '4350': {'positions': [11, 33],\n   'number_of_token': 2,\n   'tf_idf': 1.084825715800724},\n  '4451': {'positions': [257, 260, 740, 746, 767],\n   'number_of_token': 5,\n   'tf_idf': 1.4166363244662632},\n  '4497': {'positions': [38, 87, 105],\n   'number_of_token': 3,\n   'tf_idf': 1.2316542491842595},\n  '4531': {'positions': [163],\n   'number_of_token': 1,\n   'tf_idf': 0.8338206800889957},\n  '4552': {'positions': [51],\n   'number_of_token': 1,\n   'tf_idf': 0.8338206800889957},\n  '4580': {'positions': [45],\n   'number_of_token': 1,\n   'tf_idf': 0.8338206800889957},\n  '4673': {'positions': [204],\n   'number_of_token': 1,\n   'tf_idf': 0.8338206800889957},\n  '4817': {'positions': [48],\n   'number_of_token': 1,\n   'tf_idf': 0.8338206800889957},\n  '4899': {'positions': [20],\n   'number_of_token': 1,\n   'tf_idf': 0.8338206800889957},\n  '4906': {'positions': [15],\n   'number_of_token': 1,\n   'tf_idf': 0.8338206800889957},\n  '4930': {'positions': [22],\n   'number_of_token': 1,\n   'tf_idf': 0.8338206800889957},\n  '5133': {'positions': [425],\n   'number_of_token': 1,\n   'tf_idf': 0.8338206800889957},\n  '5213': {'positions': [7, 68, 130, 146, 194, 202, 231, 252],\n   'number_of_token': 8,\n   'tf_idf': 1.5868357872241803},\n  '5247': {'positions': [4, 32, 42, 50, 66, 73],\n   'number_of_token': 6,\n   'tf_idf': 1.4826592848959879},\n  '5268': {'positions': [366],\n   'number_of_token': 1,\n   'tf_idf': 0.8338206800889957},\n  '5275': {'positions': [19, 22, 28, 41, 46, 212, 288, 434, 938],\n   'number_of_token': 9,\n   'tf_idf': 1.6294878182795234},\n  '5386': {'positions': [44],\n   'number_of_token': 1,\n   'tf_idf': 0.8338206800889957},\n  '5414': {'positions': [10, 42, 118, 155, 162, 179],\n   'number_of_token': 6,\n   'tf_idf': 1.4826592848959879},\n  '5474': {'positions': [5, 37, 65, 84],\n   'number_of_token': 4,\n   'tf_idf': 1.3358307515124521},\n  '5537': {'positions': [15, 32, 60],\n   'number_of_token': 3,\n   'tf_idf': 1.2316542491842595},\n  '5630': {'positions': [62, 74, 143],\n   'number_of_token': 3,\n   'tf_idf': 1.2316542491842595},\n  '5767': {'positions': [148, 166],\n   'number_of_token': 2,\n   'tf_idf': 1.084825715800724},\n  '5917': {'positions': [24],\n   'number_of_token': 1,\n   'tf_idf': 0.8338206800889957},\n  '5952': {'positions': [245],\n   'number_of_token': 1,\n   'tf_idf': 0.8338206800889957},\n  '5989': {'positions': [128],\n   'number_of_token': 1,\n   'tf_idf': 0.8338206800889957},\n  '6002': {'positions': [165],\n   'number_of_token': 1,\n   'tf_idf': 0.8338206800889957},\n  '6047': {'positions': [129, 213],\n   'number_of_token': 2,\n   'tf_idf': 1.084825715800724},\n  '6364': {'positions': [63, 137],\n   'number_of_token': 2,\n   'tf_idf': 1.084825715800724},\n  '6411': {'positions': [485],\n   'number_of_token': 1,\n   'tf_idf': 0.8338206800889957},\n  '6434': {'positions': [218, 261, 263],\n   'number_of_token': 3,\n   'tf_idf': 1.2316542491842595},\n  '6535': {'positions': [264],\n   'number_of_token': 1,\n   'tf_idf': 0.8338206800889957},\n  '6737': {'positions': [78, 136, 161],\n   'number_of_token': 3,\n   'tf_idf': 1.2316542491842595},\n  '6857': {'positions': [60, 64, 74, 100, 104, 322, 535],\n   'number_of_token': 7,\n   'tf_idf': 1.5384809025555606},\n  '6858': {'positions': [89],\n   'number_of_token': 1,\n   'tf_idf': 0.8338206800889957},\n  '6859': {'positions': [127],\n   'number_of_token': 1,\n   'tf_idf': 0.8338206800889957},\n  '6861': {'positions': [85, 114],\n   'number_of_token': 2,\n   'tf_idf': 1.084825715800724},\n  '6863': {'positions': [108],\n   'number_of_token': 1,\n   'tf_idf': 0.8338206800889957},\n  '6864': {'positions': [120, 199, 240, 250, 318, 383, 449],\n   'number_of_token': 7,\n   'tf_idf': 1.5384809025555606},\n  '6867': {'positions': [16, 400],\n   'number_of_token': 2,\n   'tf_idf': 1.084825715800724},\n  '6868': {'positions': [8, 94],\n   'number_of_token': 2,\n   'tf_idf': 1.084825715800724},\n  '6869': {'positions': [8, 30, 40],\n   'number_of_token': 3,\n   'tf_idf': 1.2316542491842595},\n  '6873': {'positions': [82],\n   'number_of_token': 1,\n   'tf_idf': 0.8338206800889957},\n  '6875': {'positions': [64, 69, 639, 644, 1133, 1313, 1339],\n   'number_of_token': 7,\n   'tf_idf': 1.5384809025555606},\n  '6896': {'positions': [44, 57, 85, 90, 107, 132, 145],\n   'number_of_token': 7,\n   'tf_idf': 1.5384809025555606},\n  '6898': {'positions': [4, 24, 34, 69, 110],\n   'number_of_token': 5,\n   'tf_idf': 1.4166363244662632},\n  '6900': {'positions': [55, 67, 115],\n   'number_of_token': 3,\n   'tf_idf': 1.2316542491842595},\n  '6913': {'positions': [3, 111],\n   'number_of_token': 2,\n   'tf_idf': 1.084825715800724},\n  '6916': {'positions': [81, 158, 327],\n   'number_of_token': 3,\n   'tf_idf': 1.2316542491842595},\n  '6919': {'positions': [24, 30, 33, 47, 83, 132],\n   'number_of_token': 6,\n   'tf_idf': 1.4826592848959879},\n  '6920': {'positions': [17, 66, 179, 209],\n   'number_of_token': 4,\n   'tf_idf': 1.3358307515124521},\n  '6923': {'positions': [16, 46, 79, 168],\n   'number_of_token': 4,\n   'tf_idf': 1.3358307515124521},\n  '6925': {'positions': [5, 64],\n   'number_of_token': 2,\n   'tf_idf': 1.084825715800724},\n  '6928': {'positions': [3],\n   'number_of_token': 1,\n   'tf_idf': 0.8338206800889957},\n  '6936': {'positions': [66],\n   'number_of_token': 1,\n   'tf_idf': 0.8338206800889957},\n  '6938': {'positions': [93],\n   'number_of_token': 1,\n   'tf_idf': 0.8338206800889957},\n  '6943': {'positions': [72, 215],\n   'number_of_token': 2,\n   'tf_idf': 1.084825715800724},\n  '6946': {'positions': [709],\n   'number_of_token': 1,\n   'tf_idf': 0.8338206800889957},\n  '6958': {'positions': [22, 85],\n   'number_of_token': 2,\n   'tf_idf': 1.084825715800724},\n  '6965': {'positions': [4, 95, 196],\n   'number_of_token': 3,\n   'tf_idf': 1.2316542491842595},\n  '6969': {'positions': [84, 261],\n   'number_of_token': 2,\n   'tf_idf': 1.084825715800724},\n  '6978': {'positions': [65],\n   'number_of_token': 1,\n   'tf_idf': 0.8338206800889957},\n  '6981': {'positions': [144],\n   'number_of_token': 1,\n   'tf_idf': 0.8338206800889957},\n  '6990': {'positions': [3, 42, 126],\n   'number_of_token': 3,\n   'tf_idf': 1.2316542491842595},\n  '7004': {'positions': [3, 207, 285],\n   'number_of_token': 3,\n   'tf_idf': 1.2316542491842595},\n  '7006': {'positions': [24,\n    33,\n    43,\n    152,\n    198,\n    221,\n    243,\n    263,\n    285,\n    308,\n    359,\n    380],\n   'number_of_token': 12,\n   'tf_idf': 1.7336643206077162},\n  '7009': {'positions': [7, 40, 74, 79, 102],\n   'number_of_token': 5,\n   'tf_idf': 1.4166363244662632},\n  '7034': {'positions': [132],\n   'number_of_token': 1,\n   'tf_idf': 0.8338206800889957},\n  '7036': {'positions': [86],\n   'number_of_token': 1,\n   'tf_idf': 0.8338206800889957},\n  '7045': {'positions': [51, 91],\n   'number_of_token': 2,\n   'tf_idf': 1.084825715800724},\n  '7050': {'positions': [57],\n   'number_of_token': 1,\n   'tf_idf': 0.8338206800889957},\n  '7053': {'positions': [11],\n   'number_of_token': 1,\n   'tf_idf': 0.8338206800889957},\n  '7054': {'positions': [3, 137],\n   'number_of_token': 2,\n   'tf_idf': 1.084825715800724},\n  '7061': {'positions': [94],\n   'number_of_token': 1,\n   'tf_idf': 0.8338206800889957},\n  '7070': {'positions': [61, 142],\n   'number_of_token': 2,\n   'tf_idf': 1.084825715800724},\n  '7071': {'positions': [47],\n   'number_of_token': 1,\n   'tf_idf': 0.8338206800889957},\n  '7078': {'positions': [22, 344],\n   'number_of_token': 2,\n   'tf_idf': 1.084825715800724},\n  '7084': {'positions': [87, 272],\n   'number_of_token': 2,\n   'tf_idf': 1.084825715800724},\n  '7097': {'positions': [270, 461, 603, 609, 653, 799],\n   'number_of_token': 6,\n   'tf_idf': 1.4826592848959879},\n  '7100': {'positions': [9, 67, 78, 141],\n   'number_of_token': 4,\n   'tf_idf': 1.3358307515124521},\n  '7105': {'positions': [410, 414, 519],\n   'number_of_token': 3,\n   'tf_idf': 1.2316542491842595},\n  '7114': {'positions': [243],\n   'number_of_token': 1,\n   'tf_idf': 0.8338206800889957},\n  '7116': {'positions': [66, 148, 236],\n   'number_of_token': 3,\n   'tf_idf': 1.2316542491842595},\n  '7117': {'positions': [4, 80, 171],\n   'number_of_token': 3,\n   'tf_idf': 1.2316542491842595},\n  '7124': {'positions': [19, 47],\n   'number_of_token': 2,\n   'tf_idf': 1.084825715800724},\n  '7138': {'positions': [70],\n   'number_of_token': 1,\n   'tf_idf': 0.8338206800889957},\n  '7144': {'positions': [3, 184],\n   'number_of_token': 2,\n   'tf_idf': 1.084825715800724},\n  '7152': {'positions': [28, 112, 133],\n   'number_of_token': 3,\n   'tf_idf': 1.2316542491842595},\n  '7160': {'positions': [3, 90, 306],\n   'number_of_token': 3,\n   'tf_idf': 1.2316542491842595},\n  '7162': {'positions': [42, 172, 214, 639],\n   'number_of_token': 4,\n   'tf_idf': 1.3358307515124521},\n  '7163': {'positions': [40, 184],\n   'number_of_token': 2,\n   'tf_idf': 1.084825715800724},\n  '7165': {'positions': [117],\n   'number_of_token': 1,\n   'tf_idf': 0.8338206800889957},\n  '7166': {'positions': [242],\n   'number_of_token': 1,\n   'tf_idf': 0.8338206800889957},\n  '7170': {'positions': [1341],\n   'number_of_token': 1,\n   'tf_idf': 0.8338206800889957},\n  '7172': {'positions': [287],\n   'number_of_token': 1,\n   'tf_idf': 0.8338206800889957},\n  '7184': {'positions': [408, 498, 506, 552, 560, 584, 590, 642, 808, 975],\n   'number_of_token': 10,\n   'tf_idf': 1.6676413601779914},\n  '7185': {'positions': [34, 38, 113, 132, 151],\n   'number_of_token': 5,\n   'tf_idf': 1.4166363244662632},\n  '7189': {'positions': [8, 52],\n   'number_of_token': 2,\n   'tf_idf': 1.084825715800724},\n  '7215': {'positions': [4, 30, 79, 107, 112],\n   'number_of_token': 5,\n   'tf_idf': 1.4166363244662632},\n  '7216': {'positions': [27],\n   'number_of_token': 1,\n   'tf_idf': 0.8338206800889957},\n  '7221': {'positions': [23],\n   'number_of_token': 1,\n   'tf_idf': 0.8338206800889957},\n  '7223': {'positions': [90],\n   'number_of_token': 1,\n   'tf_idf': 0.8338206800889957},\n  '7229': {'positions': [26],\n   'number_of_token': 1,\n   'tf_idf': 0.8338206800889957},\n  '7233': {'positions': [26],\n   'number_of_token': 1,\n   'tf_idf': 0.8338206800889957},\n  '7234': {'positions': [177, 450],\n   'number_of_token': 2,\n   'tf_idf': 1.084825715800724},\n  '7236': {'positions': [31, 592],\n   'number_of_token': 2,\n   'tf_idf': 1.084825715800724},\n  '7237': {'positions': [28],\n   'number_of_token': 1,\n   'tf_idf': 0.8338206800889957},\n  '7238': {'positions': [74],\n   'number_of_token': 1,\n   'tf_idf': 0.8338206800889957},\n  '7239': {'positions': [29],\n   'number_of_token': 1,\n   'tf_idf': 0.8338206800889957},\n  '7244': {'positions': [28],\n   'number_of_token': 1,\n   'tf_idf': 0.8338206800889957},\n  '7246': {'positions': [23],\n   'number_of_token': 1,\n   'tf_idf': 0.8338206800889957},\n  '7247': {'positions': [7, 45, 121, 160],\n   'number_of_token': 4,\n   'tf_idf': 1.3358307515124521},\n  '7262': {'positions': [48, 77, 85, 115, 120],\n   'number_of_token': 5,\n   'tf_idf': 1.4166363244662632},\n  '7266': {'positions': [62, 153],\n   'number_of_token': 2,\n   'tf_idf': 1.084825715800724},\n  '7276': {'positions': [4, 67, 375],\n   'number_of_token': 3,\n   'tf_idf': 1.2316542491842595},\n  '7284': {'positions': [8, 18, 193, 942, 1140, 1490],\n   'number_of_token': 6,\n   'tf_idf': 1.4826592848959879},\n  '7287': {'positions': [8, 17],\n   'number_of_token': 2,\n   'tf_idf': 1.084825715800724},\n  '7288': {'positions': [30],\n   'number_of_token': 1,\n   'tf_idf': 0.8338206800889957},\n  '7292': {'positions': [55, 68, 84],\n   'number_of_token': 3,\n   'tf_idf': 1.2316542491842595},\n  '7293': {'positions': [52, 82, 86],\n   'number_of_token': 3,\n   'tf_idf': 1.2316542491842595},\n  '7294': {'positions': [86],\n   'number_of_token': 1,\n   'tf_idf': 0.8338206800889957},\n  '7301': {'positions': [72, 395],\n   'number_of_token': 2,\n   'tf_idf': 1.084825715800724},\n  '7319': {'positions': [6, 23, 83, 89, 94, 139],\n   'number_of_token': 6,\n   'tf_idf': 1.4826592848959879},\n  '7321': {'positions': [93, 99, 109],\n   'number_of_token': 3,\n   'tf_idf': 1.2316542491842595},\n  '7325': {'positions': [56, 156],\n   'number_of_token': 2,\n   'tf_idf': 1.084825715800724},\n  '7334': {'positions': [148],\n   'number_of_token': 1,\n   'tf_idf': 0.8338206800889957},\n  '7337': {'positions': [9, 21, 95, 115, 137, 157, 189],\n   'number_of_token': 7,\n   'tf_idf': 1.5384809025555606},\n  '7338': {'positions': [16, 97],\n   'number_of_token': 2,\n   'tf_idf': 1.084825715800724},\n  '7340': {'positions': [174],\n   'number_of_token': 1,\n   'tf_idf': 0.8338206800889957},\n  '7342': {'positions': [216, 282, 325, 390, 498, 580],\n   'number_of_token': 6,\n   'tf_idf': 1.4826592848959879},\n  '7347': {'positions': [809, 826],\n   'number_of_token': 2,\n   'tf_idf': 1.084825715800724},\n  '7348': {'positions': [43, 77, 336, 419],\n   'number_of_token': 4,\n   'tf_idf': 1.3358307515124521},\n  '7349': {'positions': [3, 89, 193],\n   'number_of_token': 3,\n   'tf_idf': 1.2316542491842595},\n  '7359': {'positions': [56],\n   'number_of_token': 1,\n   'tf_idf': 0.8338206800889957},\n  '7364': {'positions': [39],\n   'number_of_token': 1,\n   'tf_idf': 0.8338206800889957},\n  '7369': {'positions': [106],\n   'number_of_token': 1,\n   'tf_idf': 0.8338206800889957},\n  '7373': {'positions': [31, 42, 64, 115, 331],\n   'number_of_token': 5,\n   'tf_idf': 1.4166363244662632},\n  '7378': {'positions': [57],\n   'number_of_token': 1,\n   'tf_idf': 0.8338206800889957},\n  '7382': {'positions': [3, 72],\n   'number_of_token': 2,\n   'tf_idf': 1.084825715800724},\n  '7384': {'positions': [29],\n   'number_of_token': 1,\n   'tf_idf': 0.8338206800889957},\n  '7388': {'positions': [3, 67],\n   'number_of_token': 2,\n   'tf_idf': 1.084825715800724},\n  '7389': {'positions': [9],\n   'number_of_token': 1,\n   'tf_idf': 0.8338206800889957},\n  '7391': {'positions': [195],\n   'number_of_token': 1,\n   'tf_idf': 0.8338206800889957},\n  '7394': {'positions': [59],\n   'number_of_token': 1,\n   'tf_idf': 0.8338206800889957},\n  '7396': {'positions': [41, 140, 167],\n   'number_of_token': 3,\n   'tf_idf': 1.2316542491842595},\n  '7397': {'positions': [38],\n   'number_of_token': 1,\n   'tf_idf': 0.8338206800889957},\n  '7398': {'positions': [118, 171],\n   'number_of_token': 2,\n   'tf_idf': 1.084825715800724},\n  '7399': {'positions': [3, 170],\n   'number_of_token': 2,\n   'tf_idf': 1.084825715800724},\n  '7401': {'positions': [8,\n    27,\n    107,\n    123,\n    141,\n    155,\n    162,\n    183,\n    254,\n    286,\n    332,\n    344,\n    347,\n    495,\n    631,\n    722,\n    791,\n    818,\n    978,\n    1081,\n    1167,\n    1181,\n    1257,\n    1278,\n    1311,\n    1322,\n    1345,\n    1348,\n    1364,\n    1391,\n    1396,\n    1462,\n    1559,\n    1572,\n    1595,\n    1603,\n    1622,\n    1687,\n    1763,\n    1774,\n    1790,\n    1904],\n   'number_of_token': 42,\n   'tf_idf': 2.187319507362553},\n  '7403': {'positions': [505, 861, 865, 883, 892, 910, 967, 981, 987],\n   'number_of_token': 9,\n   'tf_idf': 1.6294878182795234},\n  '7405': {'positions': [58],\n   'number_of_token': 1,\n   'tf_idf': 0.8338206800889957},\n  '7407': {'positions': [4, 149],\n   'number_of_token': 2,\n   'tf_idf': 1.084825715800724},\n  '7409': {'positions': [3, 26, 32, 80, 86, 113, 145, 218, 225, 235],\n   'number_of_token': 10,\n   'tf_idf': 1.6676413601779914},\n  '7413': {'positions': [73, 126],\n   'number_of_token': 2,\n   'tf_idf': 1.084825715800724},\n  '7415': {'positions': [8, 40, 57, 87, 91, 134, 152],\n   'number_of_token': 7,\n   'tf_idf': 1.5384809025555606},\n  '7422': {'positions': [3, 73, 141],\n   'number_of_token': 3,\n   'tf_idf': 1.2316542491842595},\n  '7423': {'positions': [45, 50],\n   'number_of_token': 2,\n   'tf_idf': 1.084825715800724},\n  '7424': {'positions': [85, 92, 98, 118, 154, 280, 314, 657, 680],\n   'number_of_token': 9,\n   'tf_idf': 1.6294878182795234},\n  '7427': {'positions': [58, 133],\n   'number_of_token': 2,\n   'tf_idf': 1.084825715800724},\n  '7428': {'positions': [517],\n   'number_of_token': 1,\n   'tf_idf': 0.8338206800889957},\n  '7444': {'positions': [37, 56, 107],\n   'number_of_token': 3,\n   'tf_idf': 1.2316542491842595},\n  '7450': {'positions': [5, 72, 165],\n   'number_of_token': 3,\n   'tf_idf': 1.2316542491842595},\n  '7454': {'positions': [202, 248],\n   'number_of_token': 2,\n   'tf_idf': 1.084825715800724},\n  '7457': {'positions': [43],\n   'number_of_token': 1,\n   'tf_idf': 0.8338206800889957},\n  '7458': {'positions': [65],\n   'number_of_token': 1,\n   'tf_idf': 0.8338206800889957},\n  '7459': {'positions': [68],\n   'number_of_token': 1,\n   'tf_idf': 0.8338206800889957},\n  '7462': {'positions': [8, 41, 58, 88, 92],\n   'number_of_token': 5,\n   'tf_idf': 1.4166363244662632},\n  '7463': {'positions': [40, 46, 60, 79, 101],\n   'number_of_token': 5,\n   'tf_idf': 1.4166363244662632},\n  '7465': {'positions': [19],\n   'number_of_token': 1,\n   'tf_idf': 0.8338206800889957},\n  '7470': {'positions': [29, 54, 60, 78, 111, 118, 131],\n   'number_of_token': 7,\n   'tf_idf': 1.5384809025555606},\n  '7471': {'positions': [42, 86, 161, 219, 397, 614, 744, 801],\n   'number_of_token': 8,\n   'tf_idf': 1.5868357872241803},\n  '7472': {'positions': [32, 205, 374, 405, 410, 434, 545, 555],\n   'number_of_token': 8,\n   'tf_idf': 1.5868357872241803},\n  '7474': {'positions': [86],\n   'number_of_token': 1,\n   'tf_idf': 0.8338206800889957},\n  '7482': {'positions': [152],\n   'number_of_token': 1,\n   'tf_idf': 0.8338206800889957},\n  '7483': {'positions': [92],\n   'number_of_token': 1,\n   'tf_idf': 0.8338206800889957},\n  '7486': {'positions': [88, 95, 125],\n   'number_of_token': 3,\n   'tf_idf': 1.2316542491842595},\n  '7487': {'positions': [45, 59, 74],\n   'number_of_token': 3,\n   'tf_idf': 1.2316542491842595},\n  '7488': {'positions': [51, 97],\n   'number_of_token': 2,\n   'tf_idf': 1.084825715800724},\n  '7491': {'positions': [54],\n   'number_of_token': 1,\n   'tf_idf': 0.8338206800889957},\n  '7492': {'positions': [150, 232],\n   'number_of_token': 2,\n   'tf_idf': 1.084825715800724},\n  '7494': {'positions': [5, 29, 70, 90, 107, 118, 127, 236],\n   'number_of_token': 8,\n   'tf_idf': 1.5868357872241803},\n  '7495': {'positions': [41, 49, 361, 372, 413],\n   'number_of_token': 5,\n   'tf_idf': 1.4166363244662632},\n  '7497': {'positions': [57],\n   'number_of_token': 1,\n   'tf_idf': 0.8338206800889957},\n  '7498': {'positions': [110],\n   'number_of_token': 1,\n   'tf_idf': 0.8338206800889957},\n  '7499': {'positions': [39, 56, 59, 100, 121, 153, 181],\n   'number_of_token': 7,\n   'tf_idf': 1.5384809025555606},\n  '7500': {'positions': [71, 79, 149, 196],\n   'number_of_token': 4,\n   'tf_idf': 1.3358307515124521},\n  '7505': {'positions': [3, 20, 27, 101, 112, 160, 211, 225],\n   'number_of_token': 8,\n   'tf_idf': 1.5868357872241803},\n  '7506': {'positions': [5,\n    25,\n    59,\n    67,\n    79,\n    91,\n    336,\n    338,\n    441,\n    719,\n    734,\n    747,\n    758,\n    783,\n    804,\n    889,\n    904,\n    921,\n    960,\n    963,\n    978,\n    1001,\n    1353,\n    1377,\n    1387,\n    1415,\n    1498,\n    1527,\n    1718,\n    1943,\n    1979,\n    2003,\n    2077,\n    2089,\n    2105,\n    2178,\n    2227,\n    2230,\n    2248,\n    2298,\n    2364,\n    2550,\n    2832,\n    2845,\n    2878,\n    2978,\n    3149,\n    3174],\n   'number_of_token': 48,\n   'tf_idf': 2.2356743920311724},\n  '7510': {'positions': [106],\n   'number_of_token': 1,\n   'tf_idf': 0.8338206800889957},\n  '7515': {'positions': [603],\n   'number_of_token': 1,\n   'tf_idf': 0.8338206800889957},\n  '7516': {'positions': [48, 99],\n   'number_of_token': 2,\n   'tf_idf': 1.084825715800724},\n  '7519': {'positions': [8, 33, 89, 106],\n   'number_of_token': 4,\n   'tf_idf': 1.3358307515124521},\n  '7521': {'positions': [69],\n   'number_of_token': 1,\n   'tf_idf': 0.8338206800889957},\n  '7523': {'positions': [33, 55, 57],\n   'number_of_token': 3,\n   'tf_idf': 1.2316542491842595},\n  '7524': {'positions': [66, 83, 120, 126],\n   'number_of_token': 4,\n   'tf_idf': 1.3358307515124521},\n  '7526': {'positions': [4, 83, 148],\n   'number_of_token': 3,\n   'tf_idf': 1.2316542491842595},\n  '7529': {'positions': [228],\n   'number_of_token': 1,\n   'tf_idf': 0.8338206800889957},\n  '7533': {'positions': [336],\n   'number_of_token': 1,\n   'tf_idf': 0.8338206800889957},\n  '7546': {'positions': [35, 99],\n   'number_of_token': 2,\n   'tf_idf': 1.084825715800724},\n  '7548': {'positions': [105, 176],\n   'number_of_token': 2,\n   'tf_idf': 1.084825715800724},\n  '7551': {'positions': [23],\n   'number_of_token': 1,\n   'tf_idf': 0.8338206800889957},\n  '7552': {'positions': [9, 38, 71, 98, 115, 122, 136, 142, 161],\n   'number_of_token': 9,\n   'tf_idf': 1.6294878182795234},\n  '7553': {'positions': [36, 60],\n   'number_of_token': 2,\n   'tf_idf': 1.084825715800724},\n  '7558': {'positions': [9,\n    51,\n    275,\n    374,\n    470,\n    625,\n    793,\n    896,\n    988,\n    1228,\n    1233,\n    1280,\n    1447,\n    1480,\n    1497,\n    1510],\n   'number_of_token': 16,\n   'tf_idf': 1.8378408229359087},\n  '7560': {'positions': [3, 66],\n   'number_of_token': 2,\n   'tf_idf': 1.084825715800724},\n  '7566': {'positions': [6],\n   'number_of_token': 1,\n   'tf_idf': 0.8338206800889957},\n  '7573': {'positions': [20],\n   'number_of_token': 1,\n   'tf_idf': 0.8338206800889957},\n  '7577': {'positions': [17],\n   'number_of_token': 1,\n   'tf_idf': 0.8338206800889957},\n  '7578': {'positions': [43],\n   'number_of_token': 1,\n   'tf_idf': 0.8338206800889957},\n  '7581': {'positions': [57],\n   'number_of_token': 1,\n   'tf_idf': 0.8338206800889957},\n  '7582': {'positions': [3, 59, 193],\n   'number_of_token': 3,\n   'tf_idf': 1.2316542491842595},\n  '7583': {'positions': [3, 112],\n   'number_of_token': 2,\n   'tf_idf': 1.084825715800724},\n  '7586': {'positions': [68],\n   'number_of_token': 1,\n   'tf_idf': 0.8338206800889957},\n  '7591': {'positions': [3],\n   'number_of_token': 1,\n   'tf_idf': 0.8338206800889957},\n  '7592': {'positions': [246, 250],\n   'number_of_token': 2,\n   'tf_idf': 1.084825715800724},\n  '7593': {'positions': [3, 71],\n   'number_of_token': 2,\n   'tf_idf': 1.084825715800724},\n  '7598': {'positions': [123, 163, 197, 223, 539, 684, 1325, 1677],\n   'number_of_token': 8,\n   'tf_idf': 1.5868357872241803},\n  '7599': {'positions': [38],\n   'number_of_token': 1,\n   'tf_idf': 0.8338206800889957},\n  '7608': {'positions': [105, 285],\n   'number_of_token': 2,\n   'tf_idf': 1.084825715800724},\n  '7614': {'positions': [4],\n   'number_of_token': 1,\n   'tf_idf': 0.8338206800889957},\n  '7615': {'positions': [74, 295, 388],\n   'number_of_token': 3,\n   'tf_idf': 1.2316542491842595},\n  '7623': {'positions': [215, 362, 650],\n   'number_of_token': 3,\n   'tf_idf': 1.2316542491842595},\n  '7627': {'positions': [4, 139, 279, 411],\n   'number_of_token': 4,\n   'tf_idf': 1.3358307515124521},\n  '7628': {'positions': [52],\n   'number_of_token': 1,\n   'tf_idf': 0.8338206800889957},\n  '7636': {'positions': [318, 663],\n   'number_of_token': 2,\n   'tf_idf': 1.084825715800724},\n  '7639': {'positions': [22,\n    41,\n    51,\n    61,\n    72,\n    82,\n    99,\n    112,\n    127,\n    140,\n    150,\n    167,\n    229,\n    245,\n    260,\n    277,\n    294,\n    328],\n   'number_of_token': 18,\n   'tf_idf': 1.8804928539912515},\n  '7643': {'positions': [25, 39, 49, 62, 90, 92],\n   'number_of_token': 6,\n   'tf_idf': 1.4826592848959879},\n  '7647': {'positions': [71],\n   'number_of_token': 1,\n   'tf_idf': 0.8338206800889957},\n  '7656': {'positions': [4, 21, 83, 146, 150],\n   'number_of_token': 5,\n   'tf_idf': 1.4166363244662632},\n  '7661': {'positions': [4, 118],\n   'number_of_token': 2,\n   'tf_idf': 1.084825715800724},\n  '7665': {'positions': [213],\n   'number_of_token': 1,\n   'tf_idf': 0.8338206800889957},\n  '7670': {'positions': [4, 88, 193],\n   'number_of_token': 3,\n   'tf_idf': 1.2316542491842595},\n  '7674': {'positions': [4, 24, 39, 52],\n   'number_of_token': 4,\n   'tf_idf': 1.3358307515124521},\n  '7675': {'positions': [64],\n   'number_of_token': 1,\n   'tf_idf': 0.8338206800889957},\n  '7679': {'positions': [108],\n   'number_of_token': 1,\n   'tf_idf': 0.8338206800889957},\n  '7680': {'positions': [3, 60, 250],\n   'number_of_token': 3,\n   'tf_idf': 1.2316542491842595},\n  '7682': {'positions': [1, 97, 194, 278, 447],\n   'number_of_token': 5,\n   'tf_idf': 1.4166363244662632},\n  '7684': {'positions': [46],\n   'number_of_token': 1,\n   'tf_idf': 0.8338206800889957},\n  '7688': {'positions': [88],\n   'number_of_token': 1,\n   'tf_idf': 0.8338206800889957},\n  '7692': {'positions': [9,\n    113,\n    143,\n    209,\n    292,\n    336,\n    377,\n    390,\n    397,\n    442,\n    521,\n    528,\n    563],\n   'number_of_token': 13,\n   'tf_idf': 1.7626496836900982},\n  '7693': {'positions': [3, 35, 83, 100, 107, 115],\n   'number_of_token': 6,\n   'tf_idf': 1.4826592848959879},\n  '7697': {'positions': [74, 82, 108],\n   'number_of_token': 3,\n   'tf_idf': 1.2316542491842595},\n  '7701': {'positions': [138, 281],\n   'number_of_token': 2,\n   'tf_idf': 1.084825715800724},\n  '7706': {'positions': [4],\n   'number_of_token': 1,\n   'tf_idf': 0.8338206800889957},\n  '7709': {'positions': [573],\n   'number_of_token': 1,\n   'tf_idf': 0.8338206800889957},\n  '7712': {'positions': [3],\n   'number_of_token': 1,\n   'tf_idf': 0.8338206800889957},\n  '7713': {'positions': [3, 130, 171, 206, 214],\n   'number_of_token': 5,\n   'tf_idf': 1.4166363244662632},\n  '7714': {'positions': [374],\n   'number_of_token': 1,\n   'tf_idf': 0.8338206800889957},\n  '7715': {'positions': [4, 24, 33, 47, 110],\n   'number_of_token': 5,\n   'tf_idf': 1.4166363244662632},\n  '7717': {'positions': [65, 111],\n   'number_of_token': 2,\n   'tf_idf': 1.084825715800724},\n  '7735': {'positions': [80, 185],\n   'number_of_token': 2,\n   'tf_idf': 1.084825715800724},\n  '7738': {'positions': [3, 49, 70, 91, 106],\n   'number_of_token': 5,\n   'tf_idf': 1.4166363244662632},\n  '7739': {'positions': [575, 829, 1187],\n   'number_of_token': 3,\n   'tf_idf': 1.2316542491842595},\n  '7740': {'positions': [23],\n   'number_of_token': 1,\n   'tf_idf': 0.8338206800889957},\n  '7750': {'positions': [114, 179],\n   'number_of_token': 2,\n   'tf_idf': 1.084825715800724},\n  '7762': {'positions': [5, 92, 203],\n   'number_of_token': 3,\n   'tf_idf': 1.2316542491842595},\n  '7779': {'positions': [3, 108, 206, 284, 377],\n   'number_of_token': 5,\n   'tf_idf': 1.4166363244662632},\n  '7782': {'positions': [4, 152],\n   'number_of_token': 2,\n   'tf_idf': 1.084825715800724},\n  '7793': {'positions': [8, 39, 48, 53, 64, 71, 112],\n   'number_of_token': 7,\n   'tf_idf': 1.5384809025555606},\n  '7794': {'positions': [1287],\n   'number_of_token': 1,\n   'tf_idf': 0.8338206800889957},\n  '7797': {'positions': [103, 257],\n   'number_of_token': 2,\n   'tf_idf': 1.084825715800724},\n  '7800': {'positions': [6, 17, 49, 154, 164, 244, 318],\n   'number_of_token': 7,\n   'tf_idf': 1.5384809025555606},\n  '7802': {'positions': [520],\n   'number_of_token': 1,\n   'tf_idf': 0.8338206800889957},\n  '7805': {'positions': [3, 69, 217],\n   'number_of_token': 3,\n   'tf_idf': 1.2316542491842595},\n  '7810': {'positions': [3, 18, 25, 67, 72, 120, 194],\n   'number_of_token': 7,\n   'tf_idf': 1.5384809025555606},\n  '7812': {'positions': [3, 82, 185],\n   'number_of_token': 3,\n   'tf_idf': 1.2316542491842595},\n  '7818': {'positions': [4, 67, 176],\n   'number_of_token': 3,\n   'tf_idf': 1.2316542491842595},\n  '7821': {'positions': [87],\n   'number_of_token': 1,\n   'tf_idf': 0.8338206800889957},\n  '7831': {'positions': [4, 17, 27, 63, 82],\n   'number_of_token': 5,\n   'tf_idf': 1.4166363244662632},\n  '7834': {'positions': [4, 112, 190],\n   'number_of_token': 3,\n   'tf_idf': 1.2316542491842595},\n  '7835': {'positions': [82],\n   'number_of_token': 1,\n   'tf_idf': 0.8338206800889957},\n  '7837': {'positions': [3, 54],\n   'number_of_token': 2,\n   'tf_idf': 1.084825715800724},\n  '7838': {'positions': [39, 229],\n   'number_of_token': 2,\n   'tf_idf': 1.084825715800724},\n  '7840': {'positions': [17, 24, 198],\n   'number_of_token': 3,\n   'tf_idf': 1.2316542491842595},\n  '7844': {'positions': [65],\n   'number_of_token': 1,\n   'tf_idf': 0.8338206800889957},\n  '7847': {'positions': [16, 52, 63],\n   'number_of_token': 3,\n   'tf_idf': 1.2316542491842595},\n  '7851': {'positions': [3, 71, 137],\n   'number_of_token': 3,\n   'tf_idf': 1.2316542491842595},\n  '7853': {'positions': [3, 68, 185],\n   'number_of_token': 3,\n   'tf_idf': 1.2316542491842595},\n  '7854': {'positions': [6, 79],\n   'number_of_token': 2,\n   'tf_idf': 1.084825715800724},\n  '7861': {'positions': [376],\n   'number_of_token': 1,\n   'tf_idf': 0.8338206800889957},\n  '7867': {'positions': [266, 393, 463],\n   'number_of_token': 3,\n   'tf_idf': 1.2316542491842595},\n  '7868': {'positions': [153, 295],\n   'number_of_token': 2,\n   'tf_idf': 1.084825715800724},\n  '7869': {'positions': [4, 91, 132, 180],\n   'number_of_token': 4,\n   'tf_idf': 1.3358307515124521},\n  '7872': {'positions': [456],\n   'number_of_token': 1,\n   'tf_idf': 0.8338206800889957},\n  '7876': {'positions': [4, 107, 172],\n   'number_of_token': 3,\n   'tf_idf': 1.2316542491842595},\n  '7879': {'positions': [3, 90],\n   'number_of_token': 2,\n   'tf_idf': 1.084825715800724},\n  '7882': {'positions': [4, 20],\n   'number_of_token': 2,\n   'tf_idf': 1.084825715800724},\n  '7885': {'positions': [4, 102, 225, 310, 379],\n   'number_of_token': 5,\n   'tf_idf': 1.4166363244662632},\n  '7887': {'positions': [17, 32, 51, 57, 62, 78, 90, 99],\n   'number_of_token': 8,\n   'tf_idf': 1.5868357872241803},\n  '7892': {'positions': [6, 16, 19, 59, 78, 85, 143, 149, 186],\n   'number_of_token': 9,\n   'tf_idf': 1.6294878182795234},\n  '7894': {'positions': [18, 24, 81],\n   'number_of_token': 3,\n   'tf_idf': 1.2316542491842595},\n  '7899': {'positions': [3, 191],\n   'number_of_token': 2,\n   'tf_idf': 1.084825715800724},\n  '7901': {'positions': [46, 327],\n   'number_of_token': 2,\n   'tf_idf': 1.084825715800724},\n  '7904': {'positions': [14, 29, 109, 153, 650, 678, 793, 880, 963],\n   'number_of_token': 9,\n   'tf_idf': 1.6294878182795234},\n  '7906': {'positions': [7, 22, 27, 56, 277, 293],\n   'number_of_token': 6,\n   'tf_idf': 1.4826592848959879},\n  '7907': {'positions': [3, 86],\n   'number_of_token': 2,\n   'tf_idf': 1.084825715800724},\n  '7910': {'positions': [6, 33, 47],\n   'number_of_token': 3,\n   'tf_idf': 1.2316542491842595},\n  '7911': {'positions': [6],\n   'number_of_token': 1,\n   'tf_idf': 0.8338206800889957},\n  '7912': {'positions': [6],\n   'number_of_token': 1,\n   'tf_idf': 0.8338206800889957},\n  '7913': {'positions': [6, 31],\n   'number_of_token': 2,\n   'tf_idf': 1.084825715800724},\n  '7914': {'positions': [22],\n   'number_of_token': 1,\n   'tf_idf': 0.8338206800889957},\n  '7917': {'positions': [8, 106],\n   'number_of_token': 2,\n   'tf_idf': 1.084825715800724},\n  '7918': {'positions': [1, 14, 54, 114, 140, 147, 194, 217],\n   'number_of_token': 8,\n   'tf_idf': 1.5868357872241803},\n  '7921': {'positions': [17],\n   'number_of_token': 1,\n   'tf_idf': 0.8338206800889957},\n  '7925': {'positions': [54],\n   'number_of_token': 1,\n   'tf_idf': 0.8338206800889957},\n  '7926': {'positions': [145],\n   'number_of_token': 1,\n   'tf_idf': 0.8338206800889957},\n  '7927': {'positions': [45, 104, 114, 204],\n   'number_of_token': 4,\n   'tf_idf': 1.3358307515124521},\n  '7929': {'positions': [6, 67],\n   'number_of_token': 2,\n   'tf_idf': 1.084825715800724},\n  '7930': {'positions': [42, 54],\n   'number_of_token': 2,\n   'tf_idf': 1.084825715800724},\n  '7932': {'positions': [37, 49, 70, 88, 98, 116],\n   'number_of_token': 6,\n   'tf_idf': 1.4826592848959879},\n  '7944': {'positions': [194, 472],\n   'number_of_token': 2,\n   'tf_idf': 1.084825715800724},\n  '7945': {'positions': [3, 14, 76, 92],\n   'number_of_token': 4,\n   'tf_idf': 1.3358307515124521},\n  '7946': {'positions': [3, 90],\n   'number_of_token': 2,\n   'tf_idf': 1.084825715800724},\n  '7947': {'positions': [5, 23, 57, 76, 91, 97, 106, 153, 171],\n   'number_of_token': 9,\n   'tf_idf': 1.6294878182795234},\n  '7948': {'positions': [18, 26, 49],\n   'number_of_token': 3,\n   'tf_idf': 1.2316542491842595},\n  '7962': {'positions': [6],\n   'number_of_token': 1,\n   'tf_idf': 0.8338206800889957},\n  '7964': {'positions': [6, 36, 69],\n   'number_of_token': 3,\n   'tf_idf': 1.2316542491842595},\n  '7965': {'positions': [6, 33, 81, 93],\n   'number_of_token': 4,\n   'tf_idf': 1.3358307515124521},\n  '7966': {'positions': [6],\n   'number_of_token': 1,\n   'tf_idf': 0.8338206800889957},\n  '7967': {'positions': [6],\n   'number_of_token': 1,\n   'tf_idf': 0.8338206800889957},\n  '7968': {'positions': [6],\n   'number_of_token': 1,\n   'tf_idf': 0.8338206800889957},\n  '7969': {'positions': [4],\n   'number_of_token': 1,\n   'tf_idf': 0.8338206800889957},\n  '7971': {'positions': [1,\n    13,\n    87,\n    116,\n    123,\n    182,\n    233,\n    242,\n    305,\n    310,\n    422,\n    442,\n    581],\n   'number_of_token': 13,\n   'tf_idf': 1.7626496836900982},\n  '7973': {'positions': [6],\n   'number_of_token': 1,\n   'tf_idf': 0.8338206800889957},\n  '7978': {'positions': [134],\n   'number_of_token': 1,\n   'tf_idf': 0.8338206800889957},\n  '7979': {'positions': [3, 229, 541],\n   'number_of_token': 3,\n   'tf_idf': 1.2316542491842595},\n  '7982': {'positions': [94],\n   'number_of_token': 1,\n   'tf_idf': 0.8338206800889957},\n  '7983': {'positions': [3, 86, 215],\n   'number_of_token': 3,\n   'tf_idf': 1.2316542491842595},\n  '7984': {'positions': [3, 135],\n   'number_of_token': 2,\n   'tf_idf': 1.084825715800724},\n  '7985': {'positions': [4, 70],\n   'number_of_token': 2,\n   'tf_idf': 1.084825715800724},\n  '7988': {'positions': [352],\n   'number_of_token': 1,\n   'tf_idf': 0.8338206800889957},\n  '7989': {'positions': [1, 90, 548],\n   'number_of_token': 3,\n   'tf_idf': 1.2316542491842595},\n  '7991': {'positions': [28],\n   'number_of_token': 1,\n   'tf_idf': 0.8338206800889957},\n  '7992': {'positions': [19, 27, 105, 111],\n   'number_of_token': 4,\n   'tf_idf': 1.3358307515124521},\n  '7994': {'positions': [8, 168, 271, 453],\n   'number_of_token': 4,\n   'tf_idf': 1.3358307515124521},\n  '7997': {'positions': [4, 33, 45],\n   'number_of_token': 3,\n   'tf_idf': 1.2316542491842595},\n  '8002': {'positions': [15,\n    20,\n    66,\n    106,\n    115,\n    149,\n    173,\n    206,\n    213,\n    276,\n    312,\n    320,\n    359,\n    435,\n    443,\n    487,\n    502,\n    539,\n    547,\n    611,\n    663,\n    671,\n    710,\n    757,\n    798],\n   'number_of_token': 25,\n   'tf_idf': 1.9994519688435306},\n  '8003': {'positions': [3, 88, 297],\n   'number_of_token': 3,\n   'tf_idf': 1.2316542491842595},\n  '8005': {'positions': [9, 12, 25, 27, 46, 57, 66, 80, 108],\n   'number_of_token': 9,\n   'tf_idf': 1.6294878182795234},\n  '8008': {'positions': [69],\n   'number_of_token': 1,\n   'tf_idf': 0.8338206800889957},\n  '8009': {'positions': [35, 53, 75],\n   'number_of_token': 3,\n   'tf_idf': 1.2316542491842595},\n  '8010': {'positions': [79],\n   'number_of_token': 1,\n   'tf_idf': 0.8338206800889957},\n  '8011': {'positions': [18, 26, 98, 107],\n   'number_of_token': 4,\n   'tf_idf': 1.3358307515124521},\n  '8016': {'positions': [117, 543, 579],\n   'number_of_token': 3,\n   'tf_idf': 1.2316542491842595},\n  '8017': {'positions': [287],\n   'number_of_token': 1,\n   'tf_idf': 0.8338206800889957},\n  '8019': {'positions': [37],\n   'number_of_token': 1,\n   'tf_idf': 0.8338206800889957},\n  '8021': {'positions': [3, 64, 95, 128],\n   'number_of_token': 4,\n   'tf_idf': 1.3358307515124521},\n  '8022': {'positions': [382],\n   'number_of_token': 1,\n   'tf_idf': 0.8338206800889957},\n  '8023': {'positions': [110],\n   'number_of_token': 1,\n   'tf_idf': 0.8338206800889957},\n  '8030': {'positions': [3, 92, 192, 298],\n   'number_of_token': 4,\n   'tf_idf': 1.3358307515124521},\n  '8033': {'positions': [4, 86, 237],\n   'number_of_token': 3,\n   'tf_idf': 1.2316542491842595},\n  '8037': {'positions': [146],\n   'number_of_token': 1,\n   'tf_idf': 0.8338206800889957},\n  '8039': {'positions': [3, 84, 190],\n   'number_of_token': 3,\n   'tf_idf': 1.2316542491842595},\n  '8041': {'positions': [28, 68],\n   'number_of_token': 2,\n   'tf_idf': 1.084825715800724},\n  '8051': {'positions': [100, 181, 204, 209, 242],\n   'number_of_token': 5,\n   'tf_idf': 1.4166363244662632},\n  '8052': {'positions': [3, 97],\n   'number_of_token': 2,\n   'tf_idf': 1.084825715800724},\n  '8053': {'positions': [89, 148, 183],\n   'number_of_token': 3,\n   'tf_idf': 1.2316542491842595},\n  '8054': {'positions': [3, 70, 76, 117, 139],\n   'number_of_token': 5,\n   'tf_idf': 1.4166363244662632},\n  '8055': {'positions': [109, 561, 737, 955],\n   'number_of_token': 4,\n   'tf_idf': 1.3358307515124521},\n  '8061': {'positions': [3, 33, 79, 87, 172, 232, 239],\n   'number_of_token': 7,\n   'tf_idf': 1.5384809025555606},\n  '8064': {'positions': [103, 148],\n   'number_of_token': 2,\n   'tf_idf': 1.084825715800724},\n  '8070': {'positions': [3, 88],\n   'number_of_token': 2,\n   'tf_idf': 1.084825715800724},\n  '8071': {'positions': [166, 226, 241, 1782, 1973, 2072, 2089],\n   'number_of_token': 7,\n   'tf_idf': 1.5384809025555606},\n  '8072': {'positions': [4, 86, 210],\n   'number_of_token': 3,\n   'tf_idf': 1.2316542491842595},\n  '8077': {'positions': [7, 33, 106, 191, 255, 265, 308, 344, 428, 539],\n   'number_of_token': 10,\n   'tf_idf': 1.6676413601779914},\n  '8079': {'positions': [142],\n   'number_of_token': 1,\n   'tf_idf': 0.8338206800889957},\n  '8082': {'positions': [3, 72, 173, 205],\n   'number_of_token': 4,\n   'tf_idf': 1.3358307515124521},\n  '8091': {'positions': [75],\n   'number_of_token': 1,\n   'tf_idf': 0.8338206800889957},\n  '8093': {'positions': [6, 60, 132],\n   'number_of_token': 3,\n   'tf_idf': 1.2316542491842595},\n  '8097': {'positions': [6, 59, 85, 132, 146, 169, 204, 239, 296],\n   'number_of_token': 9,\n   'tf_idf': 1.6294878182795234},\n  '8098': {'positions': [48, 96],\n   'number_of_token': 2,\n   'tf_idf': 1.084825715800724},\n  '8100': {'positions': [5, 21, 45, 77],\n   'number_of_token': 4,\n   'tf_idf': 1.3358307515124521},\n  '8101': {'positions': [3, 18, 83],\n   'number_of_token': 3,\n   'tf_idf': 1.2316542491842595},\n  '8102': {'positions': [6, 36, 105, 133],\n   'number_of_token': 4,\n   'tf_idf': 1.3358307515124521},\n  '8103': {'positions': [83, 174],\n   'number_of_token': 2,\n   'tf_idf': 1.084825715800724},\n  '8108': {'positions': [144],\n   'number_of_token': 1,\n   'tf_idf': 0.8338206800889957},\n  '8109': {'positions': [79, 160],\n   'number_of_token': 2,\n   'tf_idf': 1.084825715800724},\n  '8113': {'positions': [9, 71, 102, 137],\n   'number_of_token': 4,\n   'tf_idf': 1.3358307515124521},\n  '8115': {'positions': [4, 22, 88],\n   'number_of_token': 3,\n   'tf_idf': 1.2316542491842595},\n  '8122': {'positions': [17, 38],\n   'number_of_token': 2,\n   'tf_idf': 1.084825715800724},\n  '8129': {'positions': [34],\n   'number_of_token': 1,\n   'tf_idf': 0.8338206800889957},\n  '8131': {'positions': [17, 123, 175, 235, 262, 267, 379, 417, 423, 474, 615],\n   'number_of_token': 11,\n   'tf_idf': 1.7021554370673324},\n  '8136': {'positions': [72],\n   'number_of_token': 1,\n   'tf_idf': 0.8338206800889957},\n  '8139': {'positions': [4, 182],\n   'number_of_token': 2,\n   'tf_idf': 1.084825715800724},\n  '8142': {'positions': [237, 278],\n   'number_of_token': 2,\n   'tf_idf': 1.084825715800724},\n  '8143': {'positions': [17, 32, 47, 68],\n   'number_of_token': 4,\n   'tf_idf': 1.3358307515124521},\n  '8145': {'positions': [89, 232],\n   'number_of_token': 2,\n   'tf_idf': 1.084825715800724},\n  '8150': {'positions': [195],\n   'number_of_token': 1,\n   'tf_idf': 0.8338206800889957},\n  '8159': {'positions': [5, 59, 166, 187, 199, 276, 313],\n   'number_of_token': 7,\n   'tf_idf': 1.5384809025555606},\n  '8161': {'positions': [17, 22],\n   'number_of_token': 2,\n   'tf_idf': 1.084825715800724},\n  '8163': {'positions': [6, 21, 29, 50],\n   'number_of_token': 4,\n   'tf_idf': 1.3358307515124521},\n  '8165': {'positions': [59, 75],\n   'number_of_token': 2,\n   'tf_idf': 1.084825715800724},\n  '8166': {'positions': [4, 17, 29, 46, 62, 85],\n   'number_of_token': 6,\n   'tf_idf': 1.4826592848959879},\n  '8167': {'positions': [3, 17, 112, 271, 286, 385, 449, 490, 500],\n   'number_of_token': 9,\n   'tf_idf': 1.6294878182795234},\n  '8168': {'positions': [16, 23, 105, 113],\n   'number_of_token': 4,\n   'tf_idf': 1.3358307515124521},\n  '8170': {'positions': [87, 240, 254, 351],\n   'number_of_token': 4,\n   'tf_idf': 1.3358307515124521},\n  '8172': {'positions': [15, 20],\n   'number_of_token': 2,\n   'tf_idf': 1.084825715800724},\n  '8174': {'positions': [16, 90, 145],\n   'number_of_token': 3,\n   'tf_idf': 1.2316542491842595},\n  '8175': {'positions': [3, 89],\n   'number_of_token': 2,\n   'tf_idf': 1.084825715800724},\n  '8182': {'positions': [115],\n   'number_of_token': 1,\n   'tf_idf': 0.8338206800889957},\n  '8185': {'positions': [3, 92, 396],\n   'number_of_token': 3,\n   'tf_idf': 1.2316542491842595},\n  '8186': {'positions': [16],\n   'number_of_token': 1,\n   'tf_idf': 0.8338206800889957},\n  '8191': {'positions': [4, 21, 32],\n   'number_of_token': 3,\n   'tf_idf': 1.2316542491842595},\n  '8192': {'positions': [20],\n   'number_of_token': 1,\n   'tf_idf': 0.8338206800889957},\n  '8194': {'positions': [3, 25, 68, 87, 147, 161],\n   'number_of_token': 6,\n   'tf_idf': 1.4826592848959879},\n  '8196': {'positions': [17, 28, 66, 131, 141],\n   'number_of_token': 5,\n   'tf_idf': 1.4166363244662632},\n  '8197': {'positions': [17, 22, 44, 50, 100, 124],\n   'number_of_token': 6,\n   'tf_idf': 1.4826592848959879},\n  '8204': {'positions': [16, 162, 176],\n   'number_of_token': 3,\n   'tf_idf': 1.2316542491842595},\n  '8205': {'positions': [4, 19, 24, 120, 133],\n   'number_of_token': 5,\n   'tf_idf': 1.4166363244662632},\n  '8207': {'positions': [154],\n   'number_of_token': 1,\n   'tf_idf': 0.8338206800889957},\n  '8208': {'positions': [412],\n   'number_of_token': 1,\n   'tf_idf': 0.8338206800889957},\n  '8210': {'positions': [114],\n   'number_of_token': 1,\n   'tf_idf': 0.8338206800889957},\n  '8211': {'positions': [338],\n   'number_of_token': 1,\n   'tf_idf': 0.8338206800889957},\n  '8213': {'positions': [43],\n   'number_of_token': 1,\n   'tf_idf': 0.8338206800889957},\n  '8219': {'positions': [129],\n   'number_of_token': 1,\n   'tf_idf': 0.8338206800889957},\n  '8222': {'positions': [18, 140],\n   'number_of_token': 2,\n   'tf_idf': 1.084825715800724},\n  '8223': {'positions': [21],\n   'number_of_token': 1,\n   'tf_idf': 0.8338206800889957},\n  '8224': {'positions': [25],\n   'number_of_token': 1,\n   'tf_idf': 0.8338206800889957},\n  '8225': {'positions': [24],\n   'number_of_token': 1,\n   'tf_idf': 0.8338206800889957},\n  '8226': {'positions': [9, 24, 104],\n   'number_of_token': 3,\n   'tf_idf': 1.2316542491842595},\n  '8227': {'positions': [25],\n   'number_of_token': 1,\n   'tf_idf': 0.8338206800889957},\n  '8229': {'positions': [56],\n   'number_of_token': 1,\n   'tf_idf': 0.8338206800889957},\n  '8235': {'positions': [96, 220],\n   'number_of_token': 2,\n   'tf_idf': 1.084825715800724},\n  '8237': {'positions': [94],\n   'number_of_token': 1,\n   'tf_idf': 0.8338206800889957},\n  '8238': {'positions': [218],\n   'number_of_token': 1,\n   'tf_idf': 0.8338206800889957},\n  '8239': {'positions': [51],\n   'number_of_token': 1,\n   'tf_idf': 0.8338206800889957},\n  '8241': {'positions': [6],\n   'number_of_token': 1,\n   'tf_idf': 0.8338206800889957},\n  '8251': {'positions': [8, 127],\n   'number_of_token': 2,\n   'tf_idf': 1.084825715800724},\n  '8252': {'positions': [19, 26, 44, 62, 84, 88, 107],\n   'number_of_token': 7,\n   'tf_idf': 1.5384809025555606},\n  '8256': {'positions': [3, 17, 25, 73, 84, 101],\n   'number_of_token': 6,\n   'tf_idf': 1.4826592848959879},\n  '8262': {'positions': [4, 34, 48, 52, 57, 65],\n   'number_of_token': 6,\n   'tf_idf': 1.4826592848959879},\n  '8266': {'positions': [105],\n   'number_of_token': 1,\n   'tf_idf': 0.8338206800889957},\n  '8268': {'positions': [6, 20],\n   'number_of_token': 2,\n   'tf_idf': 1.084825715800724},\n  '8270': {'positions': [3, 107],\n   'number_of_token': 2,\n   'tf_idf': 1.084825715800724},\n  '8274': {'positions': [8, 25, 32],\n   'number_of_token': 3,\n   'tf_idf': 1.2316542491842595},\n  '8276': {'positions': [1200, 1205, 1211, 1214, 1230, 1251, 2165],\n   'number_of_token': 7,\n   'tf_idf': 1.5384809025555606},\n  '8297': {'positions': [295, 311, 326, 343, 361, 396],\n   'number_of_token': 6,\n   'tf_idf': 1.4826592848959879},\n  '8301': {'positions': [47],\n   'number_of_token': 1,\n   'tf_idf': 0.8338206800889957},\n  '8303': {'positions': [102],\n   'number_of_token': 1,\n   'tf_idf': 0.8338206800889957},\n  '8305': {'positions': [4, 84, 125, 242, 450],\n   'number_of_token': 5,\n   'tf_idf': 1.4166363244662632},\n  '8309': {'positions': [99, 104],\n   'number_of_token': 2,\n   'tf_idf': 1.084825715800724},\n  '8310': {'positions': [119],\n   'number_of_token': 1,\n   'tf_idf': 0.8338206800889957},\n  '8313': {'positions': [17, 27, 43, 60, 70, 82, 91],\n   'number_of_token': 7,\n   'tf_idf': 1.5384809025555606},\n  '8314': {'positions': [11, 24, 110, 125, 222],\n   'number_of_token': 5,\n   'tf_idf': 1.4166363244662632},\n  '8316': {'positions': [135],\n   'number_of_token': 1,\n   'tf_idf': 0.8338206800889957},\n  '8319': {'positions': [391, 778, 836],\n   'number_of_token': 3,\n   'tf_idf': 1.2316542491842595},\n  '8323': {'positions': [69],\n   'number_of_token': 1,\n   'tf_idf': 0.8338206800889957},\n  '8325': {'positions': [137, 240, 367],\n   'number_of_token': 3,\n   'tf_idf': 1.2316542491842595},\n  '8330': {'positions': [76],\n   'number_of_token': 1,\n   'tf_idf': 0.8338206800889957},\n  '8333': {'positions': [8, 73, 138, 141, 180],\n   'number_of_token': 5,\n   'tf_idf': 1.4166363244662632},\n  '8334': {'positions': [17, 60, 70],\n   'number_of_token': 3,\n   'tf_idf': 1.2316542491842595},\n  '8335': {'positions': [6, 75],\n   'number_of_token': 2,\n   'tf_idf': 1.084825715800724},\n  '8336': {'positions': [7, 62],\n   'number_of_token': 2,\n   'tf_idf': 1.084825715800724},\n  '8337': {'positions': [9, 73],\n   'number_of_token': 2,\n   'tf_idf': 1.084825715800724},\n  '8342': {'positions': [55, 87],\n   'number_of_token': 2,\n   'tf_idf': 1.084825715800724},\n  '8344': {'positions': [19, 40, 48],\n   'number_of_token': 3,\n   'tf_idf': 1.2316542491842595},\n  '8347': {'positions': [8, 89],\n   'number_of_token': 2,\n   'tf_idf': 1.084825715800724},\n  '8348': {'positions': [172],\n   'number_of_token': 1,\n   'tf_idf': 0.8338206800889957},\n  '8351': {'positions': [9, 74, 145, 149],\n   'number_of_token': 4,\n   'tf_idf': 1.3358307515124521},\n  '8352': {'positions': [6, 117],\n   'number_of_token': 2,\n   'tf_idf': 1.084825715800724},\n  '8353': {'positions': [59],\n   'number_of_token': 1,\n   'tf_idf': 0.8338206800889957},\n  '8362': {'positions': [6, 25, 79, 126],\n   'number_of_token': 4,\n   'tf_idf': 1.3358307515124521},\n  '8368': {'positions': [3, 21, 94, 115, 157],\n   'number_of_token': 5,\n   'tf_idf': 1.4166363244662632},\n  '8369': {'positions': [230],\n   'number_of_token': 1,\n   'tf_idf': 0.8338206800889957},\n  '8370': {'positions': [3, 21, 68, 88, 115],\n   'number_of_token': 5,\n   'tf_idf': 1.4166363244662632},\n  '8371': {'positions': [3, 20, 29, 62, 102, 150],\n   'number_of_token': 6,\n   'tf_idf': 1.4826592848959879},\n  '8372': {'positions': [16, 22, 43, 49, 90, 168],\n   'number_of_token': 6,\n   'tf_idf': 1.4826592848959879},\n  '8377': {'positions': [17, 31, 53, 117],\n   'number_of_token': 4,\n   'tf_idf': 1.3358307515124521},\n  '8378': {'positions': [4, 25],\n   'number_of_token': 2,\n   'tf_idf': 1.084825715800724},\n  '8379': {'positions': [4, 16, 24, 26],\n   'number_of_token': 4,\n   'tf_idf': 1.3358307515124521},\n  '8384': {'positions': [18, 110],\n   'number_of_token': 2,\n   'tf_idf': 1.084825715800724},\n  '8388': {'positions': [6, 45, 58, 70, 80, 146, 241, 284, 288],\n   'number_of_token': 9,\n   'tf_idf': 1.6294878182795234},\n  '8399': {'positions': [15],\n   'number_of_token': 1,\n   'tf_idf': 0.8338206800889957},\n  '8402': {'positions': [14, 26, 58],\n   'number_of_token': 3,\n   'tf_idf': 1.2316542491842595},\n  '8403': {'positions': [76, 192],\n   'number_of_token': 2,\n   'tf_idf': 1.084825715800724},\n  '8405': {'positions': [22],\n   'number_of_token': 1,\n   'tf_idf': 0.8338206800889957},\n  '8408': {'positions': [332, 359],\n   'number_of_token': 2,\n   'tf_idf': 1.084825715800724},\n  '8409': {'positions': [49],\n   'number_of_token': 1,\n   'tf_idf': 0.8338206800889957},\n  '8410': {'positions': [23],\n   'number_of_token': 1,\n   'tf_idf': 0.8338206800889957},\n  '8412': {'positions': [99],\n   'number_of_token': 1,\n   'tf_idf': 0.8338206800889957},\n  '8413': {'positions': [936],\n   'number_of_token': 1,\n   'tf_idf': 0.8338206800889957},\n  '8414': {'positions': [24],\n   'number_of_token': 1,\n   'tf_idf': 0.8338206800889957},\n  '8416': {'positions': [28],\n   'number_of_token': 1,\n   'tf_idf': 0.8338206800889957},\n  '8417': {'positions': [23, 83, 259],\n   'number_of_token': 3,\n   'tf_idf': 1.2316542491842595},\n  '8418': {'positions': [7, 24, 41],\n   'number_of_token': 3,\n   'tf_idf': 1.2316542491842595},\n  '8419': {'positions': [24, 183],\n   'number_of_token': 2,\n   'tf_idf': 1.084825715800724},\n  '8420': {'positions': [24],\n   'number_of_token': 1,\n   'tf_idf': 0.8338206800889957},\n  '8421': {'positions': [25],\n   'number_of_token': 1,\n   'tf_idf': 0.8338206800889957},\n  '8422': {'positions': [22, 100, 163],\n   'number_of_token': 3,\n   'tf_idf': 1.2316542491842595},\n  '8425': {'positions': [6, 31, 93, 142, 170],\n   'number_of_token': 5,\n   'tf_idf': 1.4166363244662632},\n  '8426': {'positions': [183],\n   'number_of_token': 1,\n   'tf_idf': 0.8338206800889957},\n  '8428': {'positions': [28],\n   'number_of_token': 1,\n   'tf_idf': 0.8338206800889957},\n  '8429': {'positions': [23, 67, 115],\n   'number_of_token': 3,\n   'tf_idf': 1.2316542491842595},\n  '8431': {'positions': [125],\n   'number_of_token': 1,\n   'tf_idf': 0.8338206800889957},\n  '8435': {'positions': [49, 59, 69, 82, 115],\n   'number_of_token': 5,\n   'tf_idf': 1.4166363244662632},\n  '8438': {'positions': [17, 28, 63, 68, 86, 93, 104, 116, 130, 138],\n   'number_of_token': 10,\n   'tf_idf': 1.6676413601779914},\n  '8440': {'positions': [17, 34, 60, 69, 92],\n   'number_of_token': 5,\n   'tf_idf': 1.4166363244662632},\n  '8444': {'positions': [23, 29, 40, 56, 172, 191],\n   'number_of_token': 6,\n   'tf_idf': 1.4826592848959879},\n  '8450': {'positions': [12, 44, 91, 100, 132],\n   'number_of_token': 5,\n   'tf_idf': 1.4166363244662632},\n  '8455': {'positions': [1, 22, 41, 59],\n   'number_of_token': 4,\n   'tf_idf': 1.3358307515124521},\n  '8456': {'positions': [6, 18, 23, 82, 98, 203, 208, 235],\n   'number_of_token': 8,\n   'tf_idf': 1.5868357872241803},\n  '8458': {'positions': [1, 14, 19, 55, 70, 77],\n   'number_of_token': 6,\n   'tf_idf': 1.4826592848959879},\n  '8470': {'positions': [3, 20, 57, 108, 157],\n   'number_of_token': 5,\n   'tf_idf': 1.4166363244662632},\n  '8471': {'positions': [9, 25, 35, 46, 63],\n   'number_of_token': 5,\n   'tf_idf': 1.4166363244662632},\n  '8472': {'positions': [3, 21, 35, 140, 144],\n   'number_of_token': 5,\n   'tf_idf': 1.4166363244662632},\n  '8473': {'positions': [3, 20, 46],\n   'number_of_token': 3,\n   'tf_idf': 1.2316542491842595},\n  '8474': {'positions': [3, 21, 60, 68, 105],\n   'number_of_token': 5,\n   'tf_idf': 1.4166363244662632},\n  '8475': {'positions': [18, 26, 81],\n   'number_of_token': 3,\n   'tf_idf': 1.2316542491842595},\n  '8476': {'positions': [85, 143, 155, 161, 183, 196, 246],\n   'number_of_token': 7,\n   'tf_idf': 1.5384809025555606},\n  '8478': {'positions': [18, 34, 59, 95],\n   'number_of_token': 4,\n   'tf_idf': 1.3358307515124521},\n  '8479': {'positions': [10, 23, 30, 64],\n   'number_of_token': 4,\n   'tf_idf': 1.3358307515124521},\n  '8482': {'positions': [510, 768],\n   'number_of_token': 2,\n   'tf_idf': 1.084825715800724},\n  '8488': {'positions': [429],\n   'number_of_token': 1,\n   'tf_idf': 0.8338206800889957},\n  '8492': {'positions': [10],\n   'number_of_token': 1,\n   'tf_idf': 0.8338206800889957},\n  '8496': {'positions': [66, 94, 201],\n   'number_of_token': 3,\n   'tf_idf': 1.2316542491842595},\n  '8498': {'positions': [15],\n   'number_of_token': 1,\n   'tf_idf': 0.8338206800889957},\n  '8499': {'positions': [73],\n   'number_of_token': 1,\n   'tf_idf': 0.8338206800889957},\n  '8500': {'positions': [16],\n   'number_of_token': 1,\n   'tf_idf': 0.8338206800889957},\n  '8502': {'positions': [6],\n   'number_of_token': 1,\n   'tf_idf': 0.8338206800889957},\n  '8503': {'positions': [24, 155, 168],\n   'number_of_token': 3,\n   'tf_idf': 1.2316542491842595},\n  '8504': {'positions': [21],\n   'number_of_token': 1,\n   'tf_idf': 0.8338206800889957},\n  '8505': {'positions': [43, 161],\n   'number_of_token': 2,\n   'tf_idf': 1.084825715800724},\n  '8507': {'positions': [20, 140],\n   'number_of_token': 2,\n   'tf_idf': 1.084825715800724},\n  '8508': {'positions': [9, 68],\n   'number_of_token': 2,\n   'tf_idf': 1.084825715800724},\n  '8510': {'positions': [10, 21, 97, 137, 162],\n   'number_of_token': 5,\n   'tf_idf': 1.4166363244662632},\n  '8511': {'positions': [22],\n   'number_of_token': 1,\n   'tf_idf': 0.8338206800889957},\n  '8512': {'positions': [160],\n   'number_of_token': 1,\n   'tf_idf': 0.8338206800889957},\n  '8513': {'positions': [9, 23, 67, 100, 109, 139, 143, 146],\n   'number_of_token': 8,\n   'tf_idf': 1.5868357872241803},\n  '8515': {'positions': [21],\n   'number_of_token': 1,\n   'tf_idf': 0.8338206800889957},\n  '8516': {'positions': [21],\n   'number_of_token': 1,\n   'tf_idf': 0.8338206800889957},\n  '8517': {'positions': [22],\n   'number_of_token': 1,\n   'tf_idf': 0.8338206800889957},\n  '8518': {'positions': [6],\n   'number_of_token': 1,\n   'tf_idf': 0.8338206800889957},\n  '8520': {'positions': [251],\n   'number_of_token': 1,\n   'tf_idf': 0.8338206800889957},\n  '8521': {'positions': [33, 46, 55, 69, 87, 99, 120, 133],\n   'number_of_token': 8,\n   'tf_idf': 1.5868357872241803},\n  '8522': {'positions': [85, 179],\n   'number_of_token': 2,\n   'tf_idf': 1.084825715800724},\n  '8523': {'positions': [3, 50, 120],\n   'number_of_token': 3,\n   'tf_idf': 1.2316542491842595},\n  '8528': {'positions': [100],\n   'number_of_token': 1,\n   'tf_idf': 0.8338206800889957},\n  '8529': {'positions': [63],\n   'number_of_token': 1,\n   'tf_idf': 0.8338206800889957},\n  '8531': {'positions': [15, 60, 78],\n   'number_of_token': 3,\n   'tf_idf': 1.2316542491842595},\n  '8538': {'positions': [23, 49, 64, 92, 122],\n   'number_of_token': 5,\n   'tf_idf': 1.4166363244662632},\n  '8539': {'positions': [110],\n   'number_of_token': 1,\n   'tf_idf': 0.8338206800889957},\n  '8541': {'positions': [18, 25],\n   'number_of_token': 2,\n   'tf_idf': 1.084825715800724},\n  '8542': {'positions': [221, 306, 483, 555, 742],\n   'number_of_token': 5,\n   'tf_idf': 1.4166363244662632},\n  '8543': {'positions': [8, 20, 76, 87, 201, 269, 310, 331],\n   'number_of_token': 8,\n   'tf_idf': 1.5868357872241803},\n  '8545': {'positions': [158],\n   'number_of_token': 1,\n   'tf_idf': 0.8338206800889957},\n  '8548': {'positions': [4, 216, 276],\n   'number_of_token': 3,\n   'tf_idf': 1.2316542491842595},\n  '8549': {'positions': [55, 137],\n   'number_of_token': 2,\n   'tf_idf': 1.084825715800724},\n  '8552': {'positions': [3, 66],\n   'number_of_token': 2,\n   'tf_idf': 1.084825715800724},\n  '8554': {'positions': [4, 52, 87, 151],\n   'number_of_token': 4,\n   'tf_idf': 1.3358307515124521},\n  '8556': {'positions': [420],\n   'number_of_token': 1,\n   'tf_idf': 0.8338206800889957},\n  '8558': {'positions': [9, 22, 102, 160, 233, 281, 459, 495],\n   'number_of_token': 8,\n   'tf_idf': 1.5868357872241803},\n  '8564': {'positions': [234],\n   'number_of_token': 1,\n   'tf_idf': 0.8338206800889957},\n  '8572': {'positions': [3, 125],\n   'number_of_token': 2,\n   'tf_idf': 1.084825715800724},\n  '8576': {'positions': [236],\n   'number_of_token': 1,\n   'tf_idf': 0.8338206800889957},\n  '8577': {'positions': [150],\n   'number_of_token': 1,\n   'tf_idf': 0.8338206800889957},\n  '8589': {'positions': [3, 124],\n   'number_of_token': 2,\n   'tf_idf': 1.084825715800724},\n  '8592': {'positions': [254],\n   'number_of_token': 1,\n   'tf_idf': 0.8338206800889957},\n  '8595': {'positions': [345],\n   'number_of_token': 1,\n   'tf_idf': 0.8338206800889957},\n  '8596': {'positions': [854],\n   'number_of_token': 1,\n   'tf_idf': 0.8338206800889957},\n  '8600': {'positions': [3, 61, 81],\n   'number_of_token': 3,\n   'tf_idf': 1.2316542491842595},\n  '8601': {'positions': [362, 611, 672, 954],\n   'number_of_token': 4,\n   'tf_idf': 1.3358307515124521},\n  '8602': {'positions': [28, 33],\n   'number_of_token': 2,\n   'tf_idf': 1.084825715800724},\n  '8606': {'positions': [126, 225, 378],\n   'number_of_token': 3,\n   'tf_idf': 1.2316542491842595},\n  '8610': {'positions': [181, 604],\n   'number_of_token': 2,\n   'tf_idf': 1.084825715800724},\n  '8612': {'positions': [19, 27, 76, 102],\n   'number_of_token': 4,\n   'tf_idf': 1.3358307515124521},\n  '8615': {'positions': [179],\n   'number_of_token': 1,\n   'tf_idf': 0.8338206800889957},\n  '8617': {'positions': [180, 241],\n   'number_of_token': 2,\n   'tf_idf': 1.084825715800724},\n  '8618': {'positions': [5, 60, 78],\n   'number_of_token': 3,\n   'tf_idf': 1.2316542491842595},\n  '8619': {'positions': [66, 199],\n   'number_of_token': 2,\n   'tf_idf': 1.084825715800724},\n  '8620': {'positions': [66],\n   'number_of_token': 1,\n   'tf_idf': 0.8338206800889957},\n  '8622': {'positions': [1529],\n   'number_of_token': 1,\n   'tf_idf': 0.8338206800889957},\n  '8626': {'positions': [42],\n   'number_of_token': 1,\n   'tf_idf': 0.8338206800889957},\n  '8627': {'positions': [8, 235, 269, 366],\n   'number_of_token': 4,\n   'tf_idf': 1.3358307515124521},\n  '8629': {'positions': [60, 82],\n   'number_of_token': 2,\n   'tf_idf': 1.084825715800724},\n  '8630': {'positions': [3, 293, 306],\n   'number_of_token': 3,\n   'tf_idf': 1.2316542491842595},\n  '8631': {'positions': [19, 23],\n   'number_of_token': 2,\n   'tf_idf': 1.084825715800724},\n  '8640': {'positions': [1, 15, 20, 60],\n   'number_of_token': 4,\n   'tf_idf': 1.3358307515124521},\n  '8641': {'positions': [85],\n   'number_of_token': 1,\n   'tf_idf': 0.8338206800889957},\n  '8647': {'positions': [25, 83, 174, 387],\n   'number_of_token': 4,\n   'tf_idf': 1.3358307515124521},\n  '8648': {'positions': [3, 86],\n   'number_of_token': 2,\n   'tf_idf': 1.084825715800724},\n  '8649': {'positions': [473, 1165],\n   'number_of_token': 2,\n   'tf_idf': 1.084825715800724},\n  '8654': {'positions': [79, 247, 388, 485, 556],\n   'number_of_token': 5,\n   'tf_idf': 1.4166363244662632},\n  '8656': {'positions': [227],\n   'number_of_token': 1,\n   'tf_idf': 0.8338206800889957},\n  '8657': {'positions': [8, 42, 52, 92, 151, 270, 340, 476, 491, 510, 553],\n   'number_of_token': 11,\n   'tf_idf': 1.7021554370673324},\n  '8659': {'positions': [18, 27, 78, 85, 128],\n   'number_of_token': 5,\n   'tf_idf': 1.4166363244662632},\n  '8663': {'positions': [64, 119],\n   'number_of_token': 2,\n   'tf_idf': 1.084825715800724},\n  '8666': {'positions': [1, 15, 19, 47, 67, 86, 97],\n   'number_of_token': 7,\n   'tf_idf': 1.5384809025555606},\n  '8676': {'positions': [4, 106, 181],\n   'number_of_token': 3,\n   'tf_idf': 1.2316542491842595},\n  '8677': {'positions': [14,\n    19,\n    45,\n    51,\n    113,\n    137,\n    180,\n    199,\n    223,\n    293,\n    333,\n    377,\n    383,\n    404,\n    432],\n   'number_of_token': 15,\n   'tf_idf': 1.814469893561527},\n  '8679': {'positions': [18, 24, 54, 88, 94, 119, 145, 175],\n   'number_of_token': 8,\n   'tf_idf': 1.5868357872241803},\n  '8680': {'positions': [98, 104, 191, 553, 575, 1279, 1428, 1714, 2514],\n   'number_of_token': 9,\n   'tf_idf': 1.6294878182795234},\n  '8681': {'positions': [135, 339],\n   'number_of_token': 2,\n   'tf_idf': 1.084825715800724},\n  '8685': {'positions': [11, 54, 61, 68],\n   'number_of_token': 4,\n   'tf_idf': 1.3358307515124521},\n  '8686': {'positions': [3, 97],\n   'number_of_token': 2,\n   'tf_idf': 1.084825715800724},\n  '8692': {'positions': [1, 15, 24],\n   'number_of_token': 3,\n   'tf_idf': 1.2316542491842595},\n  '8702': {'positions': [8, 20, 24, 80, 89, 114, 194],\n   'number_of_token': 7,\n   'tf_idf': 1.5384809025555606},\n  '8708': {'positions': [17, 29],\n   'number_of_token': 2,\n   'tf_idf': 1.084825715800724},\n  '8712': {'positions': [5],\n   'number_of_token': 1,\n   'tf_idf': 0.8338206800889957},\n  '8715': {'positions': [76],\n   'number_of_token': 1,\n   'tf_idf': 0.8338206800889957},\n  '8718': {'positions': [17, 79, 180],\n   'number_of_token': 3,\n   'tf_idf': 1.2316542491842595},\n  '8721': {'positions': [103, 368, 434, 545, 554],\n   'number_of_token': 5,\n   'tf_idf': 1.4166363244662632},\n  '8722': {'positions': [68, 141, 246, 736],\n   'number_of_token': 4,\n   'tf_idf': 1.3358307515124521},\n  '8723': {'positions': [74],\n   'number_of_token': 1,\n   'tf_idf': 0.8338206800889957},\n  '8726': {'positions': [3, 18, 37, 54, 62],\n   'number_of_token': 5,\n   'tf_idf': 1.4166363244662632},\n  '8733': {'positions': [3, 24, 33, 41, 119],\n   'number_of_token': 5,\n   'tf_idf': 1.4166363244662632},\n  '8736': {'positions': [248, 475, 664],\n   'number_of_token': 3,\n   'tf_idf': 1.2316542491842595},\n  '8737': {'positions': [4, 51, 75, 241],\n   'number_of_token': 4,\n   'tf_idf': 1.3358307515124521},\n  '8739': {'positions': [44, 203, 218, 259, 280, 608, 833, 850, 900],\n   'number_of_token': 9,\n   'tf_idf': 1.6294878182795234},\n  '8744': {'positions': [3, 71],\n   'number_of_token': 2,\n   'tf_idf': 1.084825715800724},\n  '8748': {'positions': [4, 86],\n   'number_of_token': 2,\n   'tf_idf': 1.084825715800724},\n  '8763': {'positions': [3, 112, 291, 492],\n   'number_of_token': 4,\n   'tf_idf': 1.3358307515124521},\n  '8771': {'positions': [4],\n   'number_of_token': 1,\n   'tf_idf': 0.8338206800889957},\n  '8774': {'positions': [3, 91, 237, 241],\n   'number_of_token': 4,\n   'tf_idf': 1.3358307515124521},\n  '8776': {'positions': [44, 133],\n   'number_of_token': 2,\n   'tf_idf': 1.084825715800724},\n  '8783': {'positions': [7, 19, 33, 50, 59, 70, 72, 93, 95, 111, 117],\n   'number_of_token': 11,\n   'tf_idf': 1.7021554370673324},\n  '8787': {'positions': [161, 304],\n   'number_of_token': 2,\n   'tf_idf': 1.084825715800724},\n  '8797': {'positions': [302],\n   'number_of_token': 1,\n   'tf_idf': 0.8338206800889957},\n  '8800': {'positions': [109],\n   'number_of_token': 1,\n   'tf_idf': 0.8338206800889957},\n  '8807': {'positions': [149],\n   'number_of_token': 1,\n   'tf_idf': 0.8338206800889957},\n  '8809': {'positions': [30],\n   'number_of_token': 1,\n   'tf_idf': 0.8338206800889957},\n  '8813': {'positions': [32, 54],\n   'number_of_token': 2,\n   'tf_idf': 1.084825715800724},\n  '8816': {'positions': [17],\n   'number_of_token': 1,\n   'tf_idf': 0.8338206800889957},\n  '8820': {'positions': [32, 47, 60, 73, 91, 112, 137, 150],\n   'number_of_token': 8,\n   'tf_idf': 1.5868357872241803},\n  '8822': {'positions': [33,\n    91,\n    115,\n    137,\n    172,\n    376,\n    395,\n    496,\n    542,\n    544,\n    634,\n    833,\n    876],\n   'number_of_token': 13,\n   'tf_idf': 1.7626496836900982},\n  '8827': {'positions': [201],\n   'number_of_token': 1,\n   'tf_idf': 0.8338206800889957},\n  '8828': {'positions': [16, 98, 106, 133],\n   'number_of_token': 4,\n   'tf_idf': 1.3358307515124521},\n  '8829': {'positions': [18, 107],\n   'number_of_token': 2,\n   'tf_idf': 1.084825715800724},\n  '8830': {'positions': [17, 78, 101],\n   'number_of_token': 3,\n   'tf_idf': 1.2316542491842595},\n  '8831': {'positions': [3, 20, 103, 139, 193],\n   'number_of_token': 5,\n   'tf_idf': 1.4166363244662632},\n  '8832': {'positions': [17],\n   'number_of_token': 1,\n   'tf_idf': 0.8338206800889957},\n  '8833': {'positions': [8, 16, 28, 89, 129, 163],\n   'number_of_token': 6,\n   'tf_idf': 1.4826592848959879},\n  '8840': {'positions': [8, 31, 79, 89, 96, 114],\n   'number_of_token': 6,\n   'tf_idf': 1.4826592848959879},\n  '8841': {'positions': [210],\n   'number_of_token': 1,\n   'tf_idf': 0.8338206800889957},\n  '8842': {'positions': [128, 290, 484],\n   'number_of_token': 3,\n   'tf_idf': 1.2316542491842595},\n  '8843': {'positions': [9, 26, 139, 311, 379, 556],\n   'number_of_token': 6,\n   'tf_idf': 1.4826592848959879},\n  '8844': {'positions': [25],\n   'number_of_token': 1,\n   'tf_idf': 0.8338206800889957},\n  '8845': {'positions': [23],\n   'number_of_token': 1,\n   'tf_idf': 0.8338206800889957},\n  '8846': {'positions': [65],\n   'number_of_token': 1,\n   'tf_idf': 0.8338206800889957},\n  '8848': {'positions': [48, 343],\n   'number_of_token': 2,\n   'tf_idf': 1.084825715800724},\n  '8850': {'positions': [67],\n   'number_of_token': 1,\n   'tf_idf': 0.8338206800889957},\n  '8851': {'positions': [303],\n   'number_of_token': 1,\n   'tf_idf': 0.8338206800889957},\n  '8852': {'positions': [8, 306],\n   'number_of_token': 2,\n   'tf_idf': 1.084825715800724},\n  '8855': {'positions': [49],\n   'number_of_token': 1,\n   'tf_idf': 0.8338206800889957},\n  '8856': {'positions': [24, 58, 103, 124],\n   'number_of_token': 4,\n   'tf_idf': 1.3358307515124521},\n  '8857': {'positions': [19],\n   'number_of_token': 1,\n   'tf_idf': 0.8338206800889957},\n  '8858': {'positions': [8, 25],\n   'number_of_token': 2,\n   'tf_idf': 1.084825715800724},\n  '8859': {'positions': [25, 93, 189],\n   'number_of_token': 3,\n   'tf_idf': 1.2316542491842595},\n  '8860': {'positions': [25],\n   'number_of_token': 1,\n   'tf_idf': 0.8338206800889957},\n  '8861': {'positions': [1431],\n   'number_of_token': 1,\n   'tf_idf': 0.8338206800889957},\n  '8862': {'positions': [25],\n   'number_of_token': 1,\n   'tf_idf': 0.8338206800889957},\n  '8863': {'positions': [8, 23, 444, 486, 1060, 1339, 1410],\n   'number_of_token': 7,\n   'tf_idf': 1.5384809025555606},\n  '8864': {'positions': [24],\n   'number_of_token': 1,\n   'tf_idf': 0.8338206800889957},\n  '8866': {'positions': [8],\n   'number_of_token': 1,\n   'tf_idf': 0.8338206800889957},\n  '8870': {'positions': [18, 55, 73],\n   'number_of_token': 3,\n   'tf_idf': 1.2316542491842595},\n  '8871': {'positions': [8, 66, 596, 872],\n   'number_of_token': 4,\n   'tf_idf': 1.3358307515124521},\n  '8874': {'positions': [54, 61, 73, 86, 102, 117, 136, 150, 163],\n   'number_of_token': 9,\n   'tf_idf': 1.6294878182795234},\n  '8877': {'positions': [3,\n    17,\n    21,\n    30,\n    43,\n    50,\n    95,\n    114,\n    161,\n    209,\n    255,\n    358,\n    370,\n    410,\n    434,\n    481],\n   'number_of_token': 16,\n   'tf_idf': 1.8378408229359087},\n  '8878': {'positions': [9, 97],\n   'number_of_token': 2,\n   'tf_idf': 1.084825715800724},\n  '8881': {'positions': [19, 75, 183, 307, 413, 426],\n   'number_of_token': 6,\n   'tf_idf': 1.4826592848959879},\n  '8883': {'positions': [18, 46, 54, 78],\n   'number_of_token': 4,\n   'tf_idf': 1.3358307515124521},\n  '8884': {'positions': [3],\n   'number_of_token': 1,\n   'tf_idf': 0.8338206800889957},\n  '8885': {'positions': [8, 18, 96, 155, 180],\n   'number_of_token': 5,\n   'tf_idf': 1.4166363244662632},\n  '8889': {'positions': [8, 27, 67],\n   'number_of_token': 3,\n   'tf_idf': 1.2316542491842595},\n  '8890': {'positions': [5, 29, 35],\n   'number_of_token': 3,\n   'tf_idf': 1.2316542491842595},\n  '8892': {'positions': [17, 100, 179],\n   'number_of_token': 3,\n   'tf_idf': 1.2316542491842595},\n  '8894': {'positions': [100, 528, 553, 563],\n   'number_of_token': 4,\n   'tf_idf': 1.3358307515124521},\n  '8902': {'positions': [3, 19, 28, 45, 56, 63],\n   'number_of_token': 6,\n   'tf_idf': 1.4826592848959879},\n  '8905': {'positions': [3, 98, 228],\n   'number_of_token': 3,\n   'tf_idf': 1.2316542491842595},\n  '8906': {'positions': [3, 74],\n   'number_of_token': 2,\n   'tf_idf': 1.084825715800724},\n  '8907': {'positions': [25, 32],\n   'number_of_token': 2,\n   'tf_idf': 1.084825715800724},\n  '8909': {'positions': [26, 32, 44, 56, 75, 93],\n   'number_of_token': 6,\n   'tf_idf': 1.4826592848959879},\n  '8913': {'positions': [17, 34, 72, 79, 82],\n   'number_of_token': 5,\n   'tf_idf': 1.4166363244662632},\n  '8914': {'positions': [17, 50, 57],\n   'number_of_token': 3,\n   'tf_idf': 1.2316542491842595},\n  '8915': {'positions': [15, 81, 128],\n   'number_of_token': 3,\n   'tf_idf': 1.2316542491842595},\n  '8916': {'positions': [1, 15, 29, 36],\n   'number_of_token': 4,\n   'tf_idf': 1.3358307515124521},\n  '8917': {'positions': [17, 35, 83, 210, 287],\n   'number_of_token': 5,\n   'tf_idf': 1.4166363244662632},\n  '8924': {'positions': [62],\n   'number_of_token': 1,\n   'tf_idf': 0.8338206800889957},\n  '8925': {'positions': [17, 24, 55, 70, 75, 81, 104, 116, 133, 161, 168],\n   'number_of_token': 11,\n   'tf_idf': 1.7021554370673324},\n  '8928': {'positions': [8, 19, 105, 118, 160, 191, 249, 272],\n   'number_of_token': 8,\n   'tf_idf': 1.5868357872241803},\n  '8929': {'positions': [11, 73, 104, 115, 167, 284],\n   'number_of_token': 6,\n   'tf_idf': 1.4826592848959879},\n  '8930': {'positions': [8, 90, 152],\n   'number_of_token': 3,\n   'tf_idf': 1.2316542491842595},\n  '8931': {'positions': [9, 67, 76, 140, 222, 238],\n   'number_of_token': 6,\n   'tf_idf': 1.4826592848959879},\n  '8934': {'positions': [63, 102, 127],\n   'number_of_token': 3,\n   'tf_idf': 1.2316542491842595},\n  '8936': {'positions': [60, 79],\n   'number_of_token': 2,\n   'tf_idf': 1.084825715800724},\n  '8937': {'positions': [645, 893],\n   'number_of_token': 2,\n   'tf_idf': 1.084825715800724},\n  '8938': {'positions': [91, 219],\n   'number_of_token': 2,\n   'tf_idf': 1.084825715800724},\n  '8939': {'positions': [58, 67],\n   'number_of_token': 2,\n   'tf_idf': 1.084825715800724},\n  '8940': {'positions': [130],\n   'number_of_token': 1,\n   'tf_idf': 0.8338206800889957},\n  '8942': {'positions': [118, 238, 252, 279],\n   'number_of_token': 4,\n   'tf_idf': 1.3358307515124521},\n  '8945': {'positions': [71],\n   'number_of_token': 1,\n   'tf_idf': 0.8338206800889957},\n  '8946': {'positions': [149],\n   'number_of_token': 1,\n   'tf_idf': 0.8338206800889957},\n  '8948': {'positions': [108, 243],\n   'number_of_token': 2,\n   'tf_idf': 1.084825715800724},\n  '8952': {'positions': [84, 185, 257],\n   'number_of_token': 3,\n   'tf_idf': 1.2316542491842595},\n  '8953': {'positions': [85],\n   'number_of_token': 1,\n   'tf_idf': 0.8338206800889957},\n  '8956': {'positions': [1253],\n   'number_of_token': 1,\n   'tf_idf': 0.8338206800889957},\n  '8957': {'positions': [8, 17, 26, 61, 119, 122, 250, 333, 412],\n   'number_of_token': 9,\n   'tf_idf': 1.6294878182795234},\n  '8960': {'positions': [37,\n    48,\n    81,\n    105,\n    141,\n    155,\n    179,\n    193,\n    205,\n    226,\n    240,\n    266,\n    284,\n    297,\n    323,\n    365,\n    393,\n    410,\n    422,\n    439,\n    457],\n   'number_of_token': 21,\n   'tf_idf': 1.9363144716508247},\n  '8965': {'positions': [152],\n   'number_of_token': 1,\n   'tf_idf': 0.8338206800889957},\n  '8967': {'positions': [32],\n   'number_of_token': 1,\n   'tf_idf': 0.8338206800889957},\n  '8969': {'positions': [99],\n   'number_of_token': 1,\n   'tf_idf': 0.8338206800889957},\n  '8971': {'positions': [87],\n   'number_of_token': 1,\n   'tf_idf': 0.8338206800889957},\n  '8975': {'positions': [5, 72, 77, 94, 132, 147],\n   'number_of_token': 6,\n   'tf_idf': 1.4826592848959879},\n  '8979': {'positions': [133],\n   'number_of_token': 1,\n   'tf_idf': 0.8338206800889957},\n  '8980': {'positions': [3, 39, 62, 75, 93],\n   'number_of_token': 5,\n   'tf_idf': 1.4166363244662632},\n  '8981': {'positions': [98],\n   'number_of_token': 1,\n   'tf_idf': 0.8338206800889957},\n  '8984': {'positions': [3, 112],\n   'number_of_token': 2,\n   'tf_idf': 1.084825715800724},\n  '8996': {'positions': [65, 101],\n   'number_of_token': 2,\n   'tf_idf': 1.084825715800724},\n  '8999': {'positions': [16, 24, 41, 60, 71, 80, 89],\n   'number_of_token': 7,\n   'tf_idf': 1.5384809025555606},\n  '9000': {'positions': [25, 34],\n   'number_of_token': 2,\n   'tf_idf': 1.084825715800724},\n  '9008': {'positions': [575],\n   'number_of_token': 1,\n   'tf_idf': 0.8338206800889957},\n  '9013': {'positions': [20, 93, 98],\n   'number_of_token': 3,\n   'tf_idf': 1.2316542491842595},\n  '9020': {'positions': [1, 121],\n   'number_of_token': 2,\n   'tf_idf': 1.084825715800724},\n  '9022': {'positions': [241],\n   'number_of_token': 1,\n   'tf_idf': 0.8338206800889957},\n  '9025': {'positions': [3, 82, 174],\n   'number_of_token': 3,\n   'tf_idf': 1.2316542491842595},\n  '9028': {'positions': [48, 52, 68, 82, 85, 127, 137],\n   'number_of_token': 7,\n   'tf_idf': 1.5384809025555606},\n  '9029': {'positions': [4, 76],\n   'number_of_token': 2,\n   'tf_idf': 1.084825715800724},\n  '9033': {'positions': [340],\n   'number_of_token': 1,\n   'tf_idf': 0.8338206800889957},\n  '9035': {'positions': [25, 52],\n   'number_of_token': 2,\n   'tf_idf': 1.084825715800724},\n  '9036': {'positions': [132],\n   'number_of_token': 1,\n   'tf_idf': 0.8338206800889957},\n  '9037': {'positions': [17, 50],\n   'number_of_token': 2,\n   'tf_idf': 1.084825715800724},\n  '9040': {'positions': [9, 83, 147, 195, 200],\n   'number_of_token': 5,\n   'tf_idf': 1.4166363244662632},\n  '9041': {'positions': [187, 378],\n   'number_of_token': 2,\n   'tf_idf': 1.084825715800724},\n  '9044': {'positions': [451],\n   'number_of_token': 1,\n   'tf_idf': 0.8338206800889957},\n  '9046': {'positions': [408],\n   'number_of_token': 1,\n   'tf_idf': 0.8338206800889957},\n  '9051': {'positions': [123],\n   'number_of_token': 1,\n   'tf_idf': 0.8338206800889957},\n  '9052': {'positions': [454, 466, 499, 506],\n   'number_of_token': 4,\n   'tf_idf': 1.3358307515124521},\n  '9054': {'positions': [10, 62],\n   'number_of_token': 2,\n   'tf_idf': 1.084825715800724},\n  '9055': {'positions': [131],\n   'number_of_token': 1,\n   'tf_idf': 0.8338206800889957},\n  '9057': {'positions': [11, 76, 176, 186],\n   'number_of_token': 4,\n   'tf_idf': 1.3358307515124521},\n  '9064': {'positions': [29, 52],\n   'number_of_token': 2,\n   'tf_idf': 1.084825715800724},\n  '9068': {'positions': [39, 51, 62, 78, 91, 104, 116, 129],\n   'number_of_token': 8,\n   'tf_idf': 1.5868357872241803},\n  '9069': {'positions': [3, 55, 176],\n   'number_of_token': 3,\n   'tf_idf': 1.2316542491842595},\n  '9070': {'positions': [94, 103],\n   'number_of_token': 2,\n   'tf_idf': 1.084825715800724},\n  '9072': {'positions': [3,\n    20,\n    33,\n    39,\n    54,\n    68,\n    83,\n    98,\n    105,\n    129,\n    148,\n    210,\n    218],\n   'number_of_token': 13,\n   'tf_idf': 1.7626496836900982},\n  '9081': {'positions': [3, 21, 77, 113, 116, 122, 147],\n   'number_of_token': 7,\n   'tf_idf': 1.5384809025555606},\n  '9082': {'positions': [3, 20, 108, 246],\n   'number_of_token': 4,\n   'tf_idf': 1.3358307515124521},\n  '9084': {'positions': [6, 27],\n   'number_of_token': 2,\n   'tf_idf': 1.084825715800724},\n  '9090': {'positions': [17, 88],\n   'number_of_token': 2,\n   'tf_idf': 1.084825715800724},\n  '9091': {'positions': [17, 48, 54, 81],\n   'number_of_token': 4,\n   'tf_idf': 1.3358307515124521},\n  '9094': {'positions': [16],\n   'number_of_token': 1,\n   'tf_idf': 0.8338206800889957},\n  '9095': {'positions': [17, 49, 69, 98],\n   'number_of_token': 4,\n   'tf_idf': 1.3358307515124521},\n  '9099': {'positions': [8, 20, 40, 76],\n   'number_of_token': 4,\n   'tf_idf': 1.3358307515124521},\n  '9102': {'positions': [20, 214],\n   'number_of_token': 2,\n   'tf_idf': 1.084825715800724},\n  '9103': {'positions': [8, 32, 37],\n   'number_of_token': 3,\n   'tf_idf': 1.2316542491842595},\n  '9105': {'positions': [35, 522, 539, 789, 930, 988, 1020],\n   'number_of_token': 7,\n   'tf_idf': 1.5384809025555606},\n  '9107': {'positions': [8, 146],\n   'number_of_token': 2,\n   'tf_idf': 1.084825715800724},\n  '9108': {'positions': [3],\n   'number_of_token': 1,\n   'tf_idf': 0.8338206800889957},\n  '9109': {'positions': [273],\n   'number_of_token': 1,\n   'tf_idf': 0.8338206800889957},\n  '9111': {'positions': [127, 466],\n   'number_of_token': 2,\n   'tf_idf': 1.084825715800724},\n  '9112': {'positions': [667],\n   'number_of_token': 1,\n   'tf_idf': 0.8338206800889957},\n  '9117': {'positions': [427],\n   'number_of_token': 1,\n   'tf_idf': 0.8338206800889957},\n  '9120': {'positions': [32, 45],\n   'number_of_token': 2,\n   'tf_idf': 1.084825715800724},\n  '9123': {'positions': [14, 184, 278],\n   'number_of_token': 3,\n   'tf_idf': 1.2316542491842595},\n  '9129': {'positions': [31],\n   'number_of_token': 1,\n   'tf_idf': 0.8338206800889957},\n  '9130': {'positions': [6,\n    32,\n    40,\n    69,\n    110,\n    123,\n    128,\n    178,\n    1111,\n    1519,\n    1531,\n    1694,\n    1764,\n    2014,\n    2019,\n    2293,\n    2349,\n    2572],\n   'number_of_token': 18,\n   'tf_idf': 1.8804928539912515},\n  '9132': {'positions': [173, 363, 487, 784, 801],\n   'number_of_token': 5,\n   'tf_idf': 1.4166363244662632},\n  '9134': {'positions': [35, 54, 72, 105, 127, 150, 168, 195, 208, 227],\n   'number_of_token': 10,\n   'tf_idf': 1.6676413601779914},\n  '9136': {'positions': [19, 80],\n   'number_of_token': 2,\n   'tf_idf': 1.084825715800724},\n  '9152': {'positions': [239],\n   'number_of_token': 1,\n   'tf_idf': 0.8338206800889957},\n  '9153': {'positions': [697, 709, 718],\n   'number_of_token': 3,\n   'tf_idf': 1.2316542491842595},\n  '9154': {'positions': [5, 46, 83, 176],\n   'number_of_token': 4,\n   'tf_idf': 1.3358307515124521},\n  '9155': {'positions': [16, 33, 46, 65, 77],\n   'number_of_token': 5,\n   'tf_idf': 1.4166363244662632},\n  '9156': {'positions': [1, 16, 34, 69],\n   'number_of_token': 4,\n   'tf_idf': 1.3358307515124521},\n  '9162': {'positions': [16, 43],\n   'number_of_token': 2,\n   'tf_idf': 1.084825715800724},\n  '9164': {'positions': [34, 176, 1995],\n   'number_of_token': 3,\n   'tf_idf': 1.2316542491842595},\n  '9165': {'positions': [17, 37, 51, 68],\n   'number_of_token': 4,\n   'tf_idf': 1.3358307515124521},\n  '9169': {'positions': [8, 85, 191, 196],\n   'number_of_token': 4,\n   'tf_idf': 1.3358307515124521},\n  '9172': {'positions': [107],\n   'number_of_token': 1,\n   'tf_idf': 0.8338206800889957},\n  '9176': {'positions': [43, 133],\n   'number_of_token': 2,\n   'tf_idf': 1.084825715800724},\n  '9193': {'positions': [39, 52, 63, 95, 106, 118, 131, 143, 160],\n   'number_of_token': 9,\n   'tf_idf': 1.6294878182795234},\n  '9196': {'positions': [3, 78],\n   'number_of_token': 2,\n   'tf_idf': 1.084825715800724},\n  '9202': {'positions': [84,\n    176,\n    310,\n    322,\n    394,\n    628,\n    816,\n    1037,\n    1050,\n    1142,\n    1200,\n    1224,\n    1230,\n    1250,\n    1270],\n   'number_of_token': 15,\n   'tf_idf': 1.814469893561527},\n  '9203': {'positions': [11,\n    28,\n    61,\n    75,\n    84,\n    115,\n    133,\n    189,\n    201,\n    233,\n    261,\n    268,\n    286,\n    295,\n    307,\n    333,\n    449],\n   'number_of_token': 17,\n   'tf_idf': 1.8597944365273993},\n  '9204': {'positions': [19, 26, 43, 61, 118],\n   'number_of_token': 5,\n   'tf_idf': 1.4166363244662632},\n  '9213': {'positions': [18, 30, 38, 52, 62, 76, 86, 141, 151, 158],\n   'number_of_token': 10,\n   'tf_idf': 1.6676413601779914},\n  '9217': {'positions': [5, 31, 64, 85, 110, 137],\n   'number_of_token': 6,\n   'tf_idf': 1.4826592848959879},\n  '9219': {'positions': [4, 93, 186],\n   'number_of_token': 3,\n   'tf_idf': 1.2316542491842595},\n  '9220': {'positions': [265,\n    298,\n    318,\n    338,\n    362,\n    383,\n    404,\n    425,\n    445,\n    496,\n    518],\n   'number_of_token': 11,\n   'tf_idf': 1.7021554370673324},\n  '9235': {'positions': [3, 118, 207, 293],\n   'number_of_token': 4,\n   'tf_idf': 1.3358307515124521},\n  '9244': {'positions': [67, 153],\n   'number_of_token': 2,\n   'tf_idf': 1.084825715800724},\n  '9254': {'positions': [347],\n   'number_of_token': 1,\n   'tf_idf': 0.8338206800889957},\n  '9268': {'positions': [3, 87, 176],\n   'number_of_token': 3,\n   'tf_idf': 1.2316542491842595},\n  '9275': {'positions': [15, 59, 66, 106],\n   'number_of_token': 4,\n   'tf_idf': 1.3358307515124521},\n  '9276': {'positions': [3, 16, 164, 296],\n   'number_of_token': 4,\n   'tf_idf': 1.3358307515124521},\n  '9283': {'positions': [398, 407],\n   'number_of_token': 2,\n   'tf_idf': 1.084825715800724},\n  '9292': {'positions': [153, 264, 272, 677, 734, 772, 777, 817, 971, 1042],\n   'number_of_token': 10,\n   'tf_idf': 1.6676413601779914},\n  '9302': {'positions': [102, 168],\n   'number_of_token': 2,\n   'tf_idf': 1.084825715800724},\n  '9304': {'positions': [45, 101],\n   'number_of_token': 2,\n   'tf_idf': 1.084825715800724},\n  '9306': {'positions': [70, 101],\n   'number_of_token': 2,\n   'tf_idf': 1.084825715800724},\n  '9314': {'positions': [152],\n   'number_of_token': 1,\n   'tf_idf': 0.8338206800889957},\n  '9315': {'positions': [8, 59],\n   'number_of_token': 2,\n   'tf_idf': 1.084825715800724},\n  '9316': {'positions': [37, 55],\n   'number_of_token': 2,\n   'tf_idf': 1.084825715800724},\n  '9317': {'positions': [4, 26, 41, 44],\n   'number_of_token': 4,\n   'tf_idf': 1.3358307515124521},\n  '9318': {'positions': [20],\n   'number_of_token': 1,\n   'tf_idf': 0.8338206800889957},\n  '9320': {'positions': [55],\n   'number_of_token': 1,\n   'tf_idf': 0.8338206800889957},\n  '9322': {'positions': [12, 260, 318],\n   'number_of_token': 3,\n   'tf_idf': 1.2316542491842595},\n  '9324': {'positions': [3, 18, 21, 32],\n   'number_of_token': 4,\n   'tf_idf': 1.3358307515124521},\n  '9327': {'positions': [10],\n   'number_of_token': 1,\n   'tf_idf': 0.8338206800889957},\n  '9329': {'positions': [1290],\n   'number_of_token': 1,\n   'tf_idf': 0.8338206800889957},\n  '9332': {'positions': [34, 48, 59, 72, 85, 101, 119, 134, 145, 156, 167],\n   'number_of_token': 11,\n   'tf_idf': 1.7021554370673324},\n  '9336': {'positions': [305, 743],\n   'number_of_token': 2,\n   'tf_idf': 1.084825715800724},\n  '9338': {'positions': [4, 22, 124, 128, 138],\n   'number_of_token': 5,\n   'tf_idf': 1.4166363244662632},\n  '9339': {'positions': [16, 62, 75],\n   'number_of_token': 3,\n   'tf_idf': 1.2316542491842595},\n  '9340': {'positions': [17, 32, 43, 77],\n   'number_of_token': 4,\n   'tf_idf': 1.3358307515124521},\n  '9341': {'positions': [16, 33, 63, 75],\n   'number_of_token': 4,\n   'tf_idf': 1.3358307515124521},\n  '9342': {'positions': [16, 33, 63, 75],\n   'number_of_token': 4,\n   'tf_idf': 1.3358307515124521},\n  '9343': {'positions': [11, 19, 25, 33, 51, 60, 74],\n   'number_of_token': 7,\n   'tf_idf': 1.5384809025555606},\n  '9345': {'positions': [14, 80],\n   'number_of_token': 2,\n   'tf_idf': 1.084825715800724},\n  '9346': {'positions': [1633, 1645, 1679, 1683],\n   'number_of_token': 4,\n   'tf_idf': 1.3358307515124521},\n  '9352': {'positions': [23],\n   'number_of_token': 1,\n   'tf_idf': 0.8338206800889957},\n  '9353': {'positions': [17, 33, 45, 64, 86, 91],\n   'number_of_token': 6,\n   'tf_idf': 1.4826592848959879},\n  '9367': {'positions': [17, 48, 91],\n   'number_of_token': 3,\n   'tf_idf': 1.2316542491842595},\n  '9370': {'positions': [14],\n   'number_of_token': 1,\n   'tf_idf': 0.8338206800889957},\n  '9378': {'positions': [115],\n   'number_of_token': 1,\n   'tf_idf': 0.8338206800889957},\n  '9379': {'positions': [6, 32, 36, 68],\n   'number_of_token': 4,\n   'tf_idf': 1.3358307515124521},\n  '9380': {'positions': [6, 32],\n   'number_of_token': 2,\n   'tf_idf': 1.084825715800724},\n  '9381': {'positions': [7],\n   'number_of_token': 1,\n   'tf_idf': 0.8338206800889957},\n  '9382': {'positions': [4, 68],\n   'number_of_token': 2,\n   'tf_idf': 1.084825715800724},\n  '9383': {'positions': [37, 42, 84, 502],\n   'number_of_token': 4,\n   'tf_idf': 1.3358307515124521},\n  '9385': {'positions': [73, 276],\n   'number_of_token': 2,\n   'tf_idf': 1.084825715800724},\n  '9386': {'positions': [32, 38],\n   'number_of_token': 2,\n   'tf_idf': 1.084825715800724},\n  '9388': {'positions': [27],\n   'number_of_token': 1,\n   'tf_idf': 0.8338206800889957},\n  '9392': {'positions': [642],\n   'number_of_token': 1,\n   'tf_idf': 0.8338206800889957},\n  '9394': {'positions': [50, 64, 75, 88, 101, 117, 135, 150, 161, 172, 183],\n   'number_of_token': 11,\n   'tf_idf': 1.7021554370673324},\n  '9395': {'positions': [244, 317, 349],\n   'number_of_token': 3,\n   'tf_idf': 1.2316542491842595},\n  '9398': {'positions': [5, 30, 82, 96, 105, 122, 127, 169, 180, 212, 222],\n   'number_of_token': 11,\n   'tf_idf': 1.7021554370673324},\n  '9400': {'positions': [8, 119],\n   'number_of_token': 2,\n   'tf_idf': 1.084825715800724},\n  '9404': {'positions': [208, 379],\n   'number_of_token': 2,\n   'tf_idf': 1.084825715800724},\n  '9405': {'positions': [21, 29, 39, 94, 236, 917, 958, 963, 1522, 2614],\n   'number_of_token': 10,\n   'tf_idf': 1.6676413601779914},\n  '9411': {'positions': [35, 76, 82, 138, 142, 192, 209],\n   'number_of_token': 7,\n   'tf_idf': 1.5384809025555606},\n  '9416': {'positions': [51, 66],\n   'number_of_token': 2,\n   'tf_idf': 1.084825715800724},\n  '9420': {'positions': [53, 99, 111],\n   'number_of_token': 3,\n   'tf_idf': 1.2316542491842595},\n  '9421': {'positions': [17, 45, 69, 96, 121, 143],\n   'number_of_token': 6,\n   'tf_idf': 1.4826592848959879},\n  '9423': {'positions': [8,\n    47,\n    91,\n    101,\n    132,\n    142,\n    197,\n    203,\n    266,\n    294,\n    357,\n    381,\n    431,\n    444,\n    465,\n    493,\n    525],\n   'number_of_token': 17,\n   'tf_idf': 1.8597944365273993},\n  '9425': {'positions': [9, 22],\n   'number_of_token': 2,\n   'tf_idf': 1.084825715800724},\n  '9427': {'positions': [7,\n    12,\n    18,\n    27,\n    31,\n    53,\n    62,\n    71,\n    79,\n    89,\n    97,\n    106,\n    115,\n    124,\n    133,\n    144,\n    153,\n    161,\n    168,\n    174,\n    183],\n   'number_of_token': 21,\n   'tf_idf': 1.9363144716508247},\n  '9428': {'positions': [6, 12, 13, 31, 33],\n   'number_of_token': 5,\n   'tf_idf': 1.4166363244662632},\n  '9429': {'positions': [6, 35, 37, 50, 60, 62],\n   'number_of_token': 6,\n   'tf_idf': 1.4826592848959879},\n  '9430': {'positions': [11, 19, 22, 35, 60, 61],\n   'number_of_token': 6,\n   'tf_idf': 1.4826592848959879},\n  '9431': {'positions': [8, 17, 19, 26, 46, 50],\n   'number_of_token': 6,\n   'tf_idf': 1.4826592848959879},\n  '9433': {'positions': [8, 16, 31, 45, 46],\n   'number_of_token': 5,\n   'tf_idf': 1.4166363244662632},\n  '9434': {'positions': [11, 16, 19, 53, 55],\n   'number_of_token': 5,\n   'tf_idf': 1.4166363244662632},\n  '9436': {'positions': [3, 18, 21, 35, 40, 54, 71, 72],\n   'number_of_token': 8,\n   'tf_idf': 1.5868357872241803},\n  '9437': {'positions': [8, 16, 18, 27, 44, 51, 52, 60, 68],\n   'number_of_token': 9,\n   'tf_idf': 1.6294878182795234},\n  '9438': {'positions': [11, 20, 23, 51, 57],\n   'number_of_token': 5,\n   'tf_idf': 1.4166363244662632},\n  '9441': {'positions': [12, 21, 23, 33, 36],\n   'number_of_token': 5,\n   'tf_idf': 1.4166363244662632},\n  '9458': {'positions': [124],\n   'number_of_token': 1,\n   'tf_idf': 0.8338206800889957},\n  '9460': {'positions': [102],\n   'number_of_token': 1,\n   'tf_idf': 0.8338206800889957},\n  '9464': {'positions': [61, 123],\n   'number_of_token': 2,\n   'tf_idf': 1.084825715800724},\n  '9465': {'positions': [37, 219],\n   'number_of_token': 2,\n   'tf_idf': 1.084825715800724},\n  '9466': {'positions': [94, 101, 139, 151, 162, 172],\n   'number_of_token': 6,\n   'tf_idf': 1.4826592848959879},\n  '9467': {'positions': [139, 204],\n   'number_of_token': 2,\n   'tf_idf': 1.084825715800724},\n  '9469': {'positions': [11, 44, 65, 72, 99, 112, 125, 193, 209, 285],\n   'number_of_token': 10,\n   'tf_idf': 1.6676413601779914},\n  '9470': {'positions': [8, 52, 67, 79, 89, 105, 163, 180, 195, 204],\n   'number_of_token': 10,\n   'tf_idf': 1.6676413601779914},\n  '9471': {'positions': [38,\n    46,\n    57,\n    75,\n    91,\n    106,\n    127,\n    139,\n    145,\n    150,\n    154,\n    157,\n    229],\n   'number_of_token': 13,\n   'tf_idf': 1.7626496836900982},\n  '9472': {'positions': [62, 87, 89, 96, 104, 109, 112, 145],\n   'number_of_token': 8,\n   'tf_idf': 1.5868357872241803},\n  '9474': {'positions': [8, 60, 71, 114, 126, 160],\n   'number_of_token': 6,\n   'tf_idf': 1.4826592848959879},\n  '9477': {'positions': [182, 197, 200, 210, 212],\n   'number_of_token': 5,\n   'tf_idf': 1.4166363244662632},\n  '9478': {'positions': [38, 57, 71, 97, 116, 131, 142, 153, 164],\n   'number_of_token': 9,\n   'tf_idf': 1.6294878182795234},\n  '9485': {'positions': [14, 34],\n   'number_of_token': 2,\n   'tf_idf': 1.084825715800724},\n  '9487': {'positions': [311],\n   'number_of_token': 1,\n   'tf_idf': 0.8338206800889957},\n  '9490': {'positions': [14,\n    90,\n    100,\n    150,\n    177,\n    188,\n    206,\n    231,\n    242,\n    246,\n    341,\n    351,\n    390],\n   'number_of_token': 13,\n   'tf_idf': 1.7626496836900982},\n  '9497': {'positions': [3, 89],\n   'number_of_token': 2,\n   'tf_idf': 1.084825715800724},\n  '9498': {'positions': [5,\n    15,\n    23,\n    25,\n    29,\n    38,\n    44,\n    52,\n    70,\n    83,\n    88,\n    105,\n    111,\n    123,\n    149],\n   'number_of_token': 15,\n   'tf_idf': 1.814469893561527},\n  '9500': {'positions': [28,\n    46,\n    63,\n    87,\n    109,\n    130,\n    139,\n    150,\n    161,\n    181,\n    195,\n    222,\n    240,\n    254,\n    291,\n    319,\n    329,\n    341,\n    354,\n    371,\n    384,\n    454,\n    472,\n    483,\n    496,\n    513,\n    526,\n    559],\n   'number_of_token': 28,\n   'tf_idf': 2.040490973979017},\n  '9501': {'positions': [4, 92, 216],\n   'number_of_token': 3,\n   'tf_idf': 1.2316542491842595},\n  '9502': {'positions': [4, 78, 205, 316],\n   'number_of_token': 4,\n   'tf_idf': 1.3358307515124521},\n  '9505': {'positions': [23, 53, 174],\n   'number_of_token': 3,\n   'tf_idf': 1.2316542491842595},\n  '9506': {'positions': [87,\n    595,\n    1915,\n    2222,\n    3278,\n    3285,\n    3294,\n    4340,\n    4349,\n    4352,\n    4356,\n    4363,\n    4376,\n    4396,\n    4401,\n    4407],\n   'number_of_token': 16,\n   'tf_idf': 1.8378408229359087},\n  '9532': {'positions': [131],\n   'number_of_token': 1,\n   'tf_idf': 0.8338206800889957},\n  '9536': {'positions': [3, 130],\n   'number_of_token': 2,\n   'tf_idf': 1.084825715800724},\n  '9539': {'positions': [65, 158],\n   'number_of_token': 2,\n   'tf_idf': 1.084825715800724},\n  '9543': {'positions': [110, 131, 188, 222],\n   'number_of_token': 4,\n   'tf_idf': 1.3358307515124521},\n  '9546': {'positions': [6, 202, 666],\n   'number_of_token': 3,\n   'tf_idf': 1.2316542491842595},\n  '9552': {'positions': [3, 67, 83],\n   'number_of_token': 3,\n   'tf_idf': 1.2316542491842595},\n  '9565': {'positions': [67],\n   'number_of_token': 1,\n   'tf_idf': 0.8338206800889957},\n  '9568': {'positions': [11, 57, 333, 384, 593, 698, 702, 798],\n   'number_of_token': 8,\n   'tf_idf': 1.5868357872241803},\n  '9583': {'positions': [88, 213],\n   'number_of_token': 2,\n   'tf_idf': 1.084825715800724},\n  '9586': {'positions': [15, 46, 57, 94, 124],\n   'number_of_token': 5,\n   'tf_idf': 1.4166363244662632},\n  '9589': {'positions': [8, 19, 30, 53, 57, 113, 133, 225, 281, 292],\n   'number_of_token': 10,\n   'tf_idf': 1.6676413601779914},\n  '9591': {'positions': [3, 51, 61, 71],\n   'number_of_token': 4,\n   'tf_idf': 1.3358307515124521},\n  '9592': {'positions': [46],\n   'number_of_token': 1,\n   'tf_idf': 0.8338206800889957},\n  '9593': {'positions': [10],\n   'number_of_token': 1,\n   'tf_idf': 0.8338206800889957},\n  '9607': {'positions': [60],\n   'number_of_token': 1,\n   'tf_idf': 0.8338206800889957},\n  '9609': {'positions': [4, 106],\n   'number_of_token': 2,\n   'tf_idf': 1.084825715800724},\n  '9610': {'positions': [4, 74],\n   'number_of_token': 2,\n   'tf_idf': 1.084825715800724},\n  '9612': {'positions': [3, 64],\n   'number_of_token': 2,\n   'tf_idf': 1.084825715800724},\n  '9616': {'positions': [1267, 1278, 1287],\n   'number_of_token': 3,\n   'tf_idf': 1.2316542491842595},\n  '9618': {'positions': [95, 245],\n   'number_of_token': 2,\n   'tf_idf': 1.084825715800724},\n  '9619': {'positions': [69],\n   'number_of_token': 1,\n   'tf_idf': 0.8338206800889957},\n  '9622': {'positions': [3, 99],\n   'number_of_token': 2,\n   'tf_idf': 1.084825715800724},\n  '9624': {'positions': [75],\n   'number_of_token': 1,\n   'tf_idf': 0.8338206800889957},\n  '9625': {'positions': [4, 71],\n   'number_of_token': 2,\n   'tf_idf': 1.084825715800724},\n  '9626': {'positions': [3, 73, 194],\n   'number_of_token': 3,\n   'tf_idf': 1.2316542491842595},\n  '9627': {'positions': [8, 205, 340],\n   'number_of_token': 3,\n   'tf_idf': 1.2316542491842595},\n  '9634': {'positions': [158, 515, 528],\n   'number_of_token': 3,\n   'tf_idf': 1.2316542491842595},\n  '9635': {'positions': [3, 71],\n   'number_of_token': 2,\n   'tf_idf': 1.084825715800724},\n  '9643': {'positions': [92, 324],\n   'number_of_token': 2,\n   'tf_idf': 1.084825715800724},\n  '9650': {'positions': [116],\n   'number_of_token': 1,\n   'tf_idf': 0.8338206800889957},\n  '9651': {'positions': [898, 903, 1003],\n   'number_of_token': 3,\n   'tf_idf': 1.2316542491842595},\n  '9652': {'positions': [15, 48, 95, 230],\n   'number_of_token': 4,\n   'tf_idf': 1.3358307515124521},\n  '9653': {'positions': [3, 87, 102],\n   'number_of_token': 3,\n   'tf_idf': 1.2316542491842595},\n  '9656': {'positions': [4],\n   'number_of_token': 1,\n   'tf_idf': 0.8338206800889957},\n  '9658': {'positions': [72],\n   'number_of_token': 1,\n   'tf_idf': 0.8338206800889957},\n  '9660': {'positions': [3, 64, 157],\n   'number_of_token': 3,\n   'tf_idf': 1.2316542491842595},\n  '9661': {'positions': [69, 106, 136],\n   'number_of_token': 3,\n   'tf_idf': 1.2316542491842595},\n  '9662': {'positions': [162],\n   'number_of_token': 1,\n   'tf_idf': 0.8338206800889957},\n  '9670': {'positions': [4, 63, 127],\n   'number_of_token': 3,\n   'tf_idf': 1.2316542491842595},\n  '9671': {'positions': [5432, 5437, 5487, 5499, 5738, 5740],\n   'number_of_token': 6,\n   'tf_idf': 1.4826592848959879},\n  '9678': {'positions': [2, 89, 101, 170, 173],\n   'number_of_token': 5,\n   'tf_idf': 1.4166363244662632},\n  '9679': {'positions': [80],\n   'number_of_token': 1,\n   'tf_idf': 0.8338206800889957},\n  '9683': {'positions': [4, 36, 40, 74, 79, 89, 140],\n   'number_of_token': 7,\n   'tf_idf': 1.5384809025555606},\n  '9688': {'positions': [19],\n   'number_of_token': 1,\n   'tf_idf': 0.8338206800889957},\n  '9694': {'positions': [12,\n    86,\n    179,\n    314,\n    339,\n    1829,\n    2051,\n    2207,\n    2609,\n    2781,\n    2786],\n   'number_of_token': 11,\n   'tf_idf': 1.7021554370673324},\n  '9695': {'positions': [99],\n   'number_of_token': 1,\n   'tf_idf': 0.8338206800889957},\n  '9711': {'positions': [4, 61],\n   'number_of_token': 2,\n   'tf_idf': 1.084825715800724},\n  '9712': {'positions': [306],\n   'number_of_token': 1,\n   'tf_idf': 0.8338206800889957},\n  '9718': {'positions': [9],\n   'number_of_token': 1,\n   'tf_idf': 0.8338206800889957},\n  '9719': {'positions': [40],\n   'number_of_token': 1,\n   'tf_idf': 0.8338206800889957},\n  '9722': {'positions': [64],\n   'number_of_token': 1,\n   'tf_idf': 0.8338206800889957},\n  '9734': {'positions': [71, 184, 287, 404],\n   'number_of_token': 4,\n   'tf_idf': 1.3358307515124521},\n  '9740': {'positions': [4, 84, 184],\n   'number_of_token': 3,\n   'tf_idf': 1.2316542491842595},\n  '9744': {'positions': [17, 33, 42, 58, 63],\n   'number_of_token': 5,\n   'tf_idf': 1.4166363244662632},\n  '9753': {'positions': [4, 120, 197],\n   'number_of_token': 3,\n   'tf_idf': 1.2316542491842595},\n  '9758': {'positions': [35, 69, 168, 172, 247, 252, 261, 278, 358],\n   'number_of_token': 9,\n   'tf_idf': 1.6294878182795234},\n  '9767': {'positions': [8],\n   'number_of_token': 1,\n   'tf_idf': 0.8338206800889957},\n  '9774': {'positions': [41, 95, 128],\n   'number_of_token': 3,\n   'tf_idf': 1.2316542491842595},\n  '9777': {'positions': [77, 85],\n   'number_of_token': 2,\n   'tf_idf': 1.084825715800724},\n  '9778': {'positions': [8, 64, 73, 110],\n   'number_of_token': 4,\n   'tf_idf': 1.3358307515124521},\n  '9781': {'positions': [24],\n   'number_of_token': 1,\n   'tf_idf': 0.8338206800889957},\n  '9782': {'positions': [8, 76],\n   'number_of_token': 2,\n   'tf_idf': 1.084825715800724},\n  '9783': {'positions': [3, 66, 116, 136],\n   'number_of_token': 4,\n   'tf_idf': 1.3358307515124521},\n  '9786': {'positions': [8, 91],\n   'number_of_token': 2,\n   'tf_idf': 1.084825715800724},\n  '9787': {'positions': [8, 68],\n   'number_of_token': 2,\n   'tf_idf': 1.084825715800724},\n  '9789': {'positions': [36, 59, 70, 91, 117, 129, 151, 166, 180],\n   'number_of_token': 9,\n   'tf_idf': 1.6294878182795234},\n  '9790': {'positions': [3, 82],\n   'number_of_token': 2,\n   'tf_idf': 1.084825715800724},\n  '9796': {'positions': [481],\n   'number_of_token': 1,\n   'tf_idf': 0.8338206800889957},\n  '9797': {'positions': [4, 22, 25, 45, 74],\n   'number_of_token': 5,\n   'tf_idf': 1.4166363244662632},\n  '9799': {'positions': [3, 17, 21, 61, 90],\n   'number_of_token': 5,\n   'tf_idf': 1.4166363244662632},\n  '9802': {'positions': [17, 27, 36, 71, 116, 124],\n   'number_of_token': 6,\n   'tf_idf': 1.4826592848959879},\n  '9804': {'positions': [3, 21, 103, 208, 211, 241, 267, 281],\n   'number_of_token': 8,\n   'tf_idf': 1.5868357872241803},\n  '9805': {'positions': [10],\n   'number_of_token': 1,\n   'tf_idf': 0.8338206800889957},\n  '9807': {'positions': [6, 9, 17, 31, 32],\n   'number_of_token': 5,\n   'tf_idf': 1.4166363244662632},\n  '9809': {'positions': [8, 21, 110, 117],\n   'number_of_token': 4,\n   'tf_idf': 1.3358307515124521},\n  '9810': {'positions': [16],\n   'number_of_token': 1,\n   'tf_idf': 0.8338206800889957},\n  '9813': {'positions': [84],\n   'number_of_token': 1,\n   'tf_idf': 0.8338206800889957},\n  '9814': {'positions': [92, 186],\n   'number_of_token': 2,\n   'tf_idf': 1.084825715800724},\n  '9821': {'positions': [9],\n   'number_of_token': 1,\n   'tf_idf': 0.8338206800889957},\n  '9823': {'positions': [6, 87],\n   'number_of_token': 2,\n   'tf_idf': 1.084825715800724},\n  '9826': {'positions': [114],\n   'number_of_token': 1,\n   'tf_idf': 0.8338206800889957},\n  '9831': {'positions': [110],\n   'number_of_token': 1,\n   'tf_idf': 0.8338206800889957},\n  '9840': {'positions': [8, 93, 113],\n   'number_of_token': 3,\n   'tf_idf': 1.2316542491842595},\n  '9842': {'positions': [23, 423],\n   'number_of_token': 2,\n   'tf_idf': 1.084825715800724},\n  '9843': {'positions': [8, 45, 83, 95, 112, 154],\n   'number_of_token': 6,\n   'tf_idf': 1.4826592848959879},\n  '9844': {'positions': [1808, 2404],\n   'number_of_token': 2,\n   'tf_idf': 1.084825715800724},\n  '9846': {'positions': [8, 76, 91, 131, 164, 180, 219],\n   'number_of_token': 7,\n   'tf_idf': 1.5384809025555606},\n  '9847': {'positions': [49, 52, 57, 91],\n   'number_of_token': 4,\n   'tf_idf': 1.3358307515124521},\n  '9848': {'positions': [16],\n   'number_of_token': 1,\n   'tf_idf': 0.8338206800889957},\n  '9849': {'positions': [15, 58, 133, 215, 310, 350, 405, 544, 593],\n   'number_of_token': 9,\n   'tf_idf': 1.6294878182795234},\n  ...},\n 'champions_list': {'11882': {'number_of_token': 55,\n   'tf_idf': 2.2849710814446},\n  '7506': {'number_of_token': 48, 'tf_idf': 2.2356743920311724},\n  '9970': {'number_of_token': 46, 'tf_idf': 2.2202625461250296},\n  '7401': {'number_of_token': 42, 'tf_idf': 2.187319507362553},\n  '10042': {'number_of_token': 35, 'tf_idf': 2.121296546932828},\n  '11449': {'number_of_token': 29, 'tf_idf': 2.053198373257889},\n  '9500': {'number_of_token': 28, 'tf_idf': 2.040490973979017},\n  '11143': {'number_of_token': 28, 'tf_idf': 2.040490973979017},\n  '11163': {'number_of_token': 26, 'tf_idf': 2.0136547194018264},\n  '11446': {'number_of_token': 26, 'tf_idf': 2.0136547194018264},\n  '8002': {'number_of_token': 25, 'tf_idf': 1.9994519688435306},\n  '10013': {'number_of_token': 25, 'tf_idf': 1.9994519688435306},\n  '10212': {'number_of_token': 25, 'tf_idf': 1.9994519688435306},\n  '11774': {'number_of_token': 25, 'tf_idf': 1.9994519688435306},\n  '8960': {'number_of_token': 21, 'tf_idf': 1.9363144716508247},\n  '9427': {'number_of_token': 21, 'tf_idf': 1.9363144716508247},\n  '11604': {'number_of_token': 21, 'tf_idf': 1.9363144716508247},\n  '11772': {'number_of_token': 21, 'tf_idf': 1.9363144716508247},\n  '11869': {'number_of_token': 21, 'tf_idf': 1.9363144716508247},\n  '10268': {'number_of_token': 20, 'tf_idf': 1.9186463958897195}}}"
     },
     "execution_count": 37,
     "metadata": {},
     "output_type": "execute_result"
    }
   ],
   "source": [
    "dictionary['کمیسیون']"
   ],
   "metadata": {
    "collapsed": false,
    "ExecuteTime": {
     "end_time": "2025-01-10T23:02:03.684134Z",
     "start_time": "2025-01-10T23:02:03.569238Z"
    }
   },
   "id": "732987798d7b8b84"
  },
  {
   "cell_type": "code",
   "execution_count": 38,
   "outputs": [
    {
     "data": {
      "text/plain": "48166"
     },
     "execution_count": 38,
     "metadata": {},
     "output_type": "execute_result"
    }
   ],
   "source": [
    "len(dictionary)"
   ],
   "metadata": {
    "collapsed": false,
    "ExecuteTime": {
     "end_time": "2025-01-10T23:02:03.685773Z",
     "start_time": "2025-01-10T23:02:03.678745Z"
    }
   },
   "id": "d06340cee6ec0b4a"
  },
  {
   "cell_type": "code",
   "execution_count": 39,
   "outputs": [],
   "source": [
    "half_length = len(dictionary) // 2\n",
    "first_half = {key: dictionary[key] for key in list(dictionary.keys())[:half_length]}\n",
    "second_half = {key: dictionary[key] for key in list(dictionary.keys())[half_length:]}\n",
    "\n",
    "with open('first_half.json', \"w\", encoding=\"utf-8\") as first_file:\n",
    "    json.dump(first_half, first_file, indent=4)\n",
    "\n",
    "with open('second_half.json', \"w\", encoding=\"utf-8\") as second_file:\n",
    "    json.dump(second_half, second_file, indent=4)"
   ],
   "metadata": {
    "collapsed": false,
    "ExecuteTime": {
     "end_time": "2025-01-10T23:02:26.861241Z",
     "start_time": "2025-01-10T23:02:03.692106Z"
    }
   },
   "id": "da0b1362554f134a"
  },
  {
   "cell_type": "code",
   "execution_count": 40,
   "outputs": [],
   "source": [
    "def calculate_tf_idf(f_td, N, n_t):\n",
    "    tf = 1 + np.log10(f_td)\n",
    "    idf = np.log10(N / n_t)\n",
    "    return tf * idf\n",
    "\n",
    "\n",
    "def vector_length(vector_dict):\n",
    "    length = math.sqrt(sum(tf_idf_value['tf_idf'] ** 2 for tf_idf_value in vector_dict.values()))\n",
    "    return length\n",
    "\n",
    "def get_query_tokens(query):\n",
    "    \"\"\"\n",
    "    Preprocesses the query into tokens.\n",
    "    Returns a list of tokens.\n",
    "    \"\"\"\n",
    "    return simple_preprocess(query)\n",
    "\n",
    "def get_query_tokens_count(query_tokens):\n",
    "    \"\"\"\n",
    "    Counts how many times each token appears in the query.\n",
    "    Returns a dictionary of token -> frequency.\n",
    "    \"\"\"\n",
    "    return dict(collections.Counter(query_tokens))\n",
    "\n",
    "def compute_query_weight(term, query_tokens_count, dictionary, champion_list, total_number_of_docs):\n",
    "    \"\"\"\n",
    "    Computes the TF-IDF weight of a query term.\n",
    "    Returns w_tq (the query-term weight) and the term_docs to iterate over.\n",
    "    \"\"\"\n",
    "    if term not in dictionary:\n",
    "        return 0, {}\n",
    "\n",
    "    # Retrieve the appropriate document list (champion list or full list)\n",
    "    term_docs = (dictionary[term]['champions_list'] \n",
    "                 if champion_list \n",
    "                 else dictionary[term]['docs'])\n",
    "\n",
    "    w_tq = calculate_tf_idf(query_tokens_count[term],\n",
    "                            total_number_of_docs,\n",
    "                            len(term_docs))\n",
    "    return w_tq, term_docs\n",
    "\n",
    "def update_doc_scores(term_docs, w_tq, cosine_scores, jaccard_scores):\n",
    "    \"\"\"\n",
    "    Updates the cosine and jaccard scores for each document that contains the term.\n",
    "    \"\"\"\n",
    "    for doc in term_docs:\n",
    "        w_td = term_docs[doc]['tf_idf']\n",
    "        doc_id = int(doc)\n",
    "\n",
    "        # Update cosines similarity\n",
    "        if doc_id in cosine_scores:\n",
    "            cosine_scores[doc_id] += w_td * w_tq\n",
    "            jaccard_scores[doc_id] += 1\n",
    "        else:\n",
    "            cosine_scores[doc_id] = w_td * w_tq\n",
    "            jaccard_scores[doc_id] = 1\n",
    "\n",
    "def finalize_cosine_scores(cosine_scores):\n",
    "    \"\"\"\n",
    "    Divides each document's cosine score by its vector length.\n",
    "    \"\"\"\n",
    "    for doc_number in cosine_scores:\n",
    "        cosine_scores[doc_number] /= vector_length(docs_vectors[str(doc_number)])\n",
    "\n",
    "def finalize_jaccard_scores(jaccard_scores, query_terms_num):\n",
    "    \"\"\"\n",
    "    Calculates jaccard score for each document based on intersection/union.\n",
    "    \"\"\"\n",
    "    for doc_number in jaccard_scores:\n",
    "        doc_length = len(pre_processed_docs[str(doc_number)]['content'])\n",
    "        intersection = jaccard_scores[doc_number]\n",
    "        jaccard_scores[doc_number] = intersection / (doc_length + query_terms_num - intersection)\n",
    "\n",
    "def sort_scores(scores_dict):\n",
    "    \"\"\"\n",
    "    Sorts scores in descending order by value.\n",
    "    Returns a list of (doc_id, score) tuples.\n",
    "    \"\"\"\n",
    "    return sorted(scores_dict.items(), key=lambda x: x[1], reverse=True)\n",
    "\n",
    "def query_scoring(query, total_number_of_docs, dictionary, k, champion_list=False):\n",
    "    # Initialize scores\n",
    "    cosine_scores = {}\n",
    "    jaccard_scores = {}\n",
    "\n",
    "    # Preprocess query\n",
    "    query_tokens = get_query_tokens(query)\n",
    "    query_tokens_count = get_query_tokens_count(query_tokens)\n",
    "    query_terms_num = sum(query_tokens_count.values())\n",
    "\n",
    "    print(query_tokens_count)\n",
    "\n",
    "    # Compute and update scores for each term in the query\n",
    "    for term in query_tokens_count:\n",
    "        w_tq, term_docs = compute_query_weight(term,\n",
    "                                               query_tokens_count,\n",
    "                                               dictionary,\n",
    "                                               champion_list,\n",
    "                                               total_number_of_docs)\n",
    "        if w_tq != 0:\n",
    "            update_doc_scores(term_docs, w_tq, cosine_scores, jaccard_scores)\n",
    "\n",
    "    # Finalize scores\n",
    "    finalize_cosine_scores(cosine_scores)\n",
    "    finalize_jaccard_scores(jaccard_scores, query_terms_num)\n",
    "\n",
    "    # Sort and retrieve top k results\n",
    "    sorted_doc_cosine = sort_scores(cosine_scores)\n",
    "    sorted_doc_jaccard = sort_scores(jaccard_scores)\n",
    "\n",
    "    return sorted_doc_cosine[:k], sorted_doc_jaccard[:k]"
   ],
   "metadata": {
    "collapsed": false,
    "ExecuteTime": {
     "end_time": "2025-01-10T23:02:26.876076Z",
     "start_time": "2025-01-10T23:02:26.874244Z"
    }
   },
   "id": "3ccece90c44cebf6"
  },
  {
   "cell_type": "code",
   "execution_count": 41,
   "outputs": [],
   "source": [
    "def print_results(results):\n",
    "    dict_result = {}\n",
    "    print(\"---------- Results ----------\")\n",
    "\n",
    "    for rank, (doc_id, _) in enumerate(results, start=1):\n",
    "        if doc_id is None:\n",
    "            continue\n",
    "        \n",
    "        print(f\"Rank: {rank} | ID: {doc_id}\")\n",
    "        print(f\"Title : {docs[str(doc_id)]['title']}\")\n",
    "        print(f\"URL   : {docs[str(doc_id)]['url']}\")\n",
    "        print(\"-\" * 50)  \n",
    "\n",
    "        dict_result[rank] = {\n",
    "            'docID': doc_id,\n",
    "            'title': docs[str(doc_id)][\"title\"],\n",
    "            'url'  : docs[str(doc_id)][\"url\"]\n",
    "        }\n",
    "\n",
    "    return dict_result\n",
    "\n",
    "def query_search(query, result_numbers=5, champion_list=False):\n",
    "    results_cosine, results_jaccard = query_scoring(query, len(docs), dictionary, result_numbers, champion_list)\n",
    "    \n",
    "    if not results_cosine and not results_jaccard:\n",
    "        print(\"no results found\")\n",
    "        return {}, {}\n",
    "\n",
    "    print(\"=== Cosine Scores ===\")\n",
    "    r1 = print_results(results_cosine)\n",
    "\n",
    "    print(\"\\n=== Jaccard Scores ===\")\n",
    "    r2 = print_results(results_jaccard)\n",
    "\n",
    "    return r1, r2"
   ],
   "metadata": {
    "collapsed": false,
    "ExecuteTime": {
     "end_time": "2025-01-10T23:02:26.887154Z",
     "start_time": "2025-01-10T23:02:26.880766Z"
    }
   },
   "id": "41aa14fca3cebbff"
  },
  {
   "cell_type": "markdown",
   "source": [],
   "metadata": {
    "collapsed": false
   },
   "id": "87f780752010a316"
  },
  {
   "cell_type": "code",
   "execution_count": 42,
   "outputs": [
    {
     "name": "stdout",
     "output_type": "stream",
     "text": [
      "{'کریسمس': 1}\n",
      "=== Cosine Scores ===\n",
      "---------- Results ----------\n",
      "Rank: 1 | ID: 5933\n",
      "Title : ستاره اسپانیایی؛ هدیه کریسمس گواردیولا به ژاوی+عکس\n",
      "URL   : https://www.farsnews.ir/news/14001007000739/ستاره-اسپانیایی-هدیه-کریسمس-گواردیولا-به-ژاوی-عکس\n",
      "--------------------------------------------------\n",
      "Rank: 2 | ID: 6117\n",
      "Title : کی‌روش «دیکتاتور» لقب گرفت/اختلاف مرد پرتغالی با مصری‌ها به خاطر کریسمس+عکس\n",
      "URL   : https://www.farsnews.ir/news/14001005000165/کی‌روش-دیکتاتور-لقب-گرفت-اختلاف-مرد-پرتغالی-با-مصری‌ها-به-خاطر-کریسمس\n",
      "--------------------------------------------------\n",
      "Rank: 3 | ID: 6120\n",
      "Title : کشتار در ورزشگاه فوتبال در آستانه سال جدید\n",
      "URL   : https://www.farsnews.ir/news/14001005000143/کشتار-در-ورزشگاه-فوتبال-در-آستانه-سال-جدید\n",
      "--------------------------------------------------\n",
      "Rank: 4 | ID: 5926\n",
      "Title : مهاجم خارجی مس رفسنجان،4 کودک را به محل تحصیل برگرداند +عکس\n",
      "URL   : https://www.farsnews.ir/news/14001007000809/مهاجم-خارجی-مس-رفسنجان4-کودک-را-به-محل-تحصیل-برگرداند-عکس\n",
      "--------------------------------------------------\n",
      "Rank: 5 | ID: 5483\n",
      "Title : مسی چه زمانی به پاریس برمی گردد؟\n",
      "URL   : https://www.farsnews.ir/news/14001014000228/مسی-چه-زمانی-به-پاریس-برمی-گردد\n",
      "--------------------------------------------------\n",
      "\n",
      "=== Jaccard Scores ===\n",
      "---------- Results ----------\n",
      "Rank: 1 | ID: 5933\n",
      "Title : ستاره اسپانیایی؛ هدیه کریسمس گواردیولا به ژاوی+عکس\n",
      "URL   : https://www.farsnews.ir/news/14001007000739/ستاره-اسپانیایی-هدیه-کریسمس-گواردیولا-به-ژاوی-عکس\n",
      "--------------------------------------------------\n",
      "Rank: 2 | ID: 5926\n",
      "Title : مهاجم خارجی مس رفسنجان،4 کودک را به محل تحصیل برگرداند +عکس\n",
      "URL   : https://www.farsnews.ir/news/14001007000809/مهاجم-خارجی-مس-رفسنجان4-کودک-را-به-محل-تحصیل-برگرداند-عکس\n",
      "--------------------------------------------------\n",
      "Rank: 3 | ID: 6120\n",
      "Title : کشتار در ورزشگاه فوتبال در آستانه سال جدید\n",
      "URL   : https://www.farsnews.ir/news/14001005000143/کشتار-در-ورزشگاه-فوتبال-در-آستانه-سال-جدید\n",
      "--------------------------------------------------\n",
      "Rank: 4 | ID: 5483\n",
      "Title : مسی چه زمانی به پاریس برمی گردد؟\n",
      "URL   : https://www.farsnews.ir/news/14001014000228/مسی-چه-زمانی-به-پاریس-برمی-گردد\n",
      "--------------------------------------------------\n",
      "Rank: 5 | ID: 5431\n",
      "Title : وقتی زیدان به رئال مادرید بازگشت+افتخارات\n",
      "URL   : https://www.farsnews.ir/news/14001014000983/وقتی-زیدان-به-رئال-مادرید-بازگشت-افتخارات\n",
      "--------------------------------------------------\n"
     ]
    }
   ],
   "source": [
    "r1, r2 = query_search('کریسمس', result_numbers = 5, champion_list = True)"
   ],
   "metadata": {
    "collapsed": false,
    "ExecuteTime": {
     "end_time": "2025-01-10T23:02:26.932662Z",
     "start_time": "2025-01-10T23:02:26.906069Z"
    }
   },
   "id": "cdd17c22afceb2ac"
  }
 ],
 "metadata": {
  "kernelspec": {
   "display_name": "Python 3",
   "language": "python",
   "name": "python3"
  },
  "language_info": {
   "codemirror_mode": {
    "name": "ipython",
    "version": 2
   },
   "file_extension": ".py",
   "mimetype": "text/x-python",
   "name": "python",
   "nbconvert_exporter": "python",
   "pygments_lexer": "ipython2",
   "version": "2.7.6"
  }
 },
 "nbformat": 4,
 "nbformat_minor": 5
}
